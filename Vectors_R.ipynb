{
  "nbformat": 4,
  "nbformat_minor": 0,
  "metadata": {
    "colab": {
      "provenance": [],
      "authorship_tag": "ABX9TyP3xd0TieVuZN4gUIPWThn3",
      "include_colab_link": true
    },
    "kernelspec": {
      "name": "ir",
      "display_name": "R"
    },
    "language_info": {
      "name": "R"
    }
  },
  "cells": [
    {
      "cell_type": "markdown",
      "metadata": {
        "id": "view-in-github",
        "colab_type": "text"
      },
      "source": [
        "<a href=\"https://colab.research.google.com/github/balashiva0011/introduction-to-R-Programming-language-using-R-studio/blob/main/Vectors_R.ipynb\" target=\"_parent\"><img src=\"https://colab.research.google.com/assets/colab-badge.svg\" alt=\"Open In Colab\"/></a>"
      ]
    },
    {
      "cell_type": "markdown",
      "source": [
        "## Vectors and lists in R"
      ],
      "metadata": {
        "id": "A-i79mFFpp9s"
      }
    },
    {
      "cell_type": "markdown",
      "source": [
        "##For example, you can use the c() function to store numeric data in a vector."
      ],
      "metadata": {
        "id": "8Lfd5ovdqNw5"
      }
    },
    {
      "cell_type": "code",
      "execution_count": null,
      "metadata": {
        "colab": {
          "base_uri": "https://localhost:8080/",
          "height": 34
        },
        "id": "TcWvDPxekup2",
        "outputId": "39210ea6-13dd-4fea-e6bd-cf5dc9eba6bb"
      },
      "outputs": [
        {
          "output_type": "display_data",
          "data": {
            "text/html": [
              "<style>\n",
              ".list-inline {list-style: none; margin:0; padding: 0}\n",
              ".list-inline>li {display: inline-block}\n",
              ".list-inline>li:not(:last-child)::after {content: \"\\00b7\"; padding: 0 .5ex}\n",
              "</style>\n",
              "<ol class=list-inline><li>1</li><li>5</li><li>15</li></ol>\n"
            ],
            "text/markdown": "1. 1\n2. 5\n3. 15\n\n\n",
            "text/latex": "\\begin{enumerate*}\n\\item 1\n\\item 5\n\\item 15\n\\end{enumerate*}\n",
            "text/plain": [
              "[1]  1  5 15"
            ]
          },
          "metadata": {}
        }
      ],
      "source": [
        "c(1L, 5L, 15L)"
      ]
    },
    {
      "cell_type": "code",
      "source": [
        "c(2.5, 48.5, 101.5)"
      ],
      "metadata": {
        "colab": {
          "base_uri": "https://localhost:8080/",
          "height": 34
        },
        "id": "nezO_AVCrxfU",
        "outputId": "65e3b7d6-ab40-4b46-ebb8-746d677bbbeb"
      },
      "execution_count": null,
      "outputs": [
        {
          "output_type": "display_data",
          "data": {
            "text/html": [
              "<style>\n",
              ".list-inline {list-style: none; margin:0; padding: 0}\n",
              ".list-inline>li {display: inline-block}\n",
              ".list-inline>li:not(:last-child)::after {content: \"\\00b7\"; padding: 0 .5ex}\n",
              "</style>\n",
              "<ol class=list-inline><li>2.5</li><li>48.5</li><li>101.5</li></ol>\n"
            ],
            "text/markdown": "1. 2.5\n2. 48.5\n3. 101.5\n\n\n",
            "text/latex": "\\begin{enumerate*}\n\\item 2.5\n\\item 48.5\n\\item 101.5\n\\end{enumerate*}\n",
            "text/plain": [
              "[1]   2.5  48.5 101.5"
            ]
          },
          "metadata": {}
        }
      ]
    },
    {
      "cell_type": "code",
      "source": [
        "c(\"Sara\" , \"Lisa\" , \"Anna\")"
      ],
      "metadata": {
        "colab": {
          "base_uri": "https://localhost:8080/",
          "height": 34
        },
        "id": "ACZ5V3_NtI_e",
        "outputId": "abfdf966-d224-44a3-aadd-f6bf846f7c38"
      },
      "execution_count": null,
      "outputs": [
        {
          "output_type": "display_data",
          "data": {
            "text/html": [
              "<style>\n",
              ".list-inline {list-style: none; margin:0; padding: 0}\n",
              ".list-inline>li {display: inline-block}\n",
              ".list-inline>li:not(:last-child)::after {content: \"\\00b7\"; padding: 0 .5ex}\n",
              "</style>\n",
              "<ol class=list-inline><li>'Sara'</li><li>'Lisa'</li><li>'Anna'</li></ol>\n"
            ],
            "text/markdown": "1. 'Sara'\n2. 'Lisa'\n3. 'Anna'\n\n\n",
            "text/latex": "\\begin{enumerate*}\n\\item 'Sara'\n\\item 'Lisa'\n\\item 'Anna'\n\\end{enumerate*}\n",
            "text/plain": [
              "[1] \"Sara\" \"Lisa\" \"Anna\""
            ]
          },
          "metadata": {}
        }
      ]
    },
    {
      "cell_type": "code",
      "source": [
        " c(TRUE, FALSE, TRUE)"
      ],
      "metadata": {
        "colab": {
          "base_uri": "https://localhost:8080/",
          "height": 34
        },
        "id": "vYuKhl8gtioz",
        "outputId": "b34e658a-7bc4-4ff2-c384-9a83468fe574"
      },
      "execution_count": null,
      "outputs": [
        {
          "output_type": "display_data",
          "data": {
            "text/html": [
              "<style>\n",
              ".list-inline {list-style: none; margin:0; padding: 0}\n",
              ".list-inline>li {display: inline-block}\n",
              ".list-inline>li:not(:last-child)::after {content: \"\\00b7\"; padding: 0 .5ex}\n",
              "</style>\n",
              "<ol class=list-inline><li>TRUE</li><li>FALSE</li><li>TRUE</li></ol>\n"
            ],
            "text/markdown": "1. TRUE\n2. FALSE\n3. TRUE\n\n\n",
            "text/latex": "\\begin{enumerate*}\n\\item TRUE\n\\item FALSE\n\\item TRUE\n\\end{enumerate*}\n",
            "text/plain": [
              "[1]  TRUE FALSE  TRUE"
            ]
          },
          "metadata": {}
        }
      ]
    },
    {
      "cell_type": "code",
      "source": [
        "typeof(c(\"a\" , \"b\"))"
      ],
      "metadata": {
        "colab": {
          "base_uri": "https://localhost:8080/",
          "height": 34
        },
        "id": "4M6uJ4l_ttLH",
        "outputId": "2e1316d0-2661-4e85-fdd5-396449974d5f"
      },
      "execution_count": null,
      "outputs": [
        {
          "output_type": "display_data",
          "data": {
            "text/html": [
              "'character'"
            ],
            "text/markdown": "'character'",
            "text/latex": "'character'",
            "text/plain": [
              "[1] \"character\""
            ]
          },
          "metadata": {}
        }
      ]
    },
    {
      "cell_type": "code",
      "source": [
        "typeof(c(1L , 3L))"
      ],
      "metadata": {
        "colab": {
          "base_uri": "https://localhost:8080/",
          "height": 34
        },
        "id": "bv7HIYpquH7O",
        "outputId": "e3c3d8ff-a047-4a9a-ab35-e21fbeed0f25"
      },
      "execution_count": null,
      "outputs": [
        {
          "output_type": "display_data",
          "data": {
            "text/html": [
              "'integer'"
            ],
            "text/markdown": "'integer'",
            "text/latex": "'integer'",
            "text/plain": [
              "[1] \"integer\""
            ]
          },
          "metadata": {}
        }
      ]
    },
    {
      "cell_type": "code",
      "source": [
        "x <- c(33.5, 57.75, 120.05)"
      ],
      "metadata": {
        "id": "ax5PpDxPugB9"
      },
      "execution_count": null,
      "outputs": []
    },
    {
      "cell_type": "code",
      "source": [
        "length(x)"
      ],
      "metadata": {
        "colab": {
          "base_uri": "https://localhost:8080/",
          "height": 34
        },
        "id": "TUBeN69Aujye",
        "outputId": "e677d188-58e3-43df-f0aa-f1980c2a39bf"
      },
      "execution_count": null,
      "outputs": [
        {
          "output_type": "display_data",
          "data": {
            "text/html": [
              "3"
            ],
            "text/markdown": "3",
            "text/latex": "3",
            "text/plain": [
              "[1] 3"
            ]
          },
          "metadata": {}
        }
      ]
    },
    {
      "cell_type": "code",
      "source": [
        "x\t<- c(2L, 5L, 11L)\n",
        "is.integer(x)"
      ],
      "metadata": {
        "colab": {
          "base_uri": "https://localhost:8080/",
          "height": 34
        },
        "id": "frdT-YQMumFd",
        "outputId": "f7ea92c8-f158-4305-cf85-e4a4118f9ce4"
      },
      "execution_count": null,
      "outputs": [
        {
          "output_type": "display_data",
          "data": {
            "text/html": [
              "TRUE"
            ],
            "text/markdown": "TRUE",
            "text/latex": "TRUE",
            "text/plain": [
              "[1] TRUE"
            ]
          },
          "metadata": {}
        }
      ]
    },
    {
      "cell_type": "code",
      "source": [
        "y\t<- c(TRUE, TRUE, FALSE)"
      ],
      "metadata": {
        "id": "mjpSJOq-uxJE"
      },
      "execution_count": null,
      "outputs": []
    },
    {
      "cell_type": "code",
      "source": [
        " is.character(y)"
      ],
      "metadata": {
        "colab": {
          "base_uri": "https://localhost:8080/",
          "height": 34
        },
        "id": "VQq66dL1u2Iq",
        "outputId": "93f9212f-2ad8-4885-9ec2-a8fcd39a49b7"
      },
      "execution_count": null,
      "outputs": [
        {
          "output_type": "display_data",
          "data": {
            "text/html": [
              "FALSE"
            ],
            "text/markdown": "FALSE",
            "text/latex": "FALSE",
            "text/plain": [
              "[1] FALSE"
            ]
          },
          "metadata": {}
        }
      ]
    },
    {
      "cell_type": "markdown",
      "source": [
        "## Lists are different from atomic vectors because their elements can be of any type—like dates, data frames, vectors, matrices, and more. Lists can even contain other lists.\n",
        "## You can create a list with the list() function. Similar to the c() function, the list() function is just list followed by the values you want in your list inside parentheses: list(x, y, z, …). In this example, we create a list that contains four different kinds of elements: character (“a”), integer (1L), double (1.5), and logical (TRUE).\n"
      ],
      "metadata": {
        "id": "MEcpqRUSu_PP"
      }
    },
    {
      "cell_type": "code",
      "source": [
        "list(\"a\", 1L, 1.5, TRUE)"
      ],
      "metadata": {
        "colab": {
          "base_uri": "https://localhost:8080/",
          "height": 114
        },
        "id": "rByO7AI2u97i",
        "outputId": "81bfa6c9-7baa-461d-9310-148cfa65bb4d"
      },
      "execution_count": null,
      "outputs": [
        {
          "output_type": "display_data",
          "data": {
            "text/html": [
              "<ol>\n",
              "\t<li>'a'</li>\n",
              "\t<li>1</li>\n",
              "\t<li>1.5</li>\n",
              "\t<li>TRUE</li>\n",
              "</ol>\n"
            ],
            "text/markdown": "1. 'a'\n2. 1\n3. 1.5\n4. TRUE\n\n\n",
            "text/latex": "\\begin{enumerate}\n\\item 'a'\n\\item 1\n\\item 1.5\n\\item TRUE\n\\end{enumerate}\n",
            "text/plain": [
              "[[1]]\n",
              "[1] \"a\"\n",
              "\n",
              "[[2]]\n",
              "[1] 1\n",
              "\n",
              "[[3]]\n",
              "[1] 1.5\n",
              "\n",
              "[[4]]\n",
              "[1] TRUE\n"
            ]
          },
          "metadata": {}
        }
      ]
    },
    {
      "cell_type": "code",
      "source": [
        "list(list(list(1 , 3, 5)))"
      ],
      "metadata": {
        "colab": {
          "base_uri": "https://localhost:8080/",
          "height": 97
        },
        "id": "BH1d2vSBvLh8",
        "outputId": "56c6b641-620f-4398-dec0-7dd1773f5b7a"
      },
      "execution_count": null,
      "outputs": [
        {
          "output_type": "display_data",
          "data": {
            "text/html": [
              "<ol>\n",
              "\t<li><ol>\n",
              "\t<li><ol>\n",
              "\t<li>1</li>\n",
              "\t<li>3</li>\n",
              "\t<li>5</li>\n",
              "</ol>\n",
              "</li>\n",
              "</ol>\n",
              "</li>\n",
              "</ol>\n"
            ],
            "text/markdown": "1. 1. 1. 1\n2. 3\n3. 5\n\n\n\n\n\n\n\n\n",
            "text/latex": "\\begin{enumerate}\n\\item \\begin{enumerate}\n\\item \\begin{enumerate}\n\\item 1\n\\item 3\n\\item 5\n\\end{enumerate}\n\n\\end{enumerate}\n\n\\end{enumerate}\n",
            "text/plain": [
              "[[1]]\n",
              "[[1]][[1]]\n",
              "[[1]][[1]][[1]]\n",
              "[1] 1\n",
              "\n",
              "[[1]][[1]][[2]]\n",
              "[1] 3\n",
              "\n",
              "[[1]][[1]][[3]]\n",
              "[1] 5\n",
              "\n",
              "\n"
            ]
          },
          "metadata": {}
        }
      ]
    },
    {
      "cell_type": "code",
      "source": [
        "str(list(\"a\", 1L, 1.5, TRUE))"
      ],
      "metadata": {
        "colab": {
          "base_uri": "https://localhost:8080/"
        },
        "id": "MrKU9hTavP7E",
        "outputId": "145f16de-dbb8-4613-96f4-f7cdf218c183"
      },
      "execution_count": null,
      "outputs": [
        {
          "output_type": "stream",
          "name": "stdout",
          "text": [
            "List of 4\n",
            " $ : chr \"a\"\n",
            " $ : int 1\n",
            " $ : num 1.5\n",
            " $ : logi TRUE\n"
          ]
        }
      ]
    },
    {
      "cell_type": "code",
      "source": [
        "list(\"Chicago\"= 1, \"New York\" = 2, \"Los Angeles\" = 3)"
      ],
      "metadata": {
        "colab": {
          "base_uri": "https://localhost:8080/",
          "height": 149
        },
        "id": "iv0GlSmwvYwS",
        "outputId": "86e56294-b1f5-4460-f3c6-0fdf250b7d66"
      },
      "execution_count": null,
      "outputs": [
        {
          "output_type": "display_data",
          "data": {
            "text/html": [
              "<dl>\n",
              "\t<dt>$Chicago</dt>\n",
              "\t\t<dd>1</dd>\n",
              "\t<dt>$`New York`</dt>\n",
              "\t\t<dd>2</dd>\n",
              "\t<dt>$`Los Angeles`</dt>\n",
              "\t\t<dd>3</dd>\n",
              "</dl>\n"
            ],
            "text/markdown": "$Chicago\n:   1\n$`New York`\n:   2\n$`Los Angeles`\n:   3\n\n\n",
            "text/latex": "\\begin{description}\n\\item[\\$Chicago] 1\n\\item[\\$`New York`] 2\n\\item[\\$`Los Angeles`] 3\n\\end{description}\n",
            "text/plain": [
              "$Chicago\n",
              "[1] 1\n",
              "\n",
              "$`New York`\n",
              "[1] 2\n",
              "\n",
              "$`Los Angeles`\n",
              "[1] 3\n"
            ]
          },
          "metadata": {}
        }
      ]
    }
  ]
}