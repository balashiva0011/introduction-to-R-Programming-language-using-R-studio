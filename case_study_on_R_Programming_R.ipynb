{
  "nbformat": 4,
  "nbformat_minor": 0,
  "metadata": {
    "colab": {
      "provenance": [],
      "mount_file_id": "1ZSGPW3O1qnpQqnAklvq66BaDAIrYJRQh",
      "authorship_tag": "ABX9TyNmzDRI68hZIaDreCHzPb0Z",
      "include_colab_link": true
    },
    "kernelspec": {
      "name": "ir",
      "display_name": "R"
    },
    "language_info": {
      "name": "R"
    }
  },
  "cells": [
    {
      "cell_type": "markdown",
      "metadata": {
        "id": "view-in-github",
        "colab_type": "text"
      },
      "source": [
        "<a href=\"https://colab.research.google.com/github/balashiva0011/introduction-to-R-Programming-language-using-R-studio/blob/main/case_study_on_R_Programming_R.ipynb\" target=\"_parent\"><img src=\"https://colab.research.google.com/assets/colab-badge.svg\" alt=\"Open In Colab\"/></a>"
      ]
    },
    {
      "cell_type": "markdown",
      "source": [
        "\n",
        "\n",
        "## Case study on R programming Language\n",
        "\n",
        "\n"
      ],
      "metadata": {
        "id": "kwIz86imEKBl"
      }
    },
    {
      "cell_type": "markdown",
      "source": [
        "## start began with importing  dataset"
      ],
      "metadata": {
        "id": "i80XJ9avEKfo"
      }
    },
    {
      "cell_type": "code",
      "execution_count": 1,
      "metadata": {
        "id": "u1IZapTREHy1"
      },
      "outputs": [],
      "source": [
        "flight <- read.csv(\"/content/drive/MyDrive/flight_ticket.csv\")"
      ]
    },
    {
      "cell_type": "markdown",
      "source": [
        "##install skimr\n",
        "##install tidyverse\n"
      ],
      "metadata": {
        "id": "wFDiDmthEpAl"
      }
    },
    {
      "cell_type": "code",
      "source": [
        "install.packages(\"skimr\")"
      ],
      "metadata": {
        "colab": {
          "base_uri": "https://localhost:8080/"
        },
        "id": "rl7S4vQvEny_",
        "outputId": "5fda5451-386c-432b-b85a-6f6582b84d63"
      },
      "execution_count": 2,
      "outputs": [
        {
          "output_type": "stream",
          "name": "stderr",
          "text": [
            "Installing package into ‘/usr/local/lib/R/site-library’\n",
            "(as ‘lib’ is unspecified)\n",
            "\n"
          ]
        }
      ]
    },
    {
      "cell_type": "code",
      "source": [
        "install.packages(\"tidyverse\")"
      ],
      "metadata": {
        "colab": {
          "base_uri": "https://localhost:8080/"
        },
        "id": "tU8ymb_jE9nk",
        "outputId": "2add231d-6851-4614-b3b4-72e69db3d4e6"
      },
      "execution_count": 3,
      "outputs": [
        {
          "output_type": "stream",
          "name": "stderr",
          "text": [
            "Installing package into ‘/usr/local/lib/R/site-library’\n",
            "(as ‘lib’ is unspecified)\n",
            "\n"
          ]
        }
      ]
    },
    {
      "cell_type": "code",
      "source": [
        "library(\"tidyverse\")"
      ],
      "metadata": {
        "colab": {
          "base_uri": "https://localhost:8080/"
        },
        "id": "YNqVv9SnFIib",
        "outputId": "a08135b0-a66e-4194-8a2c-d41a2411265c"
      },
      "execution_count": 4,
      "outputs": [
        {
          "output_type": "stream",
          "name": "stderr",
          "text": [
            "── \u001b[1mAttaching core tidyverse packages\u001b[22m ──────────────────────── tidyverse 2.0.0 ──\n",
            "\u001b[32m✔\u001b[39m \u001b[34mdplyr    \u001b[39m 1.1.4     \u001b[32m✔\u001b[39m \u001b[34mreadr    \u001b[39m 2.1.5\n",
            "\u001b[32m✔\u001b[39m \u001b[34mforcats  \u001b[39m 1.0.0     \u001b[32m✔\u001b[39m \u001b[34mstringr  \u001b[39m 1.5.1\n",
            "\u001b[32m✔\u001b[39m \u001b[34mggplot2  \u001b[39m 3.5.1     \u001b[32m✔\u001b[39m \u001b[34mtibble   \u001b[39m 3.2.1\n",
            "\u001b[32m✔\u001b[39m \u001b[34mlubridate\u001b[39m 1.9.3     \u001b[32m✔\u001b[39m \u001b[34mtidyr    \u001b[39m 1.3.1\n",
            "\u001b[32m✔\u001b[39m \u001b[34mpurrr    \u001b[39m 1.0.2     \n",
            "── \u001b[1mConflicts\u001b[22m ────────────────────────────────────────── tidyverse_conflicts() ──\n",
            "\u001b[31m✖\u001b[39m \u001b[34mdplyr\u001b[39m::\u001b[32mfilter()\u001b[39m masks \u001b[34mstats\u001b[39m::filter()\n",
            "\u001b[31m✖\u001b[39m \u001b[34mdplyr\u001b[39m::\u001b[32mlag()\u001b[39m    masks \u001b[34mstats\u001b[39m::lag()\n",
            "\u001b[36mℹ\u001b[39m Use the conflicted package (\u001b[3m\u001b[34m<http://conflicted.r-lib.org/>\u001b[39m\u001b[23m) to force all conflicts to become errors\n"
          ]
        }
      ]
    },
    {
      "cell_type": "code",
      "source": [
        "library(\"skimr\")"
      ],
      "metadata": {
        "id": "v91QtM9bFOH6"
      },
      "execution_count": 5,
      "outputs": []
    },
    {
      "cell_type": "code",
      "source": [
        "library(\"dplyr\")"
      ],
      "metadata": {
        "id": "7cXlTz8ZFRac"
      },
      "execution_count": 6,
      "outputs": []
    },
    {
      "cell_type": "code",
      "source": [
        "head(flight)"
      ],
      "metadata": {
        "colab": {
          "base_uri": "https://localhost:8080/",
          "height": 306
        },
        "id": "CiiOk0-OFWUG",
        "outputId": "36c17e36-d1e6-465c-ff06-a5e8014ee4a1"
      },
      "execution_count": 7,
      "outputs": [
        {
          "output_type": "display_data",
          "data": {
            "text/html": [
              "<table class=\"dataframe\">\n",
              "<caption>A data.frame: 6 × 14</caption>\n",
              "<thead>\n",
              "\t<tr><th></th><th scope=col>Airline</th><th scope=col>Source</th><th scope=col>Destination</th><th scope=col>Total_Stops</th><th scope=col>Price</th><th scope=col>Date</th><th scope=col>Month</th><th scope=col>Year</th><th scope=col>Dep_hours</th><th scope=col>Dep_min</th><th scope=col>Arrival_hours</th><th scope=col>Arrival_min</th><th scope=col>Duration_hours</th><th scope=col>Duration_min</th></tr>\n",
              "\t<tr><th></th><th scope=col>&lt;chr&gt;</th><th scope=col>&lt;chr&gt;</th><th scope=col>&lt;chr&gt;</th><th scope=col>&lt;int&gt;</th><th scope=col>&lt;int&gt;</th><th scope=col>&lt;int&gt;</th><th scope=col>&lt;int&gt;</th><th scope=col>&lt;int&gt;</th><th scope=col>&lt;int&gt;</th><th scope=col>&lt;int&gt;</th><th scope=col>&lt;int&gt;</th><th scope=col>&lt;int&gt;</th><th scope=col>&lt;int&gt;</th><th scope=col>&lt;int&gt;</th></tr>\n",
              "</thead>\n",
              "<tbody>\n",
              "\t<tr><th scope=row>1</th><td>Air Asia </td><td>Banglore</td><td>Delhi   </td><td>0</td><td>3383</td><td> 6</td><td>5</td><td>2019</td><td>11</td><td>10</td><td>13</td><td>55</td><td> 2</td><td>45</td></tr>\n",
              "\t<tr><th scope=row>2</th><td>Air Asia </td><td>Banglore</td><td>Delhi   </td><td>0</td><td>4483</td><td> 3</td><td>4</td><td>2019</td><td>23</td><td>55</td><td> 2</td><td>45</td><td> 2</td><td>50</td></tr>\n",
              "\t<tr><th scope=row>3</th><td>Air Asia </td><td>Banglore</td><td>Delhi   </td><td>0</td><td>3383</td><td>12</td><td>6</td><td>2019</td><td>11</td><td>10</td><td>13</td><td>55</td><td> 2</td><td>45</td></tr>\n",
              "\t<tr><th scope=row>4</th><td>Air Asia </td><td>Kolkata </td><td>Banglore</td><td>0</td><td>4409</td><td> 1</td><td>5</td><td>2019</td><td>10</td><td>20</td><td>12</td><td>55</td><td> 2</td><td>35</td></tr>\n",
              "\t<tr><th scope=row>5</th><td>Air India</td><td>Kolkata </td><td>Banglore</td><td>2</td><td>7662</td><td> 1</td><td>5</td><td>2019</td><td> 5</td><td>50</td><td>13</td><td>15</td><td> 7</td><td>25</td></tr>\n",
              "\t<tr><th scope=row>6</th><td>Air India</td><td>Delhi   </td><td>Cochin  </td><td>1</td><td>8907</td><td> 1</td><td>6</td><td>2019</td><td> 9</td><td>45</td><td>23</td><td> 0</td><td>13</td><td>15</td></tr>\n",
              "</tbody>\n",
              "</table>\n"
            ],
            "text/markdown": "\nA data.frame: 6 × 14\n\n| <!--/--> | Airline &lt;chr&gt; | Source &lt;chr&gt; | Destination &lt;chr&gt; | Total_Stops &lt;int&gt; | Price &lt;int&gt; | Date &lt;int&gt; | Month &lt;int&gt; | Year &lt;int&gt; | Dep_hours &lt;int&gt; | Dep_min &lt;int&gt; | Arrival_hours &lt;int&gt; | Arrival_min &lt;int&gt; | Duration_hours &lt;int&gt; | Duration_min &lt;int&gt; |\n|---|---|---|---|---|---|---|---|---|---|---|---|---|---|---|\n| 1 | Air Asia  | Banglore | Delhi    | 0 | 3383 |  6 | 5 | 2019 | 11 | 10 | 13 | 55 |  2 | 45 |\n| 2 | Air Asia  | Banglore | Delhi    | 0 | 4483 |  3 | 4 | 2019 | 23 | 55 |  2 | 45 |  2 | 50 |\n| 3 | Air Asia  | Banglore | Delhi    | 0 | 3383 | 12 | 6 | 2019 | 11 | 10 | 13 | 55 |  2 | 45 |\n| 4 | Air Asia  | Kolkata  | Banglore | 0 | 4409 |  1 | 5 | 2019 | 10 | 20 | 12 | 55 |  2 | 35 |\n| 5 | Air India | Kolkata  | Banglore | 2 | 7662 |  1 | 5 | 2019 |  5 | 50 | 13 | 15 |  7 | 25 |\n| 6 | Air India | Delhi    | Cochin   | 1 | 8907 |  1 | 6 | 2019 |  9 | 45 | 23 |  0 | 13 | 15 |\n\n",
            "text/latex": "A data.frame: 6 × 14\n\\begin{tabular}{r|llllllllllllll}\n  & Airline & Source & Destination & Total\\_Stops & Price & Date & Month & Year & Dep\\_hours & Dep\\_min & Arrival\\_hours & Arrival\\_min & Duration\\_hours & Duration\\_min\\\\\n  & <chr> & <chr> & <chr> & <int> & <int> & <int> & <int> & <int> & <int> & <int> & <int> & <int> & <int> & <int>\\\\\n\\hline\n\t1 & Air Asia  & Banglore & Delhi    & 0 & 3383 &  6 & 5 & 2019 & 11 & 10 & 13 & 55 &  2 & 45\\\\\n\t2 & Air Asia  & Banglore & Delhi    & 0 & 4483 &  3 & 4 & 2019 & 23 & 55 &  2 & 45 &  2 & 50\\\\\n\t3 & Air Asia  & Banglore & Delhi    & 0 & 3383 & 12 & 6 & 2019 & 11 & 10 & 13 & 55 &  2 & 45\\\\\n\t4 & Air Asia  & Kolkata  & Banglore & 0 & 4409 &  1 & 5 & 2019 & 10 & 20 & 12 & 55 &  2 & 35\\\\\n\t5 & Air India & Kolkata  & Banglore & 2 & 7662 &  1 & 5 & 2019 &  5 & 50 & 13 & 15 &  7 & 25\\\\\n\t6 & Air India & Delhi    & Cochin   & 1 & 8907 &  1 & 6 & 2019 &  9 & 45 & 23 &  0 & 13 & 15\\\\\n\\end{tabular}\n",
            "text/plain": [
              "  Airline   Source   Destination Total_Stops Price Date Month Year Dep_hours\n",
              "1 Air Asia  Banglore Delhi       0           3383   6   5     2019 11       \n",
              "2 Air Asia  Banglore Delhi       0           4483   3   4     2019 23       \n",
              "3 Air Asia  Banglore Delhi       0           3383  12   6     2019 11       \n",
              "4 Air Asia  Kolkata  Banglore    0           4409   1   5     2019 10       \n",
              "5 Air India Kolkata  Banglore    2           7662   1   5     2019  5       \n",
              "6 Air India Delhi    Cochin      1           8907   1   6     2019  9       \n",
              "  Dep_min Arrival_hours Arrival_min Duration_hours Duration_min\n",
              "1 10      13            55           2             45          \n",
              "2 55       2            45           2             50          \n",
              "3 10      13            55           2             45          \n",
              "4 20      12            55           2             35          \n",
              "5 50      13            15           7             25          \n",
              "6 45      23             0          13             15          "
            ]
          },
          "metadata": {}
        }
      ]
    },
    {
      "cell_type": "code",
      "source": [
        "nrow(flight)"
      ],
      "metadata": {
        "colab": {
          "base_uri": "https://localhost:8080/",
          "height": 34
        },
        "id": "N9pw_AwZFapz",
        "outputId": "ee86d403-c0d4-436a-a9ee-2645be6e737f"
      },
      "execution_count": 8,
      "outputs": [
        {
          "output_type": "display_data",
          "data": {
            "text/html": [
              "264"
            ],
            "text/markdown": "264",
            "text/latex": "264",
            "text/plain": [
              "[1] 264"
            ]
          },
          "metadata": {}
        }
      ]
    },
    {
      "cell_type": "code",
      "source": [
        "colnames(flight)"
      ],
      "metadata": {
        "colab": {
          "base_uri": "https://localhost:8080/",
          "height": 34
        },
        "id": "CMrqrIs4FkwH",
        "outputId": "0e45f346-42d5-4047-cb76-3cd1dc251820"
      },
      "execution_count": 10,
      "outputs": [
        {
          "output_type": "display_data",
          "data": {
            "text/html": [
              "<style>\n",
              ".list-inline {list-style: none; margin:0; padding: 0}\n",
              ".list-inline>li {display: inline-block}\n",
              ".list-inline>li:not(:last-child)::after {content: \"\\00b7\"; padding: 0 .5ex}\n",
              "</style>\n",
              "<ol class=list-inline><li>'Airline'</li><li>'Source'</li><li>'Destination'</li><li>'Total_Stops'</li><li>'Price'</li><li>'Date'</li><li>'Month'</li><li>'Year'</li><li>'Dep_hours'</li><li>'Dep_min'</li><li>'Arrival_hours'</li><li>'Arrival_min'</li><li>'Duration_hours'</li><li>'Duration_min'</li></ol>\n"
            ],
            "text/markdown": "1. 'Airline'\n2. 'Source'\n3. 'Destination'\n4. 'Total_Stops'\n5. 'Price'\n6. 'Date'\n7. 'Month'\n8. 'Year'\n9. 'Dep_hours'\n10. 'Dep_min'\n11. 'Arrival_hours'\n12. 'Arrival_min'\n13. 'Duration_hours'\n14. 'Duration_min'\n\n\n",
            "text/latex": "\\begin{enumerate*}\n\\item 'Airline'\n\\item 'Source'\n\\item 'Destination'\n\\item 'Total\\_Stops'\n\\item 'Price'\n\\item 'Date'\n\\item 'Month'\n\\item 'Year'\n\\item 'Dep\\_hours'\n\\item 'Dep\\_min'\n\\item 'Arrival\\_hours'\n\\item 'Arrival\\_min'\n\\item 'Duration\\_hours'\n\\item 'Duration\\_min'\n\\end{enumerate*}\n",
            "text/plain": [
              " [1] \"Airline\"        \"Source\"         \"Destination\"    \"Total_Stops\"   \n",
              " [5] \"Price\"          \"Date\"           \"Month\"          \"Year\"          \n",
              " [9] \"Dep_hours\"      \"Dep_min\"        \"Arrival_hours\"  \"Arrival_min\"   \n",
              "[13] \"Duration_hours\" \"Duration_min\"  "
            ]
          },
          "metadata": {}
        }
      ]
    },
    {
      "cell_type": "code",
      "source": [
        "str(flight)"
      ],
      "metadata": {
        "colab": {
          "base_uri": "https://localhost:8080/"
        },
        "id": "XVKGT3mYFq-K",
        "outputId": "bfe6e05b-1856-4923-ef9c-27126073b6ba"
      },
      "execution_count": 11,
      "outputs": [
        {
          "output_type": "stream",
          "name": "stdout",
          "text": [
            "'data.frame':\t264 obs. of  14 variables:\n",
            " $ Airline       : chr  \"Air Asia\" \"Air Asia\" \"Air Asia\" \"Air Asia\" ...\n",
            " $ Source        : chr  \"Banglore\" \"Banglore\" \"Banglore\" \"Kolkata\" ...\n",
            " $ Destination   : chr  \"Delhi\" \"Delhi\" \"Delhi\" \"Banglore\" ...\n",
            " $ Total_Stops   : int  0 0 0 0 2 1 0 2 2 1 ...\n",
            " $ Price         : int  3383 4483 3383 4409 7662 8907 4667 14011 13381 6955 ...\n",
            " $ Date          : int  6 3 12 1 1 1 24 3 12 21 ...\n",
            " $ Month         : int  5 4 6 5 5 6 6 3 6 3 ...\n",
            " $ Year          : int  2019 2019 2019 2019 2019 2019 2019 2019 2019 2019 ...\n",
            " $ Dep_hours     : int  11 23 11 10 5 9 11 16 20 22 ...\n",
            " $ Dep_min       : int  10 55 10 20 50 45 40 40 15 0 ...\n",
            " $ Arrival_hours : int  13 2 13 12 13 23 13 19 19 13 ...\n",
            " $ Arrival_min   : int  55 45 55 55 15 0 55 15 15 20 ...\n",
            " $ Duration_hours: int  2 2 2 2 7 13 2 26 23 15 ...\n",
            " $ Duration_min  : int  45 50 45 35 25 15 15 35 0 20 ...\n"
          ]
        }
      ]
    },
    {
      "cell_type": "code",
      "source": [
        "summary(flight)"
      ],
      "metadata": {
        "colab": {
          "base_uri": "https://localhost:8080/",
          "height": 503
        },
        "id": "b3WXbmE5FunF",
        "outputId": "3135c1e4-e036-4b87-a5b0-3d0fc6f8a9db"
      },
      "execution_count": 12,
      "outputs": [
        {
          "output_type": "display_data",
          "data": {
            "text/plain": [
              "   Airline             Source          Destination         Total_Stops    \n",
              " Length:264         Length:264         Length:264         Min.   :0.0000  \n",
              " Class :character   Class :character   Class :character   1st Qu.:0.0000  \n",
              " Mode  :character   Mode  :character   Mode  :character   Median :1.0000  \n",
              "                                                          Mean   :0.7765  \n",
              "                                                          3rd Qu.:1.0000  \n",
              "                                                          Max.   :2.0000  \n",
              "     Price            Date           Month           Year        Dep_hours   \n",
              " Min.   : 1965   Min.   : 1.00   Min.   :3.00   Min.   :2019   Min.   : 0.0  \n",
              " 1st Qu.: 5162   1st Qu.: 6.00   1st Qu.:3.75   1st Qu.:2019   1st Qu.: 7.0  \n",
              " Median : 8056   Median :12.00   Median :5.00   Median :2019   Median :11.0  \n",
              " Mean   : 8874   Mean   :13.67   Mean   :4.75   Mean   :2019   Mean   :12.3  \n",
              " 3rd Qu.:12414   3rd Qu.:21.00   3rd Qu.:6.00   3rd Qu.:2019   3rd Qu.:18.0  \n",
              " Max.   :27430   Max.   :27.00   Max.   :6.00   Max.   :2019   Max.   :23.0  \n",
              "    Dep_min      Arrival_hours    Arrival_min    Duration_hours  \n",
              " Min.   : 0.00   Min.   : 0.00   Min.   : 0.00   Min.   : 1.000  \n",
              " 1st Qu.: 5.00   1st Qu.: 8.00   1st Qu.:10.00   1st Qu.: 2.000  \n",
              " Median :20.00   Median :12.50   Median :25.00   Median : 8.500  \n",
              " Mean   :22.78   Mean   :12.91   Mean   :24.45   Mean   : 9.898  \n",
              " 3rd Qu.:40.00   3rd Qu.:19.00   3rd Qu.:35.00   3rd Qu.:15.000  \n",
              " Max.   :55.00   Max.   :23.00   Max.   :55.00   Max.   :37.000  \n",
              "  Duration_min  \n",
              " Min.   : 0.00  \n",
              " 1st Qu.:15.00  \n",
              " Median :25.00  \n",
              " Mean   :27.58  \n",
              " 3rd Qu.:45.00  \n",
              " Max.   :55.00  "
            ]
          },
          "metadata": {}
        }
      ]
    },
    {
      "cell_type": "code",
      "source": [
        "arrange(flight,Airline)"
      ],
      "metadata": {
        "colab": {
          "base_uri": "https://localhost:8080/",
          "height": 1000
        },
        "id": "M-DHiaINFxek",
        "outputId": "8c74199f-293e-4ed8-8ebd-9dd1df2951b0"
      },
      "execution_count": 13,
      "outputs": [
        {
          "output_type": "display_data",
          "data": {
            "text/html": [
              "<table class=\"dataframe\">\n",
              "<caption>A data.frame: 264 × 14</caption>\n",
              "<thead>\n",
              "\t<tr><th scope=col>Airline</th><th scope=col>Source</th><th scope=col>Destination</th><th scope=col>Total_Stops</th><th scope=col>Price</th><th scope=col>Date</th><th scope=col>Month</th><th scope=col>Year</th><th scope=col>Dep_hours</th><th scope=col>Dep_min</th><th scope=col>Arrival_hours</th><th scope=col>Arrival_min</th><th scope=col>Duration_hours</th><th scope=col>Duration_min</th></tr>\n",
              "\t<tr><th scope=col>&lt;chr&gt;</th><th scope=col>&lt;chr&gt;</th><th scope=col>&lt;chr&gt;</th><th scope=col>&lt;int&gt;</th><th scope=col>&lt;int&gt;</th><th scope=col>&lt;int&gt;</th><th scope=col>&lt;int&gt;</th><th scope=col>&lt;int&gt;</th><th scope=col>&lt;int&gt;</th><th scope=col>&lt;int&gt;</th><th scope=col>&lt;int&gt;</th><th scope=col>&lt;int&gt;</th><th scope=col>&lt;int&gt;</th><th scope=col>&lt;int&gt;</th></tr>\n",
              "</thead>\n",
              "<tbody>\n",
              "\t<tr><td>Air Asia </td><td>Banglore</td><td>Delhi    </td><td>0</td><td> 3383</td><td> 6</td><td>5</td><td>2019</td><td>11</td><td>10</td><td>13</td><td>55</td><td> 2</td><td>45</td></tr>\n",
              "\t<tr><td>Air Asia </td><td>Banglore</td><td>Delhi    </td><td>0</td><td> 4483</td><td> 3</td><td>4</td><td>2019</td><td>23</td><td>55</td><td> 2</td><td>45</td><td> 2</td><td>50</td></tr>\n",
              "\t<tr><td>Air Asia </td><td>Banglore</td><td>Delhi    </td><td>0</td><td> 3383</td><td>12</td><td>6</td><td>2019</td><td>11</td><td>10</td><td>13</td><td>55</td><td> 2</td><td>45</td></tr>\n",
              "\t<tr><td>Air Asia </td><td>Kolkata </td><td>Banglore </td><td>0</td><td> 4409</td><td> 1</td><td>5</td><td>2019</td><td>10</td><td>20</td><td>12</td><td>55</td><td> 2</td><td>35</td></tr>\n",
              "\t<tr><td>Air India</td><td>Kolkata </td><td>Banglore </td><td>2</td><td> 7662</td><td> 1</td><td>5</td><td>2019</td><td> 5</td><td>50</td><td>13</td><td>15</td><td> 7</td><td>25</td></tr>\n",
              "\t<tr><td>Air India</td><td>Delhi   </td><td>Cochin   </td><td>1</td><td> 8907</td><td> 1</td><td>6</td><td>2019</td><td> 9</td><td>45</td><td>23</td><td> 0</td><td>13</td><td>15</td></tr>\n",
              "\t<tr><td>Air India</td><td>Chennai </td><td>Kolkata  </td><td>0</td><td> 4667</td><td>24</td><td>6</td><td>2019</td><td>11</td><td>40</td><td>13</td><td>55</td><td> 2</td><td>15</td></tr>\n",
              "\t<tr><td>Air India</td><td>Delhi   </td><td>Cochin   </td><td>2</td><td>14011</td><td> 3</td><td>3</td><td>2019</td><td>16</td><td>40</td><td>19</td><td>15</td><td>26</td><td>35</td></tr>\n",
              "\t<tr><td>Air India</td><td>Delhi   </td><td>Cochin   </td><td>2</td><td>13381</td><td>12</td><td>6</td><td>2019</td><td>20</td><td>15</td><td>19</td><td>15</td><td>23</td><td> 0</td></tr>\n",
              "\t<tr><td>Air India</td><td>Banglore</td><td>New Delhi</td><td>1</td><td> 6955</td><td>21</td><td>3</td><td>2019</td><td>22</td><td> 0</td><td>13</td><td>20</td><td>15</td><td>20</td></tr>\n",
              "\t<tr><td>Air India</td><td>Kolkata </td><td>Banglore </td><td>2</td><td>13227</td><td> 1</td><td>5</td><td>2019</td><td> 9</td><td>50</td><td>23</td><td>15</td><td>13</td><td>25</td></tr>\n",
              "\t<tr><td>Air India</td><td>Kolkata </td><td>Banglore </td><td>0</td><td> 6245</td><td>18</td><td>5</td><td>2019</td><td>14</td><td>15</td><td>16</td><td>45</td><td> 2</td><td>30</td></tr>\n",
              "\t<tr><td>Air India</td><td>Banglore</td><td>New Delhi</td><td>1</td><td> 8714</td><td>15</td><td>3</td><td>2019</td><td> 6</td><td>45</td><td>15</td><td>15</td><td> 8</td><td>30</td></tr>\n",
              "\t<tr><td>Air India</td><td>Chennai </td><td>Kolkata  </td><td>0</td><td> 4667</td><td> 3</td><td>5</td><td>2019</td><td>11</td><td>40</td><td>13</td><td>55</td><td> 2</td><td>15</td></tr>\n",
              "\t<tr><td>Air India</td><td>Kolkata </td><td>Banglore </td><td>1</td><td> 6117</td><td>15</td><td>5</td><td>2019</td><td>19</td><td> 0</td><td>11</td><td> 5</td><td>16</td><td> 5</td></tr>\n",
              "\t<tr><td>Air India</td><td>Banglore</td><td>New Delhi</td><td>2</td><td>17345</td><td> 1</td><td>3</td><td>2019</td><td> 8</td><td>50</td><td>23</td><td>55</td><td>15</td><td> 5</td></tr>\n",
              "\t<tr><td>Air India</td><td>Kolkata </td><td>Banglore </td><td>1</td><td> 8366</td><td> 6</td><td>6</td><td>2019</td><td> 9</td><td>25</td><td>21</td><td>50</td><td>12</td><td>25</td></tr>\n",
              "\t<tr><td>Air India</td><td>Delhi   </td><td>Cochin   </td><td>1</td><td> 5117</td><td> 3</td><td>4</td><td>2019</td><td> 6</td><td> 5</td><td> 9</td><td>25</td><td>27</td><td>20</td></tr>\n",
              "\t<tr><td>Air India</td><td>Mumbai  </td><td>Hyderabad</td><td>0</td><td> 3625</td><td> 6</td><td>5</td><td>2019</td><td>13</td><td>55</td><td>15</td><td>25</td><td> 1</td><td>30</td></tr>\n",
              "\t<tr><td>Air India</td><td>Delhi   </td><td>Cochin   </td><td>2</td><td>10861</td><td>21</td><td>5</td><td>2019</td><td> 5</td><td>55</td><td>19</td><td>15</td><td>13</td><td>20</td></tr>\n",
              "\t<tr><td>Air India</td><td>Delhi   </td><td>Cochin   </td><td>2</td><td>13748</td><td> 6</td><td>3</td><td>2019</td><td> 5</td><td>55</td><td>19</td><td>15</td><td>13</td><td>20</td></tr>\n",
              "\t<tr><td>Air India</td><td>Kolkata </td><td>Banglore </td><td>0</td><td> 4880</td><td>21</td><td>4</td><td>2019</td><td>20</td><td>45</td><td>23</td><td>20</td><td> 2</td><td>35</td></tr>\n",
              "\t<tr><td>Air India</td><td>Kolkata </td><td>Banglore </td><td>1</td><td> 6528</td><td>12</td><td>5</td><td>2019</td><td>14</td><td>35</td><td>14</td><td>35</td><td>24</td><td> 0</td></tr>\n",
              "\t<tr><td>Air India</td><td>Banglore</td><td>Delhi    </td><td>0</td><td> 6121</td><td> 1</td><td>5</td><td>2019</td><td> 6</td><td>10</td><td> 8</td><td>55</td><td> 2</td><td>45</td></tr>\n",
              "\t<tr><td>Air India</td><td>Delhi   </td><td>Cochin   </td><td>2</td><td>11596</td><td> 9</td><td>5</td><td>2019</td><td>12</td><td>55</td><td>19</td><td>15</td><td>30</td><td>20</td></tr>\n",
              "\t<tr><td>Air India</td><td>Delhi   </td><td>Cochin   </td><td>1</td><td>12677</td><td> 6</td><td>3</td><td>2019</td><td>17</td><td>20</td><td> 9</td><td>25</td><td>16</td><td> 5</td></tr>\n",
              "\t<tr><td>Air India</td><td>Mumbai  </td><td>Hyderabad</td><td>0</td><td> 3100</td><td> 3</td><td>5</td><td>2019</td><td>15</td><td> 0</td><td>16</td><td>25</td><td> 1</td><td>25</td></tr>\n",
              "\t<tr><td>Air India</td><td>Delhi   </td><td>Cochin   </td><td>1</td><td>27430</td><td> 1</td><td>3</td><td>2019</td><td>23</td><td> 0</td><td>19</td><td>15</td><td>20</td><td>15</td></tr>\n",
              "\t<tr><td>Air India</td><td>Kolkata </td><td>Banglore </td><td>2</td><td>10676</td><td>21</td><td>5</td><td>2019</td><td>12</td><td> 0</td><td>11</td><td>10</td><td>23</td><td>10</td></tr>\n",
              "\t<tr><td>Air India</td><td>Banglore</td><td>New Delhi</td><td>1</td><td> 5932</td><td>21</td><td>3</td><td>2019</td><td>11</td><td>50</td><td>19</td><td>50</td><td> 8</td><td> 0</td></tr>\n",
              "\t<tr><td>⋮</td><td>⋮</td><td>⋮</td><td>⋮</td><td>⋮</td><td>⋮</td><td>⋮</td><td>⋮</td><td>⋮</td><td>⋮</td><td>⋮</td><td>⋮</td><td>⋮</td><td>⋮</td></tr>\n",
              "\t<tr><td>SpiceJet</td><td>Chennai </td><td>Kolkata  </td><td>0</td><td> 3332</td><td>21</td><td>3</td><td>2019</td><td> 8</td><td>20</td><td>10</td><td>35</td><td> 2</td><td>15</td></tr>\n",
              "\t<tr><td>SpiceJet</td><td>Banglore</td><td>Delhi    </td><td>0</td><td> 3257</td><td>15</td><td>5</td><td>2019</td><td> 5</td><td>55</td><td> 8</td><td>35</td><td> 2</td><td>40</td></tr>\n",
              "\t<tr><td>SpiceJet</td><td>Banglore</td><td>Delhi    </td><td>0</td><td> 3971</td><td> 9</td><td>4</td><td>2019</td><td> 5</td><td>55</td><td> 8</td><td>35</td><td> 2</td><td>40</td></tr>\n",
              "\t<tr><td>SpiceJet</td><td>Kolkata </td><td>Banglore </td><td>0</td><td> 3873</td><td> 3</td><td>4</td><td>2019</td><td>22</td><td>20</td><td> 0</td><td>40</td><td> 2</td><td>20</td></tr>\n",
              "\t<tr><td>SpiceJet</td><td>Delhi   </td><td>Cochin   </td><td>1</td><td> 5264</td><td>12</td><td>6</td><td>2019</td><td> 8</td><td>45</td><td>13</td><td>15</td><td> 4</td><td>30</td></tr>\n",
              "\t<tr><td>SpiceJet</td><td>Banglore</td><td>Delhi    </td><td>0</td><td> 3311</td><td>21</td><td>5</td><td>2019</td><td> 5</td><td>55</td><td> 8</td><td>35</td><td> 2</td><td>40</td></tr>\n",
              "\t<tr><td>SpiceJet</td><td>Delhi   </td><td>Cochin   </td><td>1</td><td> 4812</td><td>24</td><td>6</td><td>2019</td><td> 8</td><td>45</td><td>13</td><td>15</td><td> 4</td><td>30</td></tr>\n",
              "\t<tr><td>SpiceJet</td><td>Chennai </td><td>Kolkata  </td><td>0</td><td> 3543</td><td>27</td><td>6</td><td>2019</td><td> 9</td><td>45</td><td>12</td><td> 0</td><td> 2</td><td>15</td></tr>\n",
              "\t<tr><td>SpiceJet</td><td>Delhi   </td><td>Cochin   </td><td>1</td><td> 5583</td><td> 6</td><td>6</td><td>2019</td><td> 6</td><td> 5</td><td>11</td><td>20</td><td> 5</td><td>15</td></tr>\n",
              "\t<tr><td>SpiceJet</td><td>Mumbai  </td><td>Hyderabad</td><td>0</td><td> 1965</td><td>21</td><td>5</td><td>2019</td><td> 5</td><td>45</td><td> 7</td><td>15</td><td> 1</td><td>30</td></tr>\n",
              "\t<tr><td>SpiceJet</td><td>Chennai </td><td>Kolkata  </td><td>0</td><td> 3543</td><td>12</td><td>6</td><td>2019</td><td> 9</td><td>45</td><td>12</td><td> 0</td><td> 2</td><td>15</td></tr>\n",
              "\t<tr><td>SpiceJet</td><td>Delhi   </td><td>Cochin   </td><td>1</td><td> 5264</td><td> 6</td><td>6</td><td>2019</td><td> 8</td><td>45</td><td>13</td><td>15</td><td> 4</td><td>30</td></tr>\n",
              "\t<tr><td>SpiceJet</td><td>Mumbai  </td><td>Hyderabad</td><td>0</td><td> 3173</td><td>21</td><td>3</td><td>2019</td><td>13</td><td>10</td><td>14</td><td>30</td><td> 1</td><td>20</td></tr>\n",
              "\t<tr><td>Vistara </td><td>Banglore</td><td>Delhi    </td><td>0</td><td> 4668</td><td>18</td><td>6</td><td>2019</td><td> 9</td><td>45</td><td>12</td><td>35</td><td> 2</td><td>50</td></tr>\n",
              "\t<tr><td>Vistara </td><td>Chennai </td><td>Kolkata  </td><td>0</td><td> 3687</td><td>15</td><td>6</td><td>2019</td><td> 7</td><td> 5</td><td> 9</td><td>20</td><td> 2</td><td>15</td></tr>\n",
              "\t<tr><td>Vistara </td><td>Chennai </td><td>Kolkata  </td><td>0</td><td> 3687</td><td>18</td><td>6</td><td>2019</td><td> 7</td><td> 5</td><td> 9</td><td>20</td><td> 2</td><td>15</td></tr>\n",
              "\t<tr><td>Vistara </td><td>Chennai </td><td>Kolkata  </td><td>0</td><td> 7414</td><td> 6</td><td>3</td><td>2019</td><td> 7</td><td> 5</td><td> 9</td><td>20</td><td> 2</td><td>15</td></tr>\n",
              "\t<tr><td>Vistara </td><td>Mumbai  </td><td>Hyderabad</td><td>1</td><td>12395</td><td> 6</td><td>3</td><td>2019</td><td>15</td><td>40</td><td>16</td><td>45</td><td>25</td><td> 5</td></tr>\n",
              "\t<tr><td>Vistara </td><td>Chennai </td><td>Kolkata  </td><td>0</td><td> 3687</td><td>24</td><td>5</td><td>2019</td><td> 7</td><td> 5</td><td> 9</td><td>20</td><td> 2</td><td>15</td></tr>\n",
              "\t<tr><td>Vistara </td><td>Banglore</td><td>Delhi    </td><td>0</td><td> 5403</td><td>24</td><td>4</td><td>2019</td><td> 9</td><td>45</td><td>12</td><td>35</td><td> 2</td><td>50</td></tr>\n",
              "\t<tr><td>Vistara </td><td>Banglore</td><td>New Delhi</td><td>0</td><td> 7240</td><td> 9</td><td>3</td><td>2019</td><td> 9</td><td>50</td><td>12</td><td>35</td><td> 2</td><td>45</td></tr>\n",
              "\t<tr><td>Vistara </td><td>Kolkata </td><td>Banglore </td><td>1</td><td> 9397</td><td>12</td><td>5</td><td>2019</td><td>20</td><td>20</td><td> 9</td><td> 5</td><td>12</td><td>45</td></tr>\n",
              "\t<tr><td>Vistara </td><td>Banglore</td><td>Delhi    </td><td>0</td><td> 4668</td><td>12</td><td>6</td><td>2019</td><td> 7</td><td> 0</td><td> 9</td><td>40</td><td> 2</td><td>40</td></tr>\n",
              "\t<tr><td>Vistara </td><td>Delhi   </td><td>Cochin   </td><td>0</td><td> 6216</td><td>12</td><td>5</td><td>2019</td><td>14</td><td>40</td><td>17</td><td>50</td><td> 3</td><td>10</td></tr>\n",
              "\t<tr><td>Vistara </td><td>Kolkata </td><td>Banglore </td><td>1</td><td> 9345</td><td>21</td><td>5</td><td>2019</td><td>17</td><td> 0</td><td>18</td><td>50</td><td>25</td><td>50</td></tr>\n",
              "\t<tr><td>Vistara </td><td>Banglore</td><td>Delhi    </td><td>0</td><td> 4878</td><td>27</td><td>6</td><td>2019</td><td>17</td><td> 0</td><td>19</td><td>35</td><td> 2</td><td>35</td></tr>\n",
              "\t<tr><td>Vistara </td><td>Kolkata </td><td>Banglore </td><td>1</td><td> 9555</td><td> 9</td><td>6</td><td>2019</td><td> 7</td><td>10</td><td>18</td><td>50</td><td>11</td><td>40</td></tr>\n",
              "\t<tr><td>Vistara </td><td>Chennai </td><td>Kolkata  </td><td>0</td><td> 4842</td><td>18</td><td>3</td><td>2019</td><td> 7</td><td> 5</td><td> 9</td><td>20</td><td> 2</td><td>15</td></tr>\n",
              "\t<tr><td>Vistara </td><td>Chennai </td><td>Kolkata  </td><td>0</td><td>11982</td><td>27</td><td>6</td><td>2019</td><td>17</td><td>45</td><td>20</td><td> 5</td><td> 2</td><td>20</td></tr>\n",
              "\t<tr><td>Vistara </td><td>Delhi   </td><td>Cochin   </td><td>0</td><td> 8001</td><td> 3</td><td>3</td><td>2019</td><td> 6</td><td> 0</td><td> 9</td><td>10</td><td> 3</td><td>10</td></tr>\n",
              "</tbody>\n",
              "</table>\n"
            ],
            "text/markdown": "\nA data.frame: 264 × 14\n\n| Airline &lt;chr&gt; | Source &lt;chr&gt; | Destination &lt;chr&gt; | Total_Stops &lt;int&gt; | Price &lt;int&gt; | Date &lt;int&gt; | Month &lt;int&gt; | Year &lt;int&gt; | Dep_hours &lt;int&gt; | Dep_min &lt;int&gt; | Arrival_hours &lt;int&gt; | Arrival_min &lt;int&gt; | Duration_hours &lt;int&gt; | Duration_min &lt;int&gt; |\n|---|---|---|---|---|---|---|---|---|---|---|---|---|---|\n| Air Asia  | Banglore | Delhi     | 0 |  3383 |  6 | 5 | 2019 | 11 | 10 | 13 | 55 |  2 | 45 |\n| Air Asia  | Banglore | Delhi     | 0 |  4483 |  3 | 4 | 2019 | 23 | 55 |  2 | 45 |  2 | 50 |\n| Air Asia  | Banglore | Delhi     | 0 |  3383 | 12 | 6 | 2019 | 11 | 10 | 13 | 55 |  2 | 45 |\n| Air Asia  | Kolkata  | Banglore  | 0 |  4409 |  1 | 5 | 2019 | 10 | 20 | 12 | 55 |  2 | 35 |\n| Air India | Kolkata  | Banglore  | 2 |  7662 |  1 | 5 | 2019 |  5 | 50 | 13 | 15 |  7 | 25 |\n| Air India | Delhi    | Cochin    | 1 |  8907 |  1 | 6 | 2019 |  9 | 45 | 23 |  0 | 13 | 15 |\n| Air India | Chennai  | Kolkata   | 0 |  4667 | 24 | 6 | 2019 | 11 | 40 | 13 | 55 |  2 | 15 |\n| Air India | Delhi    | Cochin    | 2 | 14011 |  3 | 3 | 2019 | 16 | 40 | 19 | 15 | 26 | 35 |\n| Air India | Delhi    | Cochin    | 2 | 13381 | 12 | 6 | 2019 | 20 | 15 | 19 | 15 | 23 |  0 |\n| Air India | Banglore | New Delhi | 1 |  6955 | 21 | 3 | 2019 | 22 |  0 | 13 | 20 | 15 | 20 |\n| Air India | Kolkata  | Banglore  | 2 | 13227 |  1 | 5 | 2019 |  9 | 50 | 23 | 15 | 13 | 25 |\n| Air India | Kolkata  | Banglore  | 0 |  6245 | 18 | 5 | 2019 | 14 | 15 | 16 | 45 |  2 | 30 |\n| Air India | Banglore | New Delhi | 1 |  8714 | 15 | 3 | 2019 |  6 | 45 | 15 | 15 |  8 | 30 |\n| Air India | Chennai  | Kolkata   | 0 |  4667 |  3 | 5 | 2019 | 11 | 40 | 13 | 55 |  2 | 15 |\n| Air India | Kolkata  | Banglore  | 1 |  6117 | 15 | 5 | 2019 | 19 |  0 | 11 |  5 | 16 |  5 |\n| Air India | Banglore | New Delhi | 2 | 17345 |  1 | 3 | 2019 |  8 | 50 | 23 | 55 | 15 |  5 |\n| Air India | Kolkata  | Banglore  | 1 |  8366 |  6 | 6 | 2019 |  9 | 25 | 21 | 50 | 12 | 25 |\n| Air India | Delhi    | Cochin    | 1 |  5117 |  3 | 4 | 2019 |  6 |  5 |  9 | 25 | 27 | 20 |\n| Air India | Mumbai   | Hyderabad | 0 |  3625 |  6 | 5 | 2019 | 13 | 55 | 15 | 25 |  1 | 30 |\n| Air India | Delhi    | Cochin    | 2 | 10861 | 21 | 5 | 2019 |  5 | 55 | 19 | 15 | 13 | 20 |\n| Air India | Delhi    | Cochin    | 2 | 13748 |  6 | 3 | 2019 |  5 | 55 | 19 | 15 | 13 | 20 |\n| Air India | Kolkata  | Banglore  | 0 |  4880 | 21 | 4 | 2019 | 20 | 45 | 23 | 20 |  2 | 35 |\n| Air India | Kolkata  | Banglore  | 1 |  6528 | 12 | 5 | 2019 | 14 | 35 | 14 | 35 | 24 |  0 |\n| Air India | Banglore | Delhi     | 0 |  6121 |  1 | 5 | 2019 |  6 | 10 |  8 | 55 |  2 | 45 |\n| Air India | Delhi    | Cochin    | 2 | 11596 |  9 | 5 | 2019 | 12 | 55 | 19 | 15 | 30 | 20 |\n| Air India | Delhi    | Cochin    | 1 | 12677 |  6 | 3 | 2019 | 17 | 20 |  9 | 25 | 16 |  5 |\n| Air India | Mumbai   | Hyderabad | 0 |  3100 |  3 | 5 | 2019 | 15 |  0 | 16 | 25 |  1 | 25 |\n| Air India | Delhi    | Cochin    | 1 | 27430 |  1 | 3 | 2019 | 23 |  0 | 19 | 15 | 20 | 15 |\n| Air India | Kolkata  | Banglore  | 2 | 10676 | 21 | 5 | 2019 | 12 |  0 | 11 | 10 | 23 | 10 |\n| Air India | Banglore | New Delhi | 1 |  5932 | 21 | 3 | 2019 | 11 | 50 | 19 | 50 |  8 |  0 |\n| ⋮ | ⋮ | ⋮ | ⋮ | ⋮ | ⋮ | ⋮ | ⋮ | ⋮ | ⋮ | ⋮ | ⋮ | ⋮ | ⋮ |\n| SpiceJet | Chennai  | Kolkata   | 0 |  3332 | 21 | 3 | 2019 |  8 | 20 | 10 | 35 |  2 | 15 |\n| SpiceJet | Banglore | Delhi     | 0 |  3257 | 15 | 5 | 2019 |  5 | 55 |  8 | 35 |  2 | 40 |\n| SpiceJet | Banglore | Delhi     | 0 |  3971 |  9 | 4 | 2019 |  5 | 55 |  8 | 35 |  2 | 40 |\n| SpiceJet | Kolkata  | Banglore  | 0 |  3873 |  3 | 4 | 2019 | 22 | 20 |  0 | 40 |  2 | 20 |\n| SpiceJet | Delhi    | Cochin    | 1 |  5264 | 12 | 6 | 2019 |  8 | 45 | 13 | 15 |  4 | 30 |\n| SpiceJet | Banglore | Delhi     | 0 |  3311 | 21 | 5 | 2019 |  5 | 55 |  8 | 35 |  2 | 40 |\n| SpiceJet | Delhi    | Cochin    | 1 |  4812 | 24 | 6 | 2019 |  8 | 45 | 13 | 15 |  4 | 30 |\n| SpiceJet | Chennai  | Kolkata   | 0 |  3543 | 27 | 6 | 2019 |  9 | 45 | 12 |  0 |  2 | 15 |\n| SpiceJet | Delhi    | Cochin    | 1 |  5583 |  6 | 6 | 2019 |  6 |  5 | 11 | 20 |  5 | 15 |\n| SpiceJet | Mumbai   | Hyderabad | 0 |  1965 | 21 | 5 | 2019 |  5 | 45 |  7 | 15 |  1 | 30 |\n| SpiceJet | Chennai  | Kolkata   | 0 |  3543 | 12 | 6 | 2019 |  9 | 45 | 12 |  0 |  2 | 15 |\n| SpiceJet | Delhi    | Cochin    | 1 |  5264 |  6 | 6 | 2019 |  8 | 45 | 13 | 15 |  4 | 30 |\n| SpiceJet | Mumbai   | Hyderabad | 0 |  3173 | 21 | 3 | 2019 | 13 | 10 | 14 | 30 |  1 | 20 |\n| Vistara  | Banglore | Delhi     | 0 |  4668 | 18 | 6 | 2019 |  9 | 45 | 12 | 35 |  2 | 50 |\n| Vistara  | Chennai  | Kolkata   | 0 |  3687 | 15 | 6 | 2019 |  7 |  5 |  9 | 20 |  2 | 15 |\n| Vistara  | Chennai  | Kolkata   | 0 |  3687 | 18 | 6 | 2019 |  7 |  5 |  9 | 20 |  2 | 15 |\n| Vistara  | Chennai  | Kolkata   | 0 |  7414 |  6 | 3 | 2019 |  7 |  5 |  9 | 20 |  2 | 15 |\n| Vistara  | Mumbai   | Hyderabad | 1 | 12395 |  6 | 3 | 2019 | 15 | 40 | 16 | 45 | 25 |  5 |\n| Vistara  | Chennai  | Kolkata   | 0 |  3687 | 24 | 5 | 2019 |  7 |  5 |  9 | 20 |  2 | 15 |\n| Vistara  | Banglore | Delhi     | 0 |  5403 | 24 | 4 | 2019 |  9 | 45 | 12 | 35 |  2 | 50 |\n| Vistara  | Banglore | New Delhi | 0 |  7240 |  9 | 3 | 2019 |  9 | 50 | 12 | 35 |  2 | 45 |\n| Vistara  | Kolkata  | Banglore  | 1 |  9397 | 12 | 5 | 2019 | 20 | 20 |  9 |  5 | 12 | 45 |\n| Vistara  | Banglore | Delhi     | 0 |  4668 | 12 | 6 | 2019 |  7 |  0 |  9 | 40 |  2 | 40 |\n| Vistara  | Delhi    | Cochin    | 0 |  6216 | 12 | 5 | 2019 | 14 | 40 | 17 | 50 |  3 | 10 |\n| Vistara  | Kolkata  | Banglore  | 1 |  9345 | 21 | 5 | 2019 | 17 |  0 | 18 | 50 | 25 | 50 |\n| Vistara  | Banglore | Delhi     | 0 |  4878 | 27 | 6 | 2019 | 17 |  0 | 19 | 35 |  2 | 35 |\n| Vistara  | Kolkata  | Banglore  | 1 |  9555 |  9 | 6 | 2019 |  7 | 10 | 18 | 50 | 11 | 40 |\n| Vistara  | Chennai  | Kolkata   | 0 |  4842 | 18 | 3 | 2019 |  7 |  5 |  9 | 20 |  2 | 15 |\n| Vistara  | Chennai  | Kolkata   | 0 | 11982 | 27 | 6 | 2019 | 17 | 45 | 20 |  5 |  2 | 20 |\n| Vistara  | Delhi    | Cochin    | 0 |  8001 |  3 | 3 | 2019 |  6 |  0 |  9 | 10 |  3 | 10 |\n\n",
            "text/latex": "A data.frame: 264 × 14\n\\begin{tabular}{llllllllllllll}\n Airline & Source & Destination & Total\\_Stops & Price & Date & Month & Year & Dep\\_hours & Dep\\_min & Arrival\\_hours & Arrival\\_min & Duration\\_hours & Duration\\_min\\\\\n <chr> & <chr> & <chr> & <int> & <int> & <int> & <int> & <int> & <int> & <int> & <int> & <int> & <int> & <int>\\\\\n\\hline\n\t Air Asia  & Banglore & Delhi     & 0 &  3383 &  6 & 5 & 2019 & 11 & 10 & 13 & 55 &  2 & 45\\\\\n\t Air Asia  & Banglore & Delhi     & 0 &  4483 &  3 & 4 & 2019 & 23 & 55 &  2 & 45 &  2 & 50\\\\\n\t Air Asia  & Banglore & Delhi     & 0 &  3383 & 12 & 6 & 2019 & 11 & 10 & 13 & 55 &  2 & 45\\\\\n\t Air Asia  & Kolkata  & Banglore  & 0 &  4409 &  1 & 5 & 2019 & 10 & 20 & 12 & 55 &  2 & 35\\\\\n\t Air India & Kolkata  & Banglore  & 2 &  7662 &  1 & 5 & 2019 &  5 & 50 & 13 & 15 &  7 & 25\\\\\n\t Air India & Delhi    & Cochin    & 1 &  8907 &  1 & 6 & 2019 &  9 & 45 & 23 &  0 & 13 & 15\\\\\n\t Air India & Chennai  & Kolkata   & 0 &  4667 & 24 & 6 & 2019 & 11 & 40 & 13 & 55 &  2 & 15\\\\\n\t Air India & Delhi    & Cochin    & 2 & 14011 &  3 & 3 & 2019 & 16 & 40 & 19 & 15 & 26 & 35\\\\\n\t Air India & Delhi    & Cochin    & 2 & 13381 & 12 & 6 & 2019 & 20 & 15 & 19 & 15 & 23 &  0\\\\\n\t Air India & Banglore & New Delhi & 1 &  6955 & 21 & 3 & 2019 & 22 &  0 & 13 & 20 & 15 & 20\\\\\n\t Air India & Kolkata  & Banglore  & 2 & 13227 &  1 & 5 & 2019 &  9 & 50 & 23 & 15 & 13 & 25\\\\\n\t Air India & Kolkata  & Banglore  & 0 &  6245 & 18 & 5 & 2019 & 14 & 15 & 16 & 45 &  2 & 30\\\\\n\t Air India & Banglore & New Delhi & 1 &  8714 & 15 & 3 & 2019 &  6 & 45 & 15 & 15 &  8 & 30\\\\\n\t Air India & Chennai  & Kolkata   & 0 &  4667 &  3 & 5 & 2019 & 11 & 40 & 13 & 55 &  2 & 15\\\\\n\t Air India & Kolkata  & Banglore  & 1 &  6117 & 15 & 5 & 2019 & 19 &  0 & 11 &  5 & 16 &  5\\\\\n\t Air India & Banglore & New Delhi & 2 & 17345 &  1 & 3 & 2019 &  8 & 50 & 23 & 55 & 15 &  5\\\\\n\t Air India & Kolkata  & Banglore  & 1 &  8366 &  6 & 6 & 2019 &  9 & 25 & 21 & 50 & 12 & 25\\\\\n\t Air India & Delhi    & Cochin    & 1 &  5117 &  3 & 4 & 2019 &  6 &  5 &  9 & 25 & 27 & 20\\\\\n\t Air India & Mumbai   & Hyderabad & 0 &  3625 &  6 & 5 & 2019 & 13 & 55 & 15 & 25 &  1 & 30\\\\\n\t Air India & Delhi    & Cochin    & 2 & 10861 & 21 & 5 & 2019 &  5 & 55 & 19 & 15 & 13 & 20\\\\\n\t Air India & Delhi    & Cochin    & 2 & 13748 &  6 & 3 & 2019 &  5 & 55 & 19 & 15 & 13 & 20\\\\\n\t Air India & Kolkata  & Banglore  & 0 &  4880 & 21 & 4 & 2019 & 20 & 45 & 23 & 20 &  2 & 35\\\\\n\t Air India & Kolkata  & Banglore  & 1 &  6528 & 12 & 5 & 2019 & 14 & 35 & 14 & 35 & 24 &  0\\\\\n\t Air India & Banglore & Delhi     & 0 &  6121 &  1 & 5 & 2019 &  6 & 10 &  8 & 55 &  2 & 45\\\\\n\t Air India & Delhi    & Cochin    & 2 & 11596 &  9 & 5 & 2019 & 12 & 55 & 19 & 15 & 30 & 20\\\\\n\t Air India & Delhi    & Cochin    & 1 & 12677 &  6 & 3 & 2019 & 17 & 20 &  9 & 25 & 16 &  5\\\\\n\t Air India & Mumbai   & Hyderabad & 0 &  3100 &  3 & 5 & 2019 & 15 &  0 & 16 & 25 &  1 & 25\\\\\n\t Air India & Delhi    & Cochin    & 1 & 27430 &  1 & 3 & 2019 & 23 &  0 & 19 & 15 & 20 & 15\\\\\n\t Air India & Kolkata  & Banglore  & 2 & 10676 & 21 & 5 & 2019 & 12 &  0 & 11 & 10 & 23 & 10\\\\\n\t Air India & Banglore & New Delhi & 1 &  5932 & 21 & 3 & 2019 & 11 & 50 & 19 & 50 &  8 &  0\\\\\n\t ⋮ & ⋮ & ⋮ & ⋮ & ⋮ & ⋮ & ⋮ & ⋮ & ⋮ & ⋮ & ⋮ & ⋮ & ⋮ & ⋮\\\\\n\t SpiceJet & Chennai  & Kolkata   & 0 &  3332 & 21 & 3 & 2019 &  8 & 20 & 10 & 35 &  2 & 15\\\\\n\t SpiceJet & Banglore & Delhi     & 0 &  3257 & 15 & 5 & 2019 &  5 & 55 &  8 & 35 &  2 & 40\\\\\n\t SpiceJet & Banglore & Delhi     & 0 &  3971 &  9 & 4 & 2019 &  5 & 55 &  8 & 35 &  2 & 40\\\\\n\t SpiceJet & Kolkata  & Banglore  & 0 &  3873 &  3 & 4 & 2019 & 22 & 20 &  0 & 40 &  2 & 20\\\\\n\t SpiceJet & Delhi    & Cochin    & 1 &  5264 & 12 & 6 & 2019 &  8 & 45 & 13 & 15 &  4 & 30\\\\\n\t SpiceJet & Banglore & Delhi     & 0 &  3311 & 21 & 5 & 2019 &  5 & 55 &  8 & 35 &  2 & 40\\\\\n\t SpiceJet & Delhi    & Cochin    & 1 &  4812 & 24 & 6 & 2019 &  8 & 45 & 13 & 15 &  4 & 30\\\\\n\t SpiceJet & Chennai  & Kolkata   & 0 &  3543 & 27 & 6 & 2019 &  9 & 45 & 12 &  0 &  2 & 15\\\\\n\t SpiceJet & Delhi    & Cochin    & 1 &  5583 &  6 & 6 & 2019 &  6 &  5 & 11 & 20 &  5 & 15\\\\\n\t SpiceJet & Mumbai   & Hyderabad & 0 &  1965 & 21 & 5 & 2019 &  5 & 45 &  7 & 15 &  1 & 30\\\\\n\t SpiceJet & Chennai  & Kolkata   & 0 &  3543 & 12 & 6 & 2019 &  9 & 45 & 12 &  0 &  2 & 15\\\\\n\t SpiceJet & Delhi    & Cochin    & 1 &  5264 &  6 & 6 & 2019 &  8 & 45 & 13 & 15 &  4 & 30\\\\\n\t SpiceJet & Mumbai   & Hyderabad & 0 &  3173 & 21 & 3 & 2019 & 13 & 10 & 14 & 30 &  1 & 20\\\\\n\t Vistara  & Banglore & Delhi     & 0 &  4668 & 18 & 6 & 2019 &  9 & 45 & 12 & 35 &  2 & 50\\\\\n\t Vistara  & Chennai  & Kolkata   & 0 &  3687 & 15 & 6 & 2019 &  7 &  5 &  9 & 20 &  2 & 15\\\\\n\t Vistara  & Chennai  & Kolkata   & 0 &  3687 & 18 & 6 & 2019 &  7 &  5 &  9 & 20 &  2 & 15\\\\\n\t Vistara  & Chennai  & Kolkata   & 0 &  7414 &  6 & 3 & 2019 &  7 &  5 &  9 & 20 &  2 & 15\\\\\n\t Vistara  & Mumbai   & Hyderabad & 1 & 12395 &  6 & 3 & 2019 & 15 & 40 & 16 & 45 & 25 &  5\\\\\n\t Vistara  & Chennai  & Kolkata   & 0 &  3687 & 24 & 5 & 2019 &  7 &  5 &  9 & 20 &  2 & 15\\\\\n\t Vistara  & Banglore & Delhi     & 0 &  5403 & 24 & 4 & 2019 &  9 & 45 & 12 & 35 &  2 & 50\\\\\n\t Vistara  & Banglore & New Delhi & 0 &  7240 &  9 & 3 & 2019 &  9 & 50 & 12 & 35 &  2 & 45\\\\\n\t Vistara  & Kolkata  & Banglore  & 1 &  9397 & 12 & 5 & 2019 & 20 & 20 &  9 &  5 & 12 & 45\\\\\n\t Vistara  & Banglore & Delhi     & 0 &  4668 & 12 & 6 & 2019 &  7 &  0 &  9 & 40 &  2 & 40\\\\\n\t Vistara  & Delhi    & Cochin    & 0 &  6216 & 12 & 5 & 2019 & 14 & 40 & 17 & 50 &  3 & 10\\\\\n\t Vistara  & Kolkata  & Banglore  & 1 &  9345 & 21 & 5 & 2019 & 17 &  0 & 18 & 50 & 25 & 50\\\\\n\t Vistara  & Banglore & Delhi     & 0 &  4878 & 27 & 6 & 2019 & 17 &  0 & 19 & 35 &  2 & 35\\\\\n\t Vistara  & Kolkata  & Banglore  & 1 &  9555 &  9 & 6 & 2019 &  7 & 10 & 18 & 50 & 11 & 40\\\\\n\t Vistara  & Chennai  & Kolkata   & 0 &  4842 & 18 & 3 & 2019 &  7 &  5 &  9 & 20 &  2 & 15\\\\\n\t Vistara  & Chennai  & Kolkata   & 0 & 11982 & 27 & 6 & 2019 & 17 & 45 & 20 &  5 &  2 & 20\\\\\n\t Vistara  & Delhi    & Cochin    & 0 &  8001 &  3 & 3 & 2019 &  6 &  0 &  9 & 10 &  3 & 10\\\\\n\\end{tabular}\n",
            "text/plain": [
              "    Airline   Source   Destination Total_Stops Price Date Month Year Dep_hours\n",
              "1   Air Asia  Banglore Delhi       0            3383  6   5     2019 11       \n",
              "2   Air Asia  Banglore Delhi       0            4483  3   4     2019 23       \n",
              "3   Air Asia  Banglore Delhi       0            3383 12   6     2019 11       \n",
              "4   Air Asia  Kolkata  Banglore    0            4409  1   5     2019 10       \n",
              "5   Air India Kolkata  Banglore    2            7662  1   5     2019  5       \n",
              "6   Air India Delhi    Cochin      1            8907  1   6     2019  9       \n",
              "7   Air India Chennai  Kolkata     0            4667 24   6     2019 11       \n",
              "8   Air India Delhi    Cochin      2           14011  3   3     2019 16       \n",
              "9   Air India Delhi    Cochin      2           13381 12   6     2019 20       \n",
              "10  Air India Banglore New Delhi   1            6955 21   3     2019 22       \n",
              "11  Air India Kolkata  Banglore    2           13227  1   5     2019  9       \n",
              "12  Air India Kolkata  Banglore    0            6245 18   5     2019 14       \n",
              "13  Air India Banglore New Delhi   1            8714 15   3     2019  6       \n",
              "14  Air India Chennai  Kolkata     0            4667  3   5     2019 11       \n",
              "15  Air India Kolkata  Banglore    1            6117 15   5     2019 19       \n",
              "16  Air India Banglore New Delhi   2           17345  1   3     2019  8       \n",
              "17  Air India Kolkata  Banglore    1            8366  6   6     2019  9       \n",
              "18  Air India Delhi    Cochin      1            5117  3   4     2019  6       \n",
              "19  Air India Mumbai   Hyderabad   0            3625  6   5     2019 13       \n",
              "20  Air India Delhi    Cochin      2           10861 21   5     2019  5       \n",
              "21  Air India Delhi    Cochin      2           13748  6   3     2019  5       \n",
              "22  Air India Kolkata  Banglore    0            4880 21   4     2019 20       \n",
              "23  Air India Kolkata  Banglore    1            6528 12   5     2019 14       \n",
              "24  Air India Banglore Delhi       0            6121  1   5     2019  6       \n",
              "25  Air India Delhi    Cochin      2           11596  9   5     2019 12       \n",
              "26  Air India Delhi    Cochin      1           12677  6   3     2019 17       \n",
              "27  Air India Mumbai   Hyderabad   0            3100  3   5     2019 15       \n",
              "28  Air India Delhi    Cochin      1           27430  1   3     2019 23       \n",
              "29  Air India Kolkata  Banglore    2           10676 21   5     2019 12       \n",
              "30  Air India Banglore New Delhi   1            5932 21   3     2019 11       \n",
              "⋮   ⋮         ⋮        ⋮           ⋮           ⋮     ⋮    ⋮     ⋮    ⋮        \n",
              "235 SpiceJet  Chennai  Kolkata     0            3332 21   3     2019  8       \n",
              "236 SpiceJet  Banglore Delhi       0            3257 15   5     2019  5       \n",
              "237 SpiceJet  Banglore Delhi       0            3971  9   4     2019  5       \n",
              "238 SpiceJet  Kolkata  Banglore    0            3873  3   4     2019 22       \n",
              "239 SpiceJet  Delhi    Cochin      1            5264 12   6     2019  8       \n",
              "240 SpiceJet  Banglore Delhi       0            3311 21   5     2019  5       \n",
              "241 SpiceJet  Delhi    Cochin      1            4812 24   6     2019  8       \n",
              "242 SpiceJet  Chennai  Kolkata     0            3543 27   6     2019  9       \n",
              "243 SpiceJet  Delhi    Cochin      1            5583  6   6     2019  6       \n",
              "244 SpiceJet  Mumbai   Hyderabad   0            1965 21   5     2019  5       \n",
              "245 SpiceJet  Chennai  Kolkata     0            3543 12   6     2019  9       \n",
              "246 SpiceJet  Delhi    Cochin      1            5264  6   6     2019  8       \n",
              "247 SpiceJet  Mumbai   Hyderabad   0            3173 21   3     2019 13       \n",
              "248 Vistara   Banglore Delhi       0            4668 18   6     2019  9       \n",
              "249 Vistara   Chennai  Kolkata     0            3687 15   6     2019  7       \n",
              "250 Vistara   Chennai  Kolkata     0            3687 18   6     2019  7       \n",
              "251 Vistara   Chennai  Kolkata     0            7414  6   3     2019  7       \n",
              "252 Vistara   Mumbai   Hyderabad   1           12395  6   3     2019 15       \n",
              "253 Vistara   Chennai  Kolkata     0            3687 24   5     2019  7       \n",
              "254 Vistara   Banglore Delhi       0            5403 24   4     2019  9       \n",
              "255 Vistara   Banglore New Delhi   0            7240  9   3     2019  9       \n",
              "256 Vistara   Kolkata  Banglore    1            9397 12   5     2019 20       \n",
              "257 Vistara   Banglore Delhi       0            4668 12   6     2019  7       \n",
              "258 Vistara   Delhi    Cochin      0            6216 12   5     2019 14       \n",
              "259 Vistara   Kolkata  Banglore    1            9345 21   5     2019 17       \n",
              "260 Vistara   Banglore Delhi       0            4878 27   6     2019 17       \n",
              "261 Vistara   Kolkata  Banglore    1            9555  9   6     2019  7       \n",
              "262 Vistara   Chennai  Kolkata     0            4842 18   3     2019  7       \n",
              "263 Vistara   Chennai  Kolkata     0           11982 27   6     2019 17       \n",
              "264 Vistara   Delhi    Cochin      0            8001  3   3     2019  6       \n",
              "    Dep_min Arrival_hours Arrival_min Duration_hours Duration_min\n",
              "1   10      13            55           2             45          \n",
              "2   55       2            45           2             50          \n",
              "3   10      13            55           2             45          \n",
              "4   20      12            55           2             35          \n",
              "5   50      13            15           7             25          \n",
              "6   45      23             0          13             15          \n",
              "7   40      13            55           2             15          \n",
              "8   40      19            15          26             35          \n",
              "9   15      19            15          23              0          \n",
              "10   0      13            20          15             20          \n",
              "11  50      23            15          13             25          \n",
              "12  15      16            45           2             30          \n",
              "13  45      15            15           8             30          \n",
              "14  40      13            55           2             15          \n",
              "15   0      11             5          16              5          \n",
              "16  50      23            55          15              5          \n",
              "17  25      21            50          12             25          \n",
              "18   5       9            25          27             20          \n",
              "19  55      15            25           1             30          \n",
              "20  55      19            15          13             20          \n",
              "21  55      19            15          13             20          \n",
              "22  45      23            20           2             35          \n",
              "23  35      14            35          24              0          \n",
              "24  10       8            55           2             45          \n",
              "25  55      19            15          30             20          \n",
              "26  20       9            25          16              5          \n",
              "27   0      16            25           1             25          \n",
              "28   0      19            15          20             15          \n",
              "29   0      11            10          23             10          \n",
              "30  50      19            50           8              0          \n",
              "⋮   ⋮       ⋮             ⋮           ⋮              ⋮           \n",
              "235 20      10            35           2             15          \n",
              "236 55       8            35           2             40          \n",
              "237 55       8            35           2             40          \n",
              "238 20       0            40           2             20          \n",
              "239 45      13            15           4             30          \n",
              "240 55       8            35           2             40          \n",
              "241 45      13            15           4             30          \n",
              "242 45      12             0           2             15          \n",
              "243  5      11            20           5             15          \n",
              "244 45       7            15           1             30          \n",
              "245 45      12             0           2             15          \n",
              "246 45      13            15           4             30          \n",
              "247 10      14            30           1             20          \n",
              "248 45      12            35           2             50          \n",
              "249  5       9            20           2             15          \n",
              "250  5       9            20           2             15          \n",
              "251  5       9            20           2             15          \n",
              "252 40      16            45          25              5          \n",
              "253  5       9            20           2             15          \n",
              "254 45      12            35           2             50          \n",
              "255 50      12            35           2             45          \n",
              "256 20       9             5          12             45          \n",
              "257  0       9            40           2             40          \n",
              "258 40      17            50           3             10          \n",
              "259  0      18            50          25             50          \n",
              "260  0      19            35           2             35          \n",
              "261 10      18            50          11             40          \n",
              "262  5       9            20           2             15          \n",
              "263 45      20             5           2             20          \n",
              "264  0       9            10           3             10          "
            ]
          },
          "metadata": {}
        }
      ]
    },
    {
      "cell_type": "code",
      "source": [
        "flight_1 <- arrange(flight, desc(Price))\n",
        "flight_1"
      ],
      "metadata": {
        "colab": {
          "base_uri": "https://localhost:8080/",
          "height": 1000
        },
        "id": "O4HEoDaXHoTf",
        "outputId": "3671d6e0-55a2-4475-ee05-6fa10dcebe9b"
      },
      "execution_count": 18,
      "outputs": [
        {
          "output_type": "display_data",
          "data": {
            "text/html": [
              "<table class=\"dataframe\">\n",
              "<caption>A data.frame: 264 × 14</caption>\n",
              "<thead>\n",
              "\t<tr><th scope=col>Airline</th><th scope=col>Source</th><th scope=col>Destination</th><th scope=col>Total_Stops</th><th scope=col>Price</th><th scope=col>Date</th><th scope=col>Month</th><th scope=col>Year</th><th scope=col>Dep_hours</th><th scope=col>Dep_min</th><th scope=col>Arrival_hours</th><th scope=col>Arrival_min</th><th scope=col>Duration_hours</th><th scope=col>Duration_min</th></tr>\n",
              "\t<tr><th scope=col>&lt;chr&gt;</th><th scope=col>&lt;chr&gt;</th><th scope=col>&lt;chr&gt;</th><th scope=col>&lt;int&gt;</th><th scope=col>&lt;int&gt;</th><th scope=col>&lt;int&gt;</th><th scope=col>&lt;int&gt;</th><th scope=col>&lt;int&gt;</th><th scope=col>&lt;int&gt;</th><th scope=col>&lt;int&gt;</th><th scope=col>&lt;int&gt;</th><th scope=col>&lt;int&gt;</th><th scope=col>&lt;int&gt;</th><th scope=col>&lt;int&gt;</th></tr>\n",
              "</thead>\n",
              "<tbody>\n",
              "\t<tr><td>Air India        </td><td>Delhi   </td><td>Cochin   </td><td>1</td><td>27430</td><td> 1</td><td>3</td><td>2019</td><td>23</td><td> 0</td><td>19</td><td>15</td><td>20</td><td>15</td></tr>\n",
              "\t<tr><td>Jet Airways      </td><td>Banglore</td><td>New Delhi</td><td>1</td><td>22270</td><td> 1</td><td>3</td><td>2019</td><td> 8</td><td> 0</td><td> 5</td><td> 5</td><td>21</td><td> 5</td></tr>\n",
              "\t<tr><td>GoAir            </td><td>Delhi   </td><td>Cochin   </td><td>1</td><td>19495</td><td> 6</td><td>3</td><td>2019</td><td>14</td><td>10</td><td>19</td><td>20</td><td> 5</td><td>10</td></tr>\n",
              "\t<tr><td>Jet Airways      </td><td>Banglore</td><td>New Delhi</td><td>1</td><td>19225</td><td> 6</td><td>3</td><td>2019</td><td> 7</td><td> 0</td><td>13</td><td>15</td><td> 6</td><td>15</td></tr>\n",
              "\t<tr><td>Jet Airways      </td><td>Delhi   </td><td>Cochin   </td><td>2</td><td>18799</td><td> 3</td><td>3</td><td>2019</td><td> 5</td><td>25</td><td>18</td><td>50</td><td>37</td><td>25</td></tr>\n",
              "\t<tr><td>Air India        </td><td>Banglore</td><td>New Delhi</td><td>2</td><td>17345</td><td> 1</td><td>3</td><td>2019</td><td> 8</td><td>50</td><td>23</td><td>55</td><td>15</td><td> 5</td></tr>\n",
              "\t<tr><td>Multiple carriers</td><td>Delhi   </td><td>Cochin   </td><td>1</td><td>17057</td><td> 6</td><td>3</td><td>2019</td><td> 2</td><td>15</td><td>13</td><td>20</td><td>11</td><td> 5</td></tr>\n",
              "\t<tr><td>Jet Airways      </td><td>Delhi   </td><td>Cochin   </td><td>1</td><td>17024</td><td> 6</td><td>3</td><td>2019</td><td>18</td><td>15</td><td> 4</td><td>25</td><td>10</td><td>10</td></tr>\n",
              "\t<tr><td>Jet Airways      </td><td>Delhi   </td><td>Cochin   </td><td>1</td><td>17024</td><td> 3</td><td>3</td><td>2019</td><td> 8</td><td> 0</td><td>18</td><td>50</td><td>10</td><td>50</td></tr>\n",
              "\t<tr><td>Jet Airways      </td><td>Delhi   </td><td>Cochin   </td><td>1</td><td>17024</td><td> 6</td><td>3</td><td>2019</td><td> 2</td><td>15</td><td> 4</td><td>25</td><td>26</td><td>10</td></tr>\n",
              "\t<tr><td>Jet Airways      </td><td>Delhi   </td><td>Cochin   </td><td>1</td><td>17024</td><td> 6</td><td>3</td><td>2019</td><td>18</td><td>15</td><td>19</td><td>45</td><td>25</td><td>30</td></tr>\n",
              "\t<tr><td>Jet Airways      </td><td>Delhi   </td><td>Cochin   </td><td>1</td><td>15554</td><td> 9</td><td>5</td><td>2019</td><td> 7</td><td> 5</td><td>19</td><td> 0</td><td>11</td><td>55</td></tr>\n",
              "\t<tr><td>Jet Airways      </td><td>Delhi   </td><td>Cochin   </td><td>2</td><td>15318</td><td> 3</td><td>6</td><td>2019</td><td>20</td><td> 0</td><td> 4</td><td>25</td><td> 8</td><td>25</td></tr>\n",
              "\t<tr><td>Multiple carriers</td><td>Delhi   </td><td>Cochin   </td><td>1</td><td>15147</td><td> 3</td><td>3</td><td>2019</td><td>15</td><td>25</td><td> 1</td><td>35</td><td>10</td><td>10</td></tr>\n",
              "\t<tr><td>Jet Airways      </td><td>Delhi   </td><td>Cochin   </td><td>2</td><td>15129</td><td>24</td><td>5</td><td>2019</td><td>23</td><td> 5</td><td>19</td><td> 0</td><td>19</td><td>55</td></tr>\n",
              "\t<tr><td>Jet Airways      </td><td>Delhi   </td><td>Cochin   </td><td>2</td><td>15129</td><td>18</td><td>5</td><td>2019</td><td>19</td><td>10</td><td>19</td><td> 0</td><td>23</td><td>50</td></tr>\n",
              "\t<tr><td>Jet Airways      </td><td>Delhi   </td><td>Cochin   </td><td>2</td><td>15129</td><td>18</td><td>5</td><td>2019</td><td>23</td><td> 5</td><td> 4</td><td>25</td><td>29</td><td>20</td></tr>\n",
              "\t<tr><td>Jet Airways      </td><td>Kolkata </td><td>Banglore </td><td>1</td><td>14939</td><td> 9</td><td>6</td><td>2019</td><td>20</td><td> 0</td><td> 8</td><td>15</td><td>12</td><td>15</td></tr>\n",
              "\t<tr><td>Jet Airways      </td><td>Delhi   </td><td>Cochin   </td><td>1</td><td>14924</td><td> 3</td><td>6</td><td>2019</td><td> 7</td><td> 5</td><td>19</td><td> 0</td><td>11</td><td>55</td></tr>\n",
              "\t<tr><td>Jet Airways      </td><td>Kolkata </td><td>Banglore </td><td>1</td><td>14781</td><td>15</td><td>5</td><td>2019</td><td> 8</td><td>25</td><td>20</td><td>45</td><td>12</td><td>20</td></tr>\n",
              "\t<tr><td>Jet Airways      </td><td>Kolkata </td><td>Banglore </td><td>1</td><td>14781</td><td>12</td><td>5</td><td>2019</td><td> 8</td><td>25</td><td>20</td><td>45</td><td>12</td><td>20</td></tr>\n",
              "\t<tr><td>Jet Airways      </td><td>Delhi   </td><td>Cochin   </td><td>1</td><td>14714</td><td> 6</td><td>6</td><td>2019</td><td> 8</td><td> 0</td><td>19</td><td> 0</td><td>11</td><td> 0</td></tr>\n",
              "\t<tr><td>Jet Airways      </td><td>Kolkata </td><td>Banglore </td><td>1</td><td>14676</td><td> 9</td><td>6</td><td>2019</td><td> 9</td><td>35</td><td>21</td><td> 5</td><td>11</td><td>30</td></tr>\n",
              "\t<tr><td>Air India        </td><td>Kolkata </td><td>Banglore </td><td>1</td><td>14641</td><td>24</td><td>3</td><td>2019</td><td>16</td><td>50</td><td>18</td><td>30</td><td>25</td><td>40</td></tr>\n",
              "\t<tr><td>Jet Airways      </td><td>Kolkata </td><td>Banglore </td><td>1</td><td>14388</td><td> 6</td><td>5</td><td>2019</td><td>20</td><td> 0</td><td>12</td><td> 0</td><td>16</td><td> 0</td></tr>\n",
              "\t<tr><td>Multiple carriers</td><td>Delhi   </td><td>Cochin   </td><td>1</td><td>14323</td><td> 9</td><td>5</td><td>2019</td><td>10</td><td> 0</td><td>19</td><td>15</td><td> 9</td><td>15</td></tr>\n",
              "\t<tr><td>Jet Airways      </td><td>Delhi   </td><td>Cochin   </td><td>2</td><td>14300</td><td>12</td><td>6</td><td>2019</td><td>20</td><td> 0</td><td>12</td><td>35</td><td>16</td><td>35</td></tr>\n",
              "\t<tr><td>Jet Airways      </td><td>Delhi   </td><td>Cochin   </td><td>2</td><td>14300</td><td>27</td><td>6</td><td>2019</td><td>20</td><td> 0</td><td>12</td><td>35</td><td>16</td><td>35</td></tr>\n",
              "\t<tr><td>Multiple carriers</td><td>Delhi   </td><td>Cochin   </td><td>1</td><td>14277</td><td>21</td><td>5</td><td>2019</td><td> 8</td><td> 0</td><td>21</td><td> 0</td><td>13</td><td> 0</td></tr>\n",
              "\t<tr><td>Jet Airways      </td><td>Kolkata </td><td>Banglore </td><td>1</td><td>14231</td><td>24</td><td>3</td><td>2019</td><td>19</td><td>45</td><td>12</td><td> 0</td><td>16</td><td>15</td></tr>\n",
              "\t<tr><td>⋮</td><td>⋮</td><td>⋮</td><td>⋮</td><td>⋮</td><td>⋮</td><td>⋮</td><td>⋮</td><td>⋮</td><td>⋮</td><td>⋮</td><td>⋮</td><td>⋮</td><td>⋮</td></tr>\n",
              "\t<tr><td>IndiGo   </td><td>Banglore</td><td>Delhi    </td><td>0</td><td>3943</td><td>24</td><td>6</td><td>2019</td><td> 4</td><td> 0</td><td> 6</td><td>50</td><td>2</td><td>50</td></tr>\n",
              "\t<tr><td>IndiGo   </td><td>Banglore</td><td>Delhi    </td><td>0</td><td>3943</td><td>12</td><td>5</td><td>2019</td><td> 0</td><td>30</td><td> 3</td><td>25</td><td>2</td><td>55</td></tr>\n",
              "\t<tr><td>IndiGo   </td><td>Banglore</td><td>Delhi    </td><td>0</td><td>3943</td><td>27</td><td>4</td><td>2019</td><td>23</td><td>30</td><td> 2</td><td>20</td><td>2</td><td>50</td></tr>\n",
              "\t<tr><td>IndiGo   </td><td>Banglore</td><td>Delhi    </td><td>0</td><td>3943</td><td>24</td><td>4</td><td>2019</td><td>23</td><td>30</td><td> 2</td><td>20</td><td>2</td><td>50</td></tr>\n",
              "\t<tr><td>GoAir    </td><td>Banglore</td><td>Delhi    </td><td>0</td><td>3898</td><td> 3</td><td>4</td><td>2019</td><td>11</td><td>40</td><td>14</td><td>30</td><td>2</td><td>50</td></tr>\n",
              "\t<tr><td>GoAir    </td><td>Banglore</td><td>Delhi    </td><td>0</td><td>3898</td><td>27</td><td>6</td><td>2019</td><td>11</td><td>40</td><td>14</td><td>30</td><td>2</td><td>50</td></tr>\n",
              "\t<tr><td>IndiGo   </td><td>Banglore</td><td>New Delhi</td><td>0</td><td>3897</td><td>24</td><td>3</td><td>2019</td><td>22</td><td>20</td><td> 1</td><td>10</td><td>2</td><td>50</td></tr>\n",
              "\t<tr><td>SpiceJet </td><td>Kolkata </td><td>Banglore </td><td>0</td><td>3873</td><td>24</td><td>6</td><td>2019</td><td> 9</td><td> 0</td><td>11</td><td>25</td><td>2</td><td>25</td></tr>\n",
              "\t<tr><td>SpiceJet </td><td>Kolkata </td><td>Banglore </td><td>0</td><td>3873</td><td> 3</td><td>4</td><td>2019</td><td>22</td><td>20</td><td> 0</td><td>40</td><td>2</td><td>20</td></tr>\n",
              "\t<tr><td>IndiGo   </td><td>Chennai </td><td>Kolkata  </td><td>0</td><td>3858</td><td>12</td><td>5</td><td>2019</td><td>14</td><td>45</td><td>17</td><td> 5</td><td>2</td><td>20</td></tr>\n",
              "\t<tr><td>Vistara  </td><td>Chennai </td><td>Kolkata  </td><td>0</td><td>3687</td><td>15</td><td>6</td><td>2019</td><td> 7</td><td> 5</td><td> 9</td><td>20</td><td>2</td><td>15</td></tr>\n",
              "\t<tr><td>Vistara  </td><td>Chennai </td><td>Kolkata  </td><td>0</td><td>3687</td><td>18</td><td>6</td><td>2019</td><td> 7</td><td> 5</td><td> 9</td><td>20</td><td>2</td><td>15</td></tr>\n",
              "\t<tr><td>Vistara  </td><td>Chennai </td><td>Kolkata  </td><td>0</td><td>3687</td><td>24</td><td>5</td><td>2019</td><td> 7</td><td> 5</td><td> 9</td><td>20</td><td>2</td><td>15</td></tr>\n",
              "\t<tr><td>Air India</td><td>Mumbai  </td><td>Hyderabad</td><td>0</td><td>3625</td><td> 6</td><td>5</td><td>2019</td><td>13</td><td>55</td><td>15</td><td>25</td><td>1</td><td>30</td></tr>\n",
              "\t<tr><td>IndiGo   </td><td>Chennai </td><td>Kolkata  </td><td>0</td><td>3597</td><td> 3</td><td>6</td><td>2019</td><td>14</td><td>45</td><td>17</td><td> 5</td><td>2</td><td>20</td></tr>\n",
              "\t<tr><td>SpiceJet </td><td>Chennai </td><td>Kolkata  </td><td>0</td><td>3543</td><td>27</td><td>6</td><td>2019</td><td> 9</td><td>45</td><td>12</td><td> 0</td><td>2</td><td>15</td></tr>\n",
              "\t<tr><td>SpiceJet </td><td>Chennai </td><td>Kolkata  </td><td>0</td><td>3543</td><td>12</td><td>6</td><td>2019</td><td> 9</td><td>45</td><td>12</td><td> 0</td><td>2</td><td>15</td></tr>\n",
              "\t<tr><td>IndiGo   </td><td>Chennai </td><td>Kolkata  </td><td>0</td><td>3540</td><td>21</td><td>6</td><td>2019</td><td> 5</td><td>15</td><td> 7</td><td>40</td><td>2</td><td>25</td></tr>\n",
              "\t<tr><td>IndiGo   </td><td>Chennai </td><td>Kolkata  </td><td>0</td><td>3540</td><td>12</td><td>5</td><td>2019</td><td> 5</td><td>15</td><td> 7</td><td>40</td><td>2</td><td>25</td></tr>\n",
              "\t<tr><td>SpiceJet </td><td>Banglore</td><td>New Delhi</td><td>0</td><td>3527</td><td>24</td><td>3</td><td>2019</td><td> 5</td><td>45</td><td> 8</td><td>35</td><td>2</td><td>50</td></tr>\n",
              "\t<tr><td>IndiGo   </td><td>Banglore</td><td>Delhi    </td><td>0</td><td>3419</td><td>27</td><td>5</td><td>2019</td><td> 1</td><td>30</td><td> 4</td><td>15</td><td>2</td><td>45</td></tr>\n",
              "\t<tr><td>Air Asia </td><td>Banglore</td><td>Delhi    </td><td>0</td><td>3383</td><td> 6</td><td>5</td><td>2019</td><td>11</td><td>10</td><td>13</td><td>55</td><td>2</td><td>45</td></tr>\n",
              "\t<tr><td>Air Asia </td><td>Banglore</td><td>Delhi    </td><td>0</td><td>3383</td><td>12</td><td>6</td><td>2019</td><td>11</td><td>10</td><td>13</td><td>55</td><td>2</td><td>45</td></tr>\n",
              "\t<tr><td>IndiGo   </td><td>Banglore</td><td>Delhi    </td><td>0</td><td>3359</td><td> 3</td><td>6</td><td>2019</td><td>22</td><td>10</td><td> 1</td><td> 0</td><td>2</td><td>50</td></tr>\n",
              "\t<tr><td>SpiceJet </td><td>Chennai </td><td>Kolkata  </td><td>0</td><td>3332</td><td>21</td><td>3</td><td>2019</td><td> 8</td><td>20</td><td>10</td><td>35</td><td>2</td><td>15</td></tr>\n",
              "\t<tr><td>SpiceJet </td><td>Banglore</td><td>Delhi    </td><td>0</td><td>3311</td><td>21</td><td>5</td><td>2019</td><td> 5</td><td>55</td><td> 8</td><td>35</td><td>2</td><td>40</td></tr>\n",
              "\t<tr><td>SpiceJet </td><td>Banglore</td><td>Delhi    </td><td>0</td><td>3257</td><td>15</td><td>5</td><td>2019</td><td> 5</td><td>55</td><td> 8</td><td>35</td><td>2</td><td>40</td></tr>\n",
              "\t<tr><td>SpiceJet </td><td>Mumbai  </td><td>Hyderabad</td><td>0</td><td>3173</td><td>21</td><td>3</td><td>2019</td><td>13</td><td>10</td><td>14</td><td>30</td><td>1</td><td>20</td></tr>\n",
              "\t<tr><td>Air India</td><td>Mumbai  </td><td>Hyderabad</td><td>0</td><td>3100</td><td> 3</td><td>5</td><td>2019</td><td>15</td><td> 0</td><td>16</td><td>25</td><td>1</td><td>25</td></tr>\n",
              "\t<tr><td>SpiceJet </td><td>Mumbai  </td><td>Hyderabad</td><td>0</td><td>1965</td><td>21</td><td>5</td><td>2019</td><td> 5</td><td>45</td><td> 7</td><td>15</td><td>1</td><td>30</td></tr>\n",
              "</tbody>\n",
              "</table>\n"
            ],
            "text/markdown": "\nA data.frame: 264 × 14\n\n| Airline &lt;chr&gt; | Source &lt;chr&gt; | Destination &lt;chr&gt; | Total_Stops &lt;int&gt; | Price &lt;int&gt; | Date &lt;int&gt; | Month &lt;int&gt; | Year &lt;int&gt; | Dep_hours &lt;int&gt; | Dep_min &lt;int&gt; | Arrival_hours &lt;int&gt; | Arrival_min &lt;int&gt; | Duration_hours &lt;int&gt; | Duration_min &lt;int&gt; |\n|---|---|---|---|---|---|---|---|---|---|---|---|---|---|\n| Air India         | Delhi    | Cochin    | 1 | 27430 |  1 | 3 | 2019 | 23 |  0 | 19 | 15 | 20 | 15 |\n| Jet Airways       | Banglore | New Delhi | 1 | 22270 |  1 | 3 | 2019 |  8 |  0 |  5 |  5 | 21 |  5 |\n| GoAir             | Delhi    | Cochin    | 1 | 19495 |  6 | 3 | 2019 | 14 | 10 | 19 | 20 |  5 | 10 |\n| Jet Airways       | Banglore | New Delhi | 1 | 19225 |  6 | 3 | 2019 |  7 |  0 | 13 | 15 |  6 | 15 |\n| Jet Airways       | Delhi    | Cochin    | 2 | 18799 |  3 | 3 | 2019 |  5 | 25 | 18 | 50 | 37 | 25 |\n| Air India         | Banglore | New Delhi | 2 | 17345 |  1 | 3 | 2019 |  8 | 50 | 23 | 55 | 15 |  5 |\n| Multiple carriers | Delhi    | Cochin    | 1 | 17057 |  6 | 3 | 2019 |  2 | 15 | 13 | 20 | 11 |  5 |\n| Jet Airways       | Delhi    | Cochin    | 1 | 17024 |  6 | 3 | 2019 | 18 | 15 |  4 | 25 | 10 | 10 |\n| Jet Airways       | Delhi    | Cochin    | 1 | 17024 |  3 | 3 | 2019 |  8 |  0 | 18 | 50 | 10 | 50 |\n| Jet Airways       | Delhi    | Cochin    | 1 | 17024 |  6 | 3 | 2019 |  2 | 15 |  4 | 25 | 26 | 10 |\n| Jet Airways       | Delhi    | Cochin    | 1 | 17024 |  6 | 3 | 2019 | 18 | 15 | 19 | 45 | 25 | 30 |\n| Jet Airways       | Delhi    | Cochin    | 1 | 15554 |  9 | 5 | 2019 |  7 |  5 | 19 |  0 | 11 | 55 |\n| Jet Airways       | Delhi    | Cochin    | 2 | 15318 |  3 | 6 | 2019 | 20 |  0 |  4 | 25 |  8 | 25 |\n| Multiple carriers | Delhi    | Cochin    | 1 | 15147 |  3 | 3 | 2019 | 15 | 25 |  1 | 35 | 10 | 10 |\n| Jet Airways       | Delhi    | Cochin    | 2 | 15129 | 24 | 5 | 2019 | 23 |  5 | 19 |  0 | 19 | 55 |\n| Jet Airways       | Delhi    | Cochin    | 2 | 15129 | 18 | 5 | 2019 | 19 | 10 | 19 |  0 | 23 | 50 |\n| Jet Airways       | Delhi    | Cochin    | 2 | 15129 | 18 | 5 | 2019 | 23 |  5 |  4 | 25 | 29 | 20 |\n| Jet Airways       | Kolkata  | Banglore  | 1 | 14939 |  9 | 6 | 2019 | 20 |  0 |  8 | 15 | 12 | 15 |\n| Jet Airways       | Delhi    | Cochin    | 1 | 14924 |  3 | 6 | 2019 |  7 |  5 | 19 |  0 | 11 | 55 |\n| Jet Airways       | Kolkata  | Banglore  | 1 | 14781 | 15 | 5 | 2019 |  8 | 25 | 20 | 45 | 12 | 20 |\n| Jet Airways       | Kolkata  | Banglore  | 1 | 14781 | 12 | 5 | 2019 |  8 | 25 | 20 | 45 | 12 | 20 |\n| Jet Airways       | Delhi    | Cochin    | 1 | 14714 |  6 | 6 | 2019 |  8 |  0 | 19 |  0 | 11 |  0 |\n| Jet Airways       | Kolkata  | Banglore  | 1 | 14676 |  9 | 6 | 2019 |  9 | 35 | 21 |  5 | 11 | 30 |\n| Air India         | Kolkata  | Banglore  | 1 | 14641 | 24 | 3 | 2019 | 16 | 50 | 18 | 30 | 25 | 40 |\n| Jet Airways       | Kolkata  | Banglore  | 1 | 14388 |  6 | 5 | 2019 | 20 |  0 | 12 |  0 | 16 |  0 |\n| Multiple carriers | Delhi    | Cochin    | 1 | 14323 |  9 | 5 | 2019 | 10 |  0 | 19 | 15 |  9 | 15 |\n| Jet Airways       | Delhi    | Cochin    | 2 | 14300 | 12 | 6 | 2019 | 20 |  0 | 12 | 35 | 16 | 35 |\n| Jet Airways       | Delhi    | Cochin    | 2 | 14300 | 27 | 6 | 2019 | 20 |  0 | 12 | 35 | 16 | 35 |\n| Multiple carriers | Delhi    | Cochin    | 1 | 14277 | 21 | 5 | 2019 |  8 |  0 | 21 |  0 | 13 |  0 |\n| Jet Airways       | Kolkata  | Banglore  | 1 | 14231 | 24 | 3 | 2019 | 19 | 45 | 12 |  0 | 16 | 15 |\n| ⋮ | ⋮ | ⋮ | ⋮ | ⋮ | ⋮ | ⋮ | ⋮ | ⋮ | ⋮ | ⋮ | ⋮ | ⋮ | ⋮ |\n| IndiGo    | Banglore | Delhi     | 0 | 3943 | 24 | 6 | 2019 |  4 |  0 |  6 | 50 | 2 | 50 |\n| IndiGo    | Banglore | Delhi     | 0 | 3943 | 12 | 5 | 2019 |  0 | 30 |  3 | 25 | 2 | 55 |\n| IndiGo    | Banglore | Delhi     | 0 | 3943 | 27 | 4 | 2019 | 23 | 30 |  2 | 20 | 2 | 50 |\n| IndiGo    | Banglore | Delhi     | 0 | 3943 | 24 | 4 | 2019 | 23 | 30 |  2 | 20 | 2 | 50 |\n| GoAir     | Banglore | Delhi     | 0 | 3898 |  3 | 4 | 2019 | 11 | 40 | 14 | 30 | 2 | 50 |\n| GoAir     | Banglore | Delhi     | 0 | 3898 | 27 | 6 | 2019 | 11 | 40 | 14 | 30 | 2 | 50 |\n| IndiGo    | Banglore | New Delhi | 0 | 3897 | 24 | 3 | 2019 | 22 | 20 |  1 | 10 | 2 | 50 |\n| SpiceJet  | Kolkata  | Banglore  | 0 | 3873 | 24 | 6 | 2019 |  9 |  0 | 11 | 25 | 2 | 25 |\n| SpiceJet  | Kolkata  | Banglore  | 0 | 3873 |  3 | 4 | 2019 | 22 | 20 |  0 | 40 | 2 | 20 |\n| IndiGo    | Chennai  | Kolkata   | 0 | 3858 | 12 | 5 | 2019 | 14 | 45 | 17 |  5 | 2 | 20 |\n| Vistara   | Chennai  | Kolkata   | 0 | 3687 | 15 | 6 | 2019 |  7 |  5 |  9 | 20 | 2 | 15 |\n| Vistara   | Chennai  | Kolkata   | 0 | 3687 | 18 | 6 | 2019 |  7 |  5 |  9 | 20 | 2 | 15 |\n| Vistara   | Chennai  | Kolkata   | 0 | 3687 | 24 | 5 | 2019 |  7 |  5 |  9 | 20 | 2 | 15 |\n| Air India | Mumbai   | Hyderabad | 0 | 3625 |  6 | 5 | 2019 | 13 | 55 | 15 | 25 | 1 | 30 |\n| IndiGo    | Chennai  | Kolkata   | 0 | 3597 |  3 | 6 | 2019 | 14 | 45 | 17 |  5 | 2 | 20 |\n| SpiceJet  | Chennai  | Kolkata   | 0 | 3543 | 27 | 6 | 2019 |  9 | 45 | 12 |  0 | 2 | 15 |\n| SpiceJet  | Chennai  | Kolkata   | 0 | 3543 | 12 | 6 | 2019 |  9 | 45 | 12 |  0 | 2 | 15 |\n| IndiGo    | Chennai  | Kolkata   | 0 | 3540 | 21 | 6 | 2019 |  5 | 15 |  7 | 40 | 2 | 25 |\n| IndiGo    | Chennai  | Kolkata   | 0 | 3540 | 12 | 5 | 2019 |  5 | 15 |  7 | 40 | 2 | 25 |\n| SpiceJet  | Banglore | New Delhi | 0 | 3527 | 24 | 3 | 2019 |  5 | 45 |  8 | 35 | 2 | 50 |\n| IndiGo    | Banglore | Delhi     | 0 | 3419 | 27 | 5 | 2019 |  1 | 30 |  4 | 15 | 2 | 45 |\n| Air Asia  | Banglore | Delhi     | 0 | 3383 |  6 | 5 | 2019 | 11 | 10 | 13 | 55 | 2 | 45 |\n| Air Asia  | Banglore | Delhi     | 0 | 3383 | 12 | 6 | 2019 | 11 | 10 | 13 | 55 | 2 | 45 |\n| IndiGo    | Banglore | Delhi     | 0 | 3359 |  3 | 6 | 2019 | 22 | 10 |  1 |  0 | 2 | 50 |\n| SpiceJet  | Chennai  | Kolkata   | 0 | 3332 | 21 | 3 | 2019 |  8 | 20 | 10 | 35 | 2 | 15 |\n| SpiceJet  | Banglore | Delhi     | 0 | 3311 | 21 | 5 | 2019 |  5 | 55 |  8 | 35 | 2 | 40 |\n| SpiceJet  | Banglore | Delhi     | 0 | 3257 | 15 | 5 | 2019 |  5 | 55 |  8 | 35 | 2 | 40 |\n| SpiceJet  | Mumbai   | Hyderabad | 0 | 3173 | 21 | 3 | 2019 | 13 | 10 | 14 | 30 | 1 | 20 |\n| Air India | Mumbai   | Hyderabad | 0 | 3100 |  3 | 5 | 2019 | 15 |  0 | 16 | 25 | 1 | 25 |\n| SpiceJet  | Mumbai   | Hyderabad | 0 | 1965 | 21 | 5 | 2019 |  5 | 45 |  7 | 15 | 1 | 30 |\n\n",
            "text/latex": "A data.frame: 264 × 14\n\\begin{tabular}{llllllllllllll}\n Airline & Source & Destination & Total\\_Stops & Price & Date & Month & Year & Dep\\_hours & Dep\\_min & Arrival\\_hours & Arrival\\_min & Duration\\_hours & Duration\\_min\\\\\n <chr> & <chr> & <chr> & <int> & <int> & <int> & <int> & <int> & <int> & <int> & <int> & <int> & <int> & <int>\\\\\n\\hline\n\t Air India         & Delhi    & Cochin    & 1 & 27430 &  1 & 3 & 2019 & 23 &  0 & 19 & 15 & 20 & 15\\\\\n\t Jet Airways       & Banglore & New Delhi & 1 & 22270 &  1 & 3 & 2019 &  8 &  0 &  5 &  5 & 21 &  5\\\\\n\t GoAir             & Delhi    & Cochin    & 1 & 19495 &  6 & 3 & 2019 & 14 & 10 & 19 & 20 &  5 & 10\\\\\n\t Jet Airways       & Banglore & New Delhi & 1 & 19225 &  6 & 3 & 2019 &  7 &  0 & 13 & 15 &  6 & 15\\\\\n\t Jet Airways       & Delhi    & Cochin    & 2 & 18799 &  3 & 3 & 2019 &  5 & 25 & 18 & 50 & 37 & 25\\\\\n\t Air India         & Banglore & New Delhi & 2 & 17345 &  1 & 3 & 2019 &  8 & 50 & 23 & 55 & 15 &  5\\\\\n\t Multiple carriers & Delhi    & Cochin    & 1 & 17057 &  6 & 3 & 2019 &  2 & 15 & 13 & 20 & 11 &  5\\\\\n\t Jet Airways       & Delhi    & Cochin    & 1 & 17024 &  6 & 3 & 2019 & 18 & 15 &  4 & 25 & 10 & 10\\\\\n\t Jet Airways       & Delhi    & Cochin    & 1 & 17024 &  3 & 3 & 2019 &  8 &  0 & 18 & 50 & 10 & 50\\\\\n\t Jet Airways       & Delhi    & Cochin    & 1 & 17024 &  6 & 3 & 2019 &  2 & 15 &  4 & 25 & 26 & 10\\\\\n\t Jet Airways       & Delhi    & Cochin    & 1 & 17024 &  6 & 3 & 2019 & 18 & 15 & 19 & 45 & 25 & 30\\\\\n\t Jet Airways       & Delhi    & Cochin    & 1 & 15554 &  9 & 5 & 2019 &  7 &  5 & 19 &  0 & 11 & 55\\\\\n\t Jet Airways       & Delhi    & Cochin    & 2 & 15318 &  3 & 6 & 2019 & 20 &  0 &  4 & 25 &  8 & 25\\\\\n\t Multiple carriers & Delhi    & Cochin    & 1 & 15147 &  3 & 3 & 2019 & 15 & 25 &  1 & 35 & 10 & 10\\\\\n\t Jet Airways       & Delhi    & Cochin    & 2 & 15129 & 24 & 5 & 2019 & 23 &  5 & 19 &  0 & 19 & 55\\\\\n\t Jet Airways       & Delhi    & Cochin    & 2 & 15129 & 18 & 5 & 2019 & 19 & 10 & 19 &  0 & 23 & 50\\\\\n\t Jet Airways       & Delhi    & Cochin    & 2 & 15129 & 18 & 5 & 2019 & 23 &  5 &  4 & 25 & 29 & 20\\\\\n\t Jet Airways       & Kolkata  & Banglore  & 1 & 14939 &  9 & 6 & 2019 & 20 &  0 &  8 & 15 & 12 & 15\\\\\n\t Jet Airways       & Delhi    & Cochin    & 1 & 14924 &  3 & 6 & 2019 &  7 &  5 & 19 &  0 & 11 & 55\\\\\n\t Jet Airways       & Kolkata  & Banglore  & 1 & 14781 & 15 & 5 & 2019 &  8 & 25 & 20 & 45 & 12 & 20\\\\\n\t Jet Airways       & Kolkata  & Banglore  & 1 & 14781 & 12 & 5 & 2019 &  8 & 25 & 20 & 45 & 12 & 20\\\\\n\t Jet Airways       & Delhi    & Cochin    & 1 & 14714 &  6 & 6 & 2019 &  8 &  0 & 19 &  0 & 11 &  0\\\\\n\t Jet Airways       & Kolkata  & Banglore  & 1 & 14676 &  9 & 6 & 2019 &  9 & 35 & 21 &  5 & 11 & 30\\\\\n\t Air India         & Kolkata  & Banglore  & 1 & 14641 & 24 & 3 & 2019 & 16 & 50 & 18 & 30 & 25 & 40\\\\\n\t Jet Airways       & Kolkata  & Banglore  & 1 & 14388 &  6 & 5 & 2019 & 20 &  0 & 12 &  0 & 16 &  0\\\\\n\t Multiple carriers & Delhi    & Cochin    & 1 & 14323 &  9 & 5 & 2019 & 10 &  0 & 19 & 15 &  9 & 15\\\\\n\t Jet Airways       & Delhi    & Cochin    & 2 & 14300 & 12 & 6 & 2019 & 20 &  0 & 12 & 35 & 16 & 35\\\\\n\t Jet Airways       & Delhi    & Cochin    & 2 & 14300 & 27 & 6 & 2019 & 20 &  0 & 12 & 35 & 16 & 35\\\\\n\t Multiple carriers & Delhi    & Cochin    & 1 & 14277 & 21 & 5 & 2019 &  8 &  0 & 21 &  0 & 13 &  0\\\\\n\t Jet Airways       & Kolkata  & Banglore  & 1 & 14231 & 24 & 3 & 2019 & 19 & 45 & 12 &  0 & 16 & 15\\\\\n\t ⋮ & ⋮ & ⋮ & ⋮ & ⋮ & ⋮ & ⋮ & ⋮ & ⋮ & ⋮ & ⋮ & ⋮ & ⋮ & ⋮\\\\\n\t IndiGo    & Banglore & Delhi     & 0 & 3943 & 24 & 6 & 2019 &  4 &  0 &  6 & 50 & 2 & 50\\\\\n\t IndiGo    & Banglore & Delhi     & 0 & 3943 & 12 & 5 & 2019 &  0 & 30 &  3 & 25 & 2 & 55\\\\\n\t IndiGo    & Banglore & Delhi     & 0 & 3943 & 27 & 4 & 2019 & 23 & 30 &  2 & 20 & 2 & 50\\\\\n\t IndiGo    & Banglore & Delhi     & 0 & 3943 & 24 & 4 & 2019 & 23 & 30 &  2 & 20 & 2 & 50\\\\\n\t GoAir     & Banglore & Delhi     & 0 & 3898 &  3 & 4 & 2019 & 11 & 40 & 14 & 30 & 2 & 50\\\\\n\t GoAir     & Banglore & Delhi     & 0 & 3898 & 27 & 6 & 2019 & 11 & 40 & 14 & 30 & 2 & 50\\\\\n\t IndiGo    & Banglore & New Delhi & 0 & 3897 & 24 & 3 & 2019 & 22 & 20 &  1 & 10 & 2 & 50\\\\\n\t SpiceJet  & Kolkata  & Banglore  & 0 & 3873 & 24 & 6 & 2019 &  9 &  0 & 11 & 25 & 2 & 25\\\\\n\t SpiceJet  & Kolkata  & Banglore  & 0 & 3873 &  3 & 4 & 2019 & 22 & 20 &  0 & 40 & 2 & 20\\\\\n\t IndiGo    & Chennai  & Kolkata   & 0 & 3858 & 12 & 5 & 2019 & 14 & 45 & 17 &  5 & 2 & 20\\\\\n\t Vistara   & Chennai  & Kolkata   & 0 & 3687 & 15 & 6 & 2019 &  7 &  5 &  9 & 20 & 2 & 15\\\\\n\t Vistara   & Chennai  & Kolkata   & 0 & 3687 & 18 & 6 & 2019 &  7 &  5 &  9 & 20 & 2 & 15\\\\\n\t Vistara   & Chennai  & Kolkata   & 0 & 3687 & 24 & 5 & 2019 &  7 &  5 &  9 & 20 & 2 & 15\\\\\n\t Air India & Mumbai   & Hyderabad & 0 & 3625 &  6 & 5 & 2019 & 13 & 55 & 15 & 25 & 1 & 30\\\\\n\t IndiGo    & Chennai  & Kolkata   & 0 & 3597 &  3 & 6 & 2019 & 14 & 45 & 17 &  5 & 2 & 20\\\\\n\t SpiceJet  & Chennai  & Kolkata   & 0 & 3543 & 27 & 6 & 2019 &  9 & 45 & 12 &  0 & 2 & 15\\\\\n\t SpiceJet  & Chennai  & Kolkata   & 0 & 3543 & 12 & 6 & 2019 &  9 & 45 & 12 &  0 & 2 & 15\\\\\n\t IndiGo    & Chennai  & Kolkata   & 0 & 3540 & 21 & 6 & 2019 &  5 & 15 &  7 & 40 & 2 & 25\\\\\n\t IndiGo    & Chennai  & Kolkata   & 0 & 3540 & 12 & 5 & 2019 &  5 & 15 &  7 & 40 & 2 & 25\\\\\n\t SpiceJet  & Banglore & New Delhi & 0 & 3527 & 24 & 3 & 2019 &  5 & 45 &  8 & 35 & 2 & 50\\\\\n\t IndiGo    & Banglore & Delhi     & 0 & 3419 & 27 & 5 & 2019 &  1 & 30 &  4 & 15 & 2 & 45\\\\\n\t Air Asia  & Banglore & Delhi     & 0 & 3383 &  6 & 5 & 2019 & 11 & 10 & 13 & 55 & 2 & 45\\\\\n\t Air Asia  & Banglore & Delhi     & 0 & 3383 & 12 & 6 & 2019 & 11 & 10 & 13 & 55 & 2 & 45\\\\\n\t IndiGo    & Banglore & Delhi     & 0 & 3359 &  3 & 6 & 2019 & 22 & 10 &  1 &  0 & 2 & 50\\\\\n\t SpiceJet  & Chennai  & Kolkata   & 0 & 3332 & 21 & 3 & 2019 &  8 & 20 & 10 & 35 & 2 & 15\\\\\n\t SpiceJet  & Banglore & Delhi     & 0 & 3311 & 21 & 5 & 2019 &  5 & 55 &  8 & 35 & 2 & 40\\\\\n\t SpiceJet  & Banglore & Delhi     & 0 & 3257 & 15 & 5 & 2019 &  5 & 55 &  8 & 35 & 2 & 40\\\\\n\t SpiceJet  & Mumbai   & Hyderabad & 0 & 3173 & 21 & 3 & 2019 & 13 & 10 & 14 & 30 & 1 & 20\\\\\n\t Air India & Mumbai   & Hyderabad & 0 & 3100 &  3 & 5 & 2019 & 15 &  0 & 16 & 25 & 1 & 25\\\\\n\t SpiceJet  & Mumbai   & Hyderabad & 0 & 1965 & 21 & 5 & 2019 &  5 & 45 &  7 & 15 & 1 & 30\\\\\n\\end{tabular}\n",
            "text/plain": [
              "    Airline           Source   Destination Total_Stops Price Date Month Year\n",
              "1   Air India         Delhi    Cochin      1           27430  1   3     2019\n",
              "2   Jet Airways       Banglore New Delhi   1           22270  1   3     2019\n",
              "3   GoAir             Delhi    Cochin      1           19495  6   3     2019\n",
              "4   Jet Airways       Banglore New Delhi   1           19225  6   3     2019\n",
              "5   Jet Airways       Delhi    Cochin      2           18799  3   3     2019\n",
              "6   Air India         Banglore New Delhi   2           17345  1   3     2019\n",
              "7   Multiple carriers Delhi    Cochin      1           17057  6   3     2019\n",
              "8   Jet Airways       Delhi    Cochin      1           17024  6   3     2019\n",
              "9   Jet Airways       Delhi    Cochin      1           17024  3   3     2019\n",
              "10  Jet Airways       Delhi    Cochin      1           17024  6   3     2019\n",
              "11  Jet Airways       Delhi    Cochin      1           17024  6   3     2019\n",
              "12  Jet Airways       Delhi    Cochin      1           15554  9   5     2019\n",
              "13  Jet Airways       Delhi    Cochin      2           15318  3   6     2019\n",
              "14  Multiple carriers Delhi    Cochin      1           15147  3   3     2019\n",
              "15  Jet Airways       Delhi    Cochin      2           15129 24   5     2019\n",
              "16  Jet Airways       Delhi    Cochin      2           15129 18   5     2019\n",
              "17  Jet Airways       Delhi    Cochin      2           15129 18   5     2019\n",
              "18  Jet Airways       Kolkata  Banglore    1           14939  9   6     2019\n",
              "19  Jet Airways       Delhi    Cochin      1           14924  3   6     2019\n",
              "20  Jet Airways       Kolkata  Banglore    1           14781 15   5     2019\n",
              "21  Jet Airways       Kolkata  Banglore    1           14781 12   5     2019\n",
              "22  Jet Airways       Delhi    Cochin      1           14714  6   6     2019\n",
              "23  Jet Airways       Kolkata  Banglore    1           14676  9   6     2019\n",
              "24  Air India         Kolkata  Banglore    1           14641 24   3     2019\n",
              "25  Jet Airways       Kolkata  Banglore    1           14388  6   5     2019\n",
              "26  Multiple carriers Delhi    Cochin      1           14323  9   5     2019\n",
              "27  Jet Airways       Delhi    Cochin      2           14300 12   6     2019\n",
              "28  Jet Airways       Delhi    Cochin      2           14300 27   6     2019\n",
              "29  Multiple carriers Delhi    Cochin      1           14277 21   5     2019\n",
              "30  Jet Airways       Kolkata  Banglore    1           14231 24   3     2019\n",
              "⋮   ⋮                 ⋮        ⋮           ⋮           ⋮     ⋮    ⋮     ⋮   \n",
              "235 IndiGo            Banglore Delhi       0           3943  24   6     2019\n",
              "236 IndiGo            Banglore Delhi       0           3943  12   5     2019\n",
              "237 IndiGo            Banglore Delhi       0           3943  27   4     2019\n",
              "238 IndiGo            Banglore Delhi       0           3943  24   4     2019\n",
              "239 GoAir             Banglore Delhi       0           3898   3   4     2019\n",
              "240 GoAir             Banglore Delhi       0           3898  27   6     2019\n",
              "241 IndiGo            Banglore New Delhi   0           3897  24   3     2019\n",
              "242 SpiceJet          Kolkata  Banglore    0           3873  24   6     2019\n",
              "243 SpiceJet          Kolkata  Banglore    0           3873   3   4     2019\n",
              "244 IndiGo            Chennai  Kolkata     0           3858  12   5     2019\n",
              "245 Vistara           Chennai  Kolkata     0           3687  15   6     2019\n",
              "246 Vistara           Chennai  Kolkata     0           3687  18   6     2019\n",
              "247 Vistara           Chennai  Kolkata     0           3687  24   5     2019\n",
              "248 Air India         Mumbai   Hyderabad   0           3625   6   5     2019\n",
              "249 IndiGo            Chennai  Kolkata     0           3597   3   6     2019\n",
              "250 SpiceJet          Chennai  Kolkata     0           3543  27   6     2019\n",
              "251 SpiceJet          Chennai  Kolkata     0           3543  12   6     2019\n",
              "252 IndiGo            Chennai  Kolkata     0           3540  21   6     2019\n",
              "253 IndiGo            Chennai  Kolkata     0           3540  12   5     2019\n",
              "254 SpiceJet          Banglore New Delhi   0           3527  24   3     2019\n",
              "255 IndiGo            Banglore Delhi       0           3419  27   5     2019\n",
              "256 Air Asia          Banglore Delhi       0           3383   6   5     2019\n",
              "257 Air Asia          Banglore Delhi       0           3383  12   6     2019\n",
              "258 IndiGo            Banglore Delhi       0           3359   3   6     2019\n",
              "259 SpiceJet          Chennai  Kolkata     0           3332  21   3     2019\n",
              "260 SpiceJet          Banglore Delhi       0           3311  21   5     2019\n",
              "261 SpiceJet          Banglore Delhi       0           3257  15   5     2019\n",
              "262 SpiceJet          Mumbai   Hyderabad   0           3173  21   3     2019\n",
              "263 Air India         Mumbai   Hyderabad   0           3100   3   5     2019\n",
              "264 SpiceJet          Mumbai   Hyderabad   0           1965  21   5     2019\n",
              "    Dep_hours Dep_min Arrival_hours Arrival_min Duration_hours Duration_min\n",
              "1   23         0      19            15          20             15          \n",
              "2    8         0       5             5          21              5          \n",
              "3   14        10      19            20           5             10          \n",
              "4    7         0      13            15           6             15          \n",
              "5    5        25      18            50          37             25          \n",
              "6    8        50      23            55          15              5          \n",
              "7    2        15      13            20          11              5          \n",
              "8   18        15       4            25          10             10          \n",
              "9    8         0      18            50          10             50          \n",
              "10   2        15       4            25          26             10          \n",
              "11  18        15      19            45          25             30          \n",
              "12   7         5      19             0          11             55          \n",
              "13  20         0       4            25           8             25          \n",
              "14  15        25       1            35          10             10          \n",
              "15  23         5      19             0          19             55          \n",
              "16  19        10      19             0          23             50          \n",
              "17  23         5       4            25          29             20          \n",
              "18  20         0       8            15          12             15          \n",
              "19   7         5      19             0          11             55          \n",
              "20   8        25      20            45          12             20          \n",
              "21   8        25      20            45          12             20          \n",
              "22   8         0      19             0          11              0          \n",
              "23   9        35      21             5          11             30          \n",
              "24  16        50      18            30          25             40          \n",
              "25  20         0      12             0          16              0          \n",
              "26  10         0      19            15           9             15          \n",
              "27  20         0      12            35          16             35          \n",
              "28  20         0      12            35          16             35          \n",
              "29   8         0      21             0          13              0          \n",
              "30  19        45      12             0          16             15          \n",
              "⋮   ⋮         ⋮       ⋮             ⋮           ⋮              ⋮           \n",
              "235  4         0       6            50          2              50          \n",
              "236  0        30       3            25          2              55          \n",
              "237 23        30       2            20          2              50          \n",
              "238 23        30       2            20          2              50          \n",
              "239 11        40      14            30          2              50          \n",
              "240 11        40      14            30          2              50          \n",
              "241 22        20       1            10          2              50          \n",
              "242  9         0      11            25          2              25          \n",
              "243 22        20       0            40          2              20          \n",
              "244 14        45      17             5          2              20          \n",
              "245  7         5       9            20          2              15          \n",
              "246  7         5       9            20          2              15          \n",
              "247  7         5       9            20          2              15          \n",
              "248 13        55      15            25          1              30          \n",
              "249 14        45      17             5          2              20          \n",
              "250  9        45      12             0          2              15          \n",
              "251  9        45      12             0          2              15          \n",
              "252  5        15       7            40          2              25          \n",
              "253  5        15       7            40          2              25          \n",
              "254  5        45       8            35          2              50          \n",
              "255  1        30       4            15          2              45          \n",
              "256 11        10      13            55          2              45          \n",
              "257 11        10      13            55          2              45          \n",
              "258 22        10       1             0          2              50          \n",
              "259  8        20      10            35          2              15          \n",
              "260  5        55       8            35          2              40          \n",
              "261  5        55       8            35          2              40          \n",
              "262 13        10      14            30          1              20          \n",
              "263 15         0      16            25          1              25          \n",
              "264  5        45       7            15          1              30          "
            ]
          },
          "metadata": {}
        }
      ]
    },
    {
      "cell_type": "code",
      "source": [
        "filter(flight,flight$Source==\"Chennai\")"
      ],
      "metadata": {
        "colab": {
          "base_uri": "https://localhost:8080/",
          "height": 619
        },
        "id": "-y89tEIhGFZQ",
        "outputId": "9d7f369e-e23d-4e07-8678-886844517b3e"
      },
      "execution_count": 15,
      "outputs": [
        {
          "output_type": "display_data",
          "data": {
            "text/html": [
              "<table class=\"dataframe\">\n",
              "<caption>A data.frame: 16 × 14</caption>\n",
              "<thead>\n",
              "\t<tr><th scope=col>Airline</th><th scope=col>Source</th><th scope=col>Destination</th><th scope=col>Total_Stops</th><th scope=col>Price</th><th scope=col>Date</th><th scope=col>Month</th><th scope=col>Year</th><th scope=col>Dep_hours</th><th scope=col>Dep_min</th><th scope=col>Arrival_hours</th><th scope=col>Arrival_min</th><th scope=col>Duration_hours</th><th scope=col>Duration_min</th></tr>\n",
              "\t<tr><th scope=col>&lt;chr&gt;</th><th scope=col>&lt;chr&gt;</th><th scope=col>&lt;chr&gt;</th><th scope=col>&lt;int&gt;</th><th scope=col>&lt;int&gt;</th><th scope=col>&lt;int&gt;</th><th scope=col>&lt;int&gt;</th><th scope=col>&lt;int&gt;</th><th scope=col>&lt;int&gt;</th><th scope=col>&lt;int&gt;</th><th scope=col>&lt;int&gt;</th><th scope=col>&lt;int&gt;</th><th scope=col>&lt;int&gt;</th><th scope=col>&lt;int&gt;</th></tr>\n",
              "</thead>\n",
              "<tbody>\n",
              "\t<tr><td>Air India</td><td>Chennai</td><td>Kolkata</td><td>0</td><td> 4667</td><td>24</td><td>6</td><td>2019</td><td>11</td><td>40</td><td>13</td><td>55</td><td>2</td><td>15</td></tr>\n",
              "\t<tr><td>Air India</td><td>Chennai</td><td>Kolkata</td><td>0</td><td> 4667</td><td> 3</td><td>5</td><td>2019</td><td>11</td><td>40</td><td>13</td><td>55</td><td>2</td><td>15</td></tr>\n",
              "\t<tr><td>IndiGo   </td><td>Chennai</td><td>Kolkata</td><td>0</td><td> 6297</td><td>12</td><td>3</td><td>2019</td><td>13</td><td>20</td><td>15</td><td>35</td><td>2</td><td>15</td></tr>\n",
              "\t<tr><td>IndiGo   </td><td>Chennai</td><td>Kolkata</td><td>0</td><td> 3540</td><td>21</td><td>6</td><td>2019</td><td> 5</td><td>15</td><td> 7</td><td>40</td><td>2</td><td>25</td></tr>\n",
              "\t<tr><td>IndiGo   </td><td>Chennai</td><td>Kolkata</td><td>0</td><td> 3540</td><td>12</td><td>5</td><td>2019</td><td> 5</td><td>15</td><td> 7</td><td>40</td><td>2</td><td>25</td></tr>\n",
              "\t<tr><td>IndiGo   </td><td>Chennai</td><td>Kolkata</td><td>0</td><td> 3597</td><td> 3</td><td>6</td><td>2019</td><td>14</td><td>45</td><td>17</td><td> 5</td><td>2</td><td>20</td></tr>\n",
              "\t<tr><td>IndiGo   </td><td>Chennai</td><td>Kolkata</td><td>0</td><td> 3858</td><td>12</td><td>5</td><td>2019</td><td>14</td><td>45</td><td>17</td><td> 5</td><td>2</td><td>20</td></tr>\n",
              "\t<tr><td>SpiceJet </td><td>Chennai</td><td>Kolkata</td><td>0</td><td> 3332</td><td>21</td><td>3</td><td>2019</td><td> 8</td><td>20</td><td>10</td><td>35</td><td>2</td><td>15</td></tr>\n",
              "\t<tr><td>SpiceJet </td><td>Chennai</td><td>Kolkata</td><td>0</td><td> 3543</td><td>27</td><td>6</td><td>2019</td><td> 9</td><td>45</td><td>12</td><td> 0</td><td>2</td><td>15</td></tr>\n",
              "\t<tr><td>SpiceJet </td><td>Chennai</td><td>Kolkata</td><td>0</td><td> 3543</td><td>12</td><td>6</td><td>2019</td><td> 9</td><td>45</td><td>12</td><td> 0</td><td>2</td><td>15</td></tr>\n",
              "\t<tr><td>Vistara  </td><td>Chennai</td><td>Kolkata</td><td>0</td><td> 3687</td><td>15</td><td>6</td><td>2019</td><td> 7</td><td> 5</td><td> 9</td><td>20</td><td>2</td><td>15</td></tr>\n",
              "\t<tr><td>Vistara  </td><td>Chennai</td><td>Kolkata</td><td>0</td><td> 3687</td><td>18</td><td>6</td><td>2019</td><td> 7</td><td> 5</td><td> 9</td><td>20</td><td>2</td><td>15</td></tr>\n",
              "\t<tr><td>Vistara  </td><td>Chennai</td><td>Kolkata</td><td>0</td><td> 7414</td><td> 6</td><td>3</td><td>2019</td><td> 7</td><td> 5</td><td> 9</td><td>20</td><td>2</td><td>15</td></tr>\n",
              "\t<tr><td>Vistara  </td><td>Chennai</td><td>Kolkata</td><td>0</td><td> 3687</td><td>24</td><td>5</td><td>2019</td><td> 7</td><td> 5</td><td> 9</td><td>20</td><td>2</td><td>15</td></tr>\n",
              "\t<tr><td>Vistara  </td><td>Chennai</td><td>Kolkata</td><td>0</td><td> 4842</td><td>18</td><td>3</td><td>2019</td><td> 7</td><td> 5</td><td> 9</td><td>20</td><td>2</td><td>15</td></tr>\n",
              "\t<tr><td>Vistara  </td><td>Chennai</td><td>Kolkata</td><td>0</td><td>11982</td><td>27</td><td>6</td><td>2019</td><td>17</td><td>45</td><td>20</td><td> 5</td><td>2</td><td>20</td></tr>\n",
              "</tbody>\n",
              "</table>\n"
            ],
            "text/markdown": "\nA data.frame: 16 × 14\n\n| Airline &lt;chr&gt; | Source &lt;chr&gt; | Destination &lt;chr&gt; | Total_Stops &lt;int&gt; | Price &lt;int&gt; | Date &lt;int&gt; | Month &lt;int&gt; | Year &lt;int&gt; | Dep_hours &lt;int&gt; | Dep_min &lt;int&gt; | Arrival_hours &lt;int&gt; | Arrival_min &lt;int&gt; | Duration_hours &lt;int&gt; | Duration_min &lt;int&gt; |\n|---|---|---|---|---|---|---|---|---|---|---|---|---|---|\n| Air India | Chennai | Kolkata | 0 |  4667 | 24 | 6 | 2019 | 11 | 40 | 13 | 55 | 2 | 15 |\n| Air India | Chennai | Kolkata | 0 |  4667 |  3 | 5 | 2019 | 11 | 40 | 13 | 55 | 2 | 15 |\n| IndiGo    | Chennai | Kolkata | 0 |  6297 | 12 | 3 | 2019 | 13 | 20 | 15 | 35 | 2 | 15 |\n| IndiGo    | Chennai | Kolkata | 0 |  3540 | 21 | 6 | 2019 |  5 | 15 |  7 | 40 | 2 | 25 |\n| IndiGo    | Chennai | Kolkata | 0 |  3540 | 12 | 5 | 2019 |  5 | 15 |  7 | 40 | 2 | 25 |\n| IndiGo    | Chennai | Kolkata | 0 |  3597 |  3 | 6 | 2019 | 14 | 45 | 17 |  5 | 2 | 20 |\n| IndiGo    | Chennai | Kolkata | 0 |  3858 | 12 | 5 | 2019 | 14 | 45 | 17 |  5 | 2 | 20 |\n| SpiceJet  | Chennai | Kolkata | 0 |  3332 | 21 | 3 | 2019 |  8 | 20 | 10 | 35 | 2 | 15 |\n| SpiceJet  | Chennai | Kolkata | 0 |  3543 | 27 | 6 | 2019 |  9 | 45 | 12 |  0 | 2 | 15 |\n| SpiceJet  | Chennai | Kolkata | 0 |  3543 | 12 | 6 | 2019 |  9 | 45 | 12 |  0 | 2 | 15 |\n| Vistara   | Chennai | Kolkata | 0 |  3687 | 15 | 6 | 2019 |  7 |  5 |  9 | 20 | 2 | 15 |\n| Vistara   | Chennai | Kolkata | 0 |  3687 | 18 | 6 | 2019 |  7 |  5 |  9 | 20 | 2 | 15 |\n| Vistara   | Chennai | Kolkata | 0 |  7414 |  6 | 3 | 2019 |  7 |  5 |  9 | 20 | 2 | 15 |\n| Vistara   | Chennai | Kolkata | 0 |  3687 | 24 | 5 | 2019 |  7 |  5 |  9 | 20 | 2 | 15 |\n| Vistara   | Chennai | Kolkata | 0 |  4842 | 18 | 3 | 2019 |  7 |  5 |  9 | 20 | 2 | 15 |\n| Vistara   | Chennai | Kolkata | 0 | 11982 | 27 | 6 | 2019 | 17 | 45 | 20 |  5 | 2 | 20 |\n\n",
            "text/latex": "A data.frame: 16 × 14\n\\begin{tabular}{llllllllllllll}\n Airline & Source & Destination & Total\\_Stops & Price & Date & Month & Year & Dep\\_hours & Dep\\_min & Arrival\\_hours & Arrival\\_min & Duration\\_hours & Duration\\_min\\\\\n <chr> & <chr> & <chr> & <int> & <int> & <int> & <int> & <int> & <int> & <int> & <int> & <int> & <int> & <int>\\\\\n\\hline\n\t Air India & Chennai & Kolkata & 0 &  4667 & 24 & 6 & 2019 & 11 & 40 & 13 & 55 & 2 & 15\\\\\n\t Air India & Chennai & Kolkata & 0 &  4667 &  3 & 5 & 2019 & 11 & 40 & 13 & 55 & 2 & 15\\\\\n\t IndiGo    & Chennai & Kolkata & 0 &  6297 & 12 & 3 & 2019 & 13 & 20 & 15 & 35 & 2 & 15\\\\\n\t IndiGo    & Chennai & Kolkata & 0 &  3540 & 21 & 6 & 2019 &  5 & 15 &  7 & 40 & 2 & 25\\\\\n\t IndiGo    & Chennai & Kolkata & 0 &  3540 & 12 & 5 & 2019 &  5 & 15 &  7 & 40 & 2 & 25\\\\\n\t IndiGo    & Chennai & Kolkata & 0 &  3597 &  3 & 6 & 2019 & 14 & 45 & 17 &  5 & 2 & 20\\\\\n\t IndiGo    & Chennai & Kolkata & 0 &  3858 & 12 & 5 & 2019 & 14 & 45 & 17 &  5 & 2 & 20\\\\\n\t SpiceJet  & Chennai & Kolkata & 0 &  3332 & 21 & 3 & 2019 &  8 & 20 & 10 & 35 & 2 & 15\\\\\n\t SpiceJet  & Chennai & Kolkata & 0 &  3543 & 27 & 6 & 2019 &  9 & 45 & 12 &  0 & 2 & 15\\\\\n\t SpiceJet  & Chennai & Kolkata & 0 &  3543 & 12 & 6 & 2019 &  9 & 45 & 12 &  0 & 2 & 15\\\\\n\t Vistara   & Chennai & Kolkata & 0 &  3687 & 15 & 6 & 2019 &  7 &  5 &  9 & 20 & 2 & 15\\\\\n\t Vistara   & Chennai & Kolkata & 0 &  3687 & 18 & 6 & 2019 &  7 &  5 &  9 & 20 & 2 & 15\\\\\n\t Vistara   & Chennai & Kolkata & 0 &  7414 &  6 & 3 & 2019 &  7 &  5 &  9 & 20 & 2 & 15\\\\\n\t Vistara   & Chennai & Kolkata & 0 &  3687 & 24 & 5 & 2019 &  7 &  5 &  9 & 20 & 2 & 15\\\\\n\t Vistara   & Chennai & Kolkata & 0 &  4842 & 18 & 3 & 2019 &  7 &  5 &  9 & 20 & 2 & 15\\\\\n\t Vistara   & Chennai & Kolkata & 0 & 11982 & 27 & 6 & 2019 & 17 & 45 & 20 &  5 & 2 & 20\\\\\n\\end{tabular}\n",
            "text/plain": [
              "   Airline   Source  Destination Total_Stops Price Date Month Year Dep_hours\n",
              "1  Air India Chennai Kolkata     0            4667 24   6     2019 11       \n",
              "2  Air India Chennai Kolkata     0            4667  3   5     2019 11       \n",
              "3  IndiGo    Chennai Kolkata     0            6297 12   3     2019 13       \n",
              "4  IndiGo    Chennai Kolkata     0            3540 21   6     2019  5       \n",
              "5  IndiGo    Chennai Kolkata     0            3540 12   5     2019  5       \n",
              "6  IndiGo    Chennai Kolkata     0            3597  3   6     2019 14       \n",
              "7  IndiGo    Chennai Kolkata     0            3858 12   5     2019 14       \n",
              "8  SpiceJet  Chennai Kolkata     0            3332 21   3     2019  8       \n",
              "9  SpiceJet  Chennai Kolkata     0            3543 27   6     2019  9       \n",
              "10 SpiceJet  Chennai Kolkata     0            3543 12   6     2019  9       \n",
              "11 Vistara   Chennai Kolkata     0            3687 15   6     2019  7       \n",
              "12 Vistara   Chennai Kolkata     0            3687 18   6     2019  7       \n",
              "13 Vistara   Chennai Kolkata     0            7414  6   3     2019  7       \n",
              "14 Vistara   Chennai Kolkata     0            3687 24   5     2019  7       \n",
              "15 Vistara   Chennai Kolkata     0            4842 18   3     2019  7       \n",
              "16 Vistara   Chennai Kolkata     0           11982 27   6     2019 17       \n",
              "   Dep_min Arrival_hours Arrival_min Duration_hours Duration_min\n",
              "1  40      13            55          2              15          \n",
              "2  40      13            55          2              15          \n",
              "3  20      15            35          2              15          \n",
              "4  15       7            40          2              25          \n",
              "5  15       7            40          2              25          \n",
              "6  45      17             5          2              20          \n",
              "7  45      17             5          2              20          \n",
              "8  20      10            35          2              15          \n",
              "9  45      12             0          2              15          \n",
              "10 45      12             0          2              15          \n",
              "11  5       9            20          2              15          \n",
              "12  5       9            20          2              15          \n",
              "13  5       9            20          2              15          \n",
              "14  5       9            20          2              15          \n",
              "15  5       9            20          2              15          \n",
              "16 45      20             5          2              20          "
            ]
          },
          "metadata": {}
        }
      ]
    },
    {
      "cell_type": "code",
      "source": [
        "filter(flight,flight$Source==\"Chennai\",flight$Year==2019)"
      ],
      "metadata": {
        "colab": {
          "base_uri": "https://localhost:8080/",
          "height": 619
        },
        "id": "3Xa7D3FiGr8H",
        "outputId": "24fce504-0743-42c9-b283-190a8ec39d6d"
      },
      "execution_count": 16,
      "outputs": [
        {
          "output_type": "display_data",
          "data": {
            "text/html": [
              "<table class=\"dataframe\">\n",
              "<caption>A data.frame: 16 × 14</caption>\n",
              "<thead>\n",
              "\t<tr><th scope=col>Airline</th><th scope=col>Source</th><th scope=col>Destination</th><th scope=col>Total_Stops</th><th scope=col>Price</th><th scope=col>Date</th><th scope=col>Month</th><th scope=col>Year</th><th scope=col>Dep_hours</th><th scope=col>Dep_min</th><th scope=col>Arrival_hours</th><th scope=col>Arrival_min</th><th scope=col>Duration_hours</th><th scope=col>Duration_min</th></tr>\n",
              "\t<tr><th scope=col>&lt;chr&gt;</th><th scope=col>&lt;chr&gt;</th><th scope=col>&lt;chr&gt;</th><th scope=col>&lt;int&gt;</th><th scope=col>&lt;int&gt;</th><th scope=col>&lt;int&gt;</th><th scope=col>&lt;int&gt;</th><th scope=col>&lt;int&gt;</th><th scope=col>&lt;int&gt;</th><th scope=col>&lt;int&gt;</th><th scope=col>&lt;int&gt;</th><th scope=col>&lt;int&gt;</th><th scope=col>&lt;int&gt;</th><th scope=col>&lt;int&gt;</th></tr>\n",
              "</thead>\n",
              "<tbody>\n",
              "\t<tr><td>Air India</td><td>Chennai</td><td>Kolkata</td><td>0</td><td> 4667</td><td>24</td><td>6</td><td>2019</td><td>11</td><td>40</td><td>13</td><td>55</td><td>2</td><td>15</td></tr>\n",
              "\t<tr><td>Air India</td><td>Chennai</td><td>Kolkata</td><td>0</td><td> 4667</td><td> 3</td><td>5</td><td>2019</td><td>11</td><td>40</td><td>13</td><td>55</td><td>2</td><td>15</td></tr>\n",
              "\t<tr><td>IndiGo   </td><td>Chennai</td><td>Kolkata</td><td>0</td><td> 6297</td><td>12</td><td>3</td><td>2019</td><td>13</td><td>20</td><td>15</td><td>35</td><td>2</td><td>15</td></tr>\n",
              "\t<tr><td>IndiGo   </td><td>Chennai</td><td>Kolkata</td><td>0</td><td> 3540</td><td>21</td><td>6</td><td>2019</td><td> 5</td><td>15</td><td> 7</td><td>40</td><td>2</td><td>25</td></tr>\n",
              "\t<tr><td>IndiGo   </td><td>Chennai</td><td>Kolkata</td><td>0</td><td> 3540</td><td>12</td><td>5</td><td>2019</td><td> 5</td><td>15</td><td> 7</td><td>40</td><td>2</td><td>25</td></tr>\n",
              "\t<tr><td>IndiGo   </td><td>Chennai</td><td>Kolkata</td><td>0</td><td> 3597</td><td> 3</td><td>6</td><td>2019</td><td>14</td><td>45</td><td>17</td><td> 5</td><td>2</td><td>20</td></tr>\n",
              "\t<tr><td>IndiGo   </td><td>Chennai</td><td>Kolkata</td><td>0</td><td> 3858</td><td>12</td><td>5</td><td>2019</td><td>14</td><td>45</td><td>17</td><td> 5</td><td>2</td><td>20</td></tr>\n",
              "\t<tr><td>SpiceJet </td><td>Chennai</td><td>Kolkata</td><td>0</td><td> 3332</td><td>21</td><td>3</td><td>2019</td><td> 8</td><td>20</td><td>10</td><td>35</td><td>2</td><td>15</td></tr>\n",
              "\t<tr><td>SpiceJet </td><td>Chennai</td><td>Kolkata</td><td>0</td><td> 3543</td><td>27</td><td>6</td><td>2019</td><td> 9</td><td>45</td><td>12</td><td> 0</td><td>2</td><td>15</td></tr>\n",
              "\t<tr><td>SpiceJet </td><td>Chennai</td><td>Kolkata</td><td>0</td><td> 3543</td><td>12</td><td>6</td><td>2019</td><td> 9</td><td>45</td><td>12</td><td> 0</td><td>2</td><td>15</td></tr>\n",
              "\t<tr><td>Vistara  </td><td>Chennai</td><td>Kolkata</td><td>0</td><td> 3687</td><td>15</td><td>6</td><td>2019</td><td> 7</td><td> 5</td><td> 9</td><td>20</td><td>2</td><td>15</td></tr>\n",
              "\t<tr><td>Vistara  </td><td>Chennai</td><td>Kolkata</td><td>0</td><td> 3687</td><td>18</td><td>6</td><td>2019</td><td> 7</td><td> 5</td><td> 9</td><td>20</td><td>2</td><td>15</td></tr>\n",
              "\t<tr><td>Vistara  </td><td>Chennai</td><td>Kolkata</td><td>0</td><td> 7414</td><td> 6</td><td>3</td><td>2019</td><td> 7</td><td> 5</td><td> 9</td><td>20</td><td>2</td><td>15</td></tr>\n",
              "\t<tr><td>Vistara  </td><td>Chennai</td><td>Kolkata</td><td>0</td><td> 3687</td><td>24</td><td>5</td><td>2019</td><td> 7</td><td> 5</td><td> 9</td><td>20</td><td>2</td><td>15</td></tr>\n",
              "\t<tr><td>Vistara  </td><td>Chennai</td><td>Kolkata</td><td>0</td><td> 4842</td><td>18</td><td>3</td><td>2019</td><td> 7</td><td> 5</td><td> 9</td><td>20</td><td>2</td><td>15</td></tr>\n",
              "\t<tr><td>Vistara  </td><td>Chennai</td><td>Kolkata</td><td>0</td><td>11982</td><td>27</td><td>6</td><td>2019</td><td>17</td><td>45</td><td>20</td><td> 5</td><td>2</td><td>20</td></tr>\n",
              "</tbody>\n",
              "</table>\n"
            ],
            "text/markdown": "\nA data.frame: 16 × 14\n\n| Airline &lt;chr&gt; | Source &lt;chr&gt; | Destination &lt;chr&gt; | Total_Stops &lt;int&gt; | Price &lt;int&gt; | Date &lt;int&gt; | Month &lt;int&gt; | Year &lt;int&gt; | Dep_hours &lt;int&gt; | Dep_min &lt;int&gt; | Arrival_hours &lt;int&gt; | Arrival_min &lt;int&gt; | Duration_hours &lt;int&gt; | Duration_min &lt;int&gt; |\n|---|---|---|---|---|---|---|---|---|---|---|---|---|---|\n| Air India | Chennai | Kolkata | 0 |  4667 | 24 | 6 | 2019 | 11 | 40 | 13 | 55 | 2 | 15 |\n| Air India | Chennai | Kolkata | 0 |  4667 |  3 | 5 | 2019 | 11 | 40 | 13 | 55 | 2 | 15 |\n| IndiGo    | Chennai | Kolkata | 0 |  6297 | 12 | 3 | 2019 | 13 | 20 | 15 | 35 | 2 | 15 |\n| IndiGo    | Chennai | Kolkata | 0 |  3540 | 21 | 6 | 2019 |  5 | 15 |  7 | 40 | 2 | 25 |\n| IndiGo    | Chennai | Kolkata | 0 |  3540 | 12 | 5 | 2019 |  5 | 15 |  7 | 40 | 2 | 25 |\n| IndiGo    | Chennai | Kolkata | 0 |  3597 |  3 | 6 | 2019 | 14 | 45 | 17 |  5 | 2 | 20 |\n| IndiGo    | Chennai | Kolkata | 0 |  3858 | 12 | 5 | 2019 | 14 | 45 | 17 |  5 | 2 | 20 |\n| SpiceJet  | Chennai | Kolkata | 0 |  3332 | 21 | 3 | 2019 |  8 | 20 | 10 | 35 | 2 | 15 |\n| SpiceJet  | Chennai | Kolkata | 0 |  3543 | 27 | 6 | 2019 |  9 | 45 | 12 |  0 | 2 | 15 |\n| SpiceJet  | Chennai | Kolkata | 0 |  3543 | 12 | 6 | 2019 |  9 | 45 | 12 |  0 | 2 | 15 |\n| Vistara   | Chennai | Kolkata | 0 |  3687 | 15 | 6 | 2019 |  7 |  5 |  9 | 20 | 2 | 15 |\n| Vistara   | Chennai | Kolkata | 0 |  3687 | 18 | 6 | 2019 |  7 |  5 |  9 | 20 | 2 | 15 |\n| Vistara   | Chennai | Kolkata | 0 |  7414 |  6 | 3 | 2019 |  7 |  5 |  9 | 20 | 2 | 15 |\n| Vistara   | Chennai | Kolkata | 0 |  3687 | 24 | 5 | 2019 |  7 |  5 |  9 | 20 | 2 | 15 |\n| Vistara   | Chennai | Kolkata | 0 |  4842 | 18 | 3 | 2019 |  7 |  5 |  9 | 20 | 2 | 15 |\n| Vistara   | Chennai | Kolkata | 0 | 11982 | 27 | 6 | 2019 | 17 | 45 | 20 |  5 | 2 | 20 |\n\n",
            "text/latex": "A data.frame: 16 × 14\n\\begin{tabular}{llllllllllllll}\n Airline & Source & Destination & Total\\_Stops & Price & Date & Month & Year & Dep\\_hours & Dep\\_min & Arrival\\_hours & Arrival\\_min & Duration\\_hours & Duration\\_min\\\\\n <chr> & <chr> & <chr> & <int> & <int> & <int> & <int> & <int> & <int> & <int> & <int> & <int> & <int> & <int>\\\\\n\\hline\n\t Air India & Chennai & Kolkata & 0 &  4667 & 24 & 6 & 2019 & 11 & 40 & 13 & 55 & 2 & 15\\\\\n\t Air India & Chennai & Kolkata & 0 &  4667 &  3 & 5 & 2019 & 11 & 40 & 13 & 55 & 2 & 15\\\\\n\t IndiGo    & Chennai & Kolkata & 0 &  6297 & 12 & 3 & 2019 & 13 & 20 & 15 & 35 & 2 & 15\\\\\n\t IndiGo    & Chennai & Kolkata & 0 &  3540 & 21 & 6 & 2019 &  5 & 15 &  7 & 40 & 2 & 25\\\\\n\t IndiGo    & Chennai & Kolkata & 0 &  3540 & 12 & 5 & 2019 &  5 & 15 &  7 & 40 & 2 & 25\\\\\n\t IndiGo    & Chennai & Kolkata & 0 &  3597 &  3 & 6 & 2019 & 14 & 45 & 17 &  5 & 2 & 20\\\\\n\t IndiGo    & Chennai & Kolkata & 0 &  3858 & 12 & 5 & 2019 & 14 & 45 & 17 &  5 & 2 & 20\\\\\n\t SpiceJet  & Chennai & Kolkata & 0 &  3332 & 21 & 3 & 2019 &  8 & 20 & 10 & 35 & 2 & 15\\\\\n\t SpiceJet  & Chennai & Kolkata & 0 &  3543 & 27 & 6 & 2019 &  9 & 45 & 12 &  0 & 2 & 15\\\\\n\t SpiceJet  & Chennai & Kolkata & 0 &  3543 & 12 & 6 & 2019 &  9 & 45 & 12 &  0 & 2 & 15\\\\\n\t Vistara   & Chennai & Kolkata & 0 &  3687 & 15 & 6 & 2019 &  7 &  5 &  9 & 20 & 2 & 15\\\\\n\t Vistara   & Chennai & Kolkata & 0 &  3687 & 18 & 6 & 2019 &  7 &  5 &  9 & 20 & 2 & 15\\\\\n\t Vistara   & Chennai & Kolkata & 0 &  7414 &  6 & 3 & 2019 &  7 &  5 &  9 & 20 & 2 & 15\\\\\n\t Vistara   & Chennai & Kolkata & 0 &  3687 & 24 & 5 & 2019 &  7 &  5 &  9 & 20 & 2 & 15\\\\\n\t Vistara   & Chennai & Kolkata & 0 &  4842 & 18 & 3 & 2019 &  7 &  5 &  9 & 20 & 2 & 15\\\\\n\t Vistara   & Chennai & Kolkata & 0 & 11982 & 27 & 6 & 2019 & 17 & 45 & 20 &  5 & 2 & 20\\\\\n\\end{tabular}\n",
            "text/plain": [
              "   Airline   Source  Destination Total_Stops Price Date Month Year Dep_hours\n",
              "1  Air India Chennai Kolkata     0            4667 24   6     2019 11       \n",
              "2  Air India Chennai Kolkata     0            4667  3   5     2019 11       \n",
              "3  IndiGo    Chennai Kolkata     0            6297 12   3     2019 13       \n",
              "4  IndiGo    Chennai Kolkata     0            3540 21   6     2019  5       \n",
              "5  IndiGo    Chennai Kolkata     0            3540 12   5     2019  5       \n",
              "6  IndiGo    Chennai Kolkata     0            3597  3   6     2019 14       \n",
              "7  IndiGo    Chennai Kolkata     0            3858 12   5     2019 14       \n",
              "8  SpiceJet  Chennai Kolkata     0            3332 21   3     2019  8       \n",
              "9  SpiceJet  Chennai Kolkata     0            3543 27   6     2019  9       \n",
              "10 SpiceJet  Chennai Kolkata     0            3543 12   6     2019  9       \n",
              "11 Vistara   Chennai Kolkata     0            3687 15   6     2019  7       \n",
              "12 Vistara   Chennai Kolkata     0            3687 18   6     2019  7       \n",
              "13 Vistara   Chennai Kolkata     0            7414  6   3     2019  7       \n",
              "14 Vistara   Chennai Kolkata     0            3687 24   5     2019  7       \n",
              "15 Vistara   Chennai Kolkata     0            4842 18   3     2019  7       \n",
              "16 Vistara   Chennai Kolkata     0           11982 27   6     2019 17       \n",
              "   Dep_min Arrival_hours Arrival_min Duration_hours Duration_min\n",
              "1  40      13            55          2              15          \n",
              "2  40      13            55          2              15          \n",
              "3  20      15            35          2              15          \n",
              "4  15       7            40          2              25          \n",
              "5  15       7            40          2              25          \n",
              "6  45      17             5          2              20          \n",
              "7  45      17             5          2              20          \n",
              "8  20      10            35          2              15          \n",
              "9  45      12             0          2              15          \n",
              "10 45      12             0          2              15          \n",
              "11  5       9            20          2              15          \n",
              "12  5       9            20          2              15          \n",
              "13  5       9            20          2              15          \n",
              "14  5       9            20          2              15          \n",
              "15  5       9            20          2              15          \n",
              "16 45      20             5          2              20          "
            ]
          },
          "metadata": {}
        }
      ]
    },
    {
      "cell_type": "code",
      "source": [
        "min(flight$Price)"
      ],
      "metadata": {
        "colab": {
          "base_uri": "https://localhost:8080/",
          "height": 34
        },
        "id": "rCqU9EHhHPfq",
        "outputId": "59281e7c-233d-475f-ceff-892b049b7d5e"
      },
      "execution_count": 22,
      "outputs": [
        {
          "output_type": "display_data",
          "data": {
            "text/html": [
              "1965"
            ],
            "text/markdown": "1965",
            "text/latex": "1965",
            "text/plain": [
              "[1] 1965"
            ]
          },
          "metadata": {}
        }
      ]
    },
    {
      "cell_type": "code",
      "source": [
        "mean(flight$Price)"
      ],
      "metadata": {
        "colab": {
          "base_uri": "https://localhost:8080/",
          "height": 34
        },
        "id": "eamzrUdcInNY",
        "outputId": "5e38d1cc-14ef-40a0-e4b2-d8a704f3bd58"
      },
      "execution_count": 23,
      "outputs": [
        {
          "output_type": "display_data",
          "data": {
            "text/html": [
              "8874.35227272727"
            ],
            "text/markdown": "8874.35227272727",
            "text/latex": "8874.35227272727",
            "text/plain": [
              "[1] 8874.352"
            ]
          },
          "metadata": {}
        }
      ]
    },
    {
      "cell_type": "code",
      "source": [
        "max(flight$Price)"
      ],
      "metadata": {
        "colab": {
          "base_uri": "https://localhost:8080/",
          "height": 34
        },
        "id": "glO7H4F9IrSO",
        "outputId": "203dfbec-c424-44fd-ff59-e64796476893"
      },
      "execution_count": 24,
      "outputs": [
        {
          "output_type": "display_data",
          "data": {
            "text/html": [
              "27430"
            ],
            "text/markdown": "27430",
            "text/latex": "27430",
            "text/plain": [
              "[1] 27430"
            ]
          },
          "metadata": {}
        }
      ]
    },
    {
      "cell_type": "code",
      "source": [
        "median(flight$Price)"
      ],
      "metadata": {
        "colab": {
          "base_uri": "https://localhost:8080/",
          "height": 34
        },
        "id": "sK8JuBnQIwZs",
        "outputId": "bc4ab516-82b3-46d9-dbe8-71bbc684acec"
      },
      "execution_count": 25,
      "outputs": [
        {
          "output_type": "display_data",
          "data": {
            "text/html": [
              "8056.5"
            ],
            "text/markdown": "8056.5",
            "text/latex": "8056.5",
            "text/plain": [
              "[1] 8056.5"
            ]
          },
          "metadata": {}
        }
      ]
    },
    {
      "cell_type": "code",
      "source": [
        "aggregate(flight$Dep_hours~flight$Price,FUN =min)"
      ],
      "metadata": {
        "colab": {
          "base_uri": "https://localhost:8080/",
          "height": 1000
        },
        "id": "133ib1Y0JpW-",
        "outputId": "91642fc3-1d5b-49be-e481-05619a5a85be"
      },
      "execution_count": 27,
      "outputs": [
        {
          "output_type": "display_data",
          "data": {
            "text/html": [
              "<table class=\"dataframe\">\n",
              "<caption>A data.frame: 200 × 2</caption>\n",
              "<thead>\n",
              "\t<tr><th scope=col>flight$Price</th><th scope=col>flight$Dep_hours</th></tr>\n",
              "\t<tr><th scope=col>&lt;int&gt;</th><th scope=col>&lt;int&gt;</th></tr>\n",
              "</thead>\n",
              "<tbody>\n",
              "\t<tr><td>1965</td><td> 5</td></tr>\n",
              "\t<tr><td>3100</td><td>15</td></tr>\n",
              "\t<tr><td>3173</td><td>13</td></tr>\n",
              "\t<tr><td>3257</td><td> 5</td></tr>\n",
              "\t<tr><td>3311</td><td> 5</td></tr>\n",
              "\t<tr><td>3332</td><td> 8</td></tr>\n",
              "\t<tr><td>3359</td><td>22</td></tr>\n",
              "\t<tr><td>3383</td><td>11</td></tr>\n",
              "\t<tr><td>3419</td><td> 1</td></tr>\n",
              "\t<tr><td>3527</td><td> 5</td></tr>\n",
              "\t<tr><td>3540</td><td> 5</td></tr>\n",
              "\t<tr><td>3543</td><td> 9</td></tr>\n",
              "\t<tr><td>3597</td><td>14</td></tr>\n",
              "\t<tr><td>3625</td><td>13</td></tr>\n",
              "\t<tr><td>3687</td><td> 7</td></tr>\n",
              "\t<tr><td>3858</td><td>14</td></tr>\n",
              "\t<tr><td>3873</td><td> 9</td></tr>\n",
              "\t<tr><td>3897</td><td>22</td></tr>\n",
              "\t<tr><td>3898</td><td>11</td></tr>\n",
              "\t<tr><td>3943</td><td> 0</td></tr>\n",
              "\t<tr><td>3971</td><td> 5</td></tr>\n",
              "\t<tr><td>4030</td><td> 6</td></tr>\n",
              "\t<tr><td>4049</td><td> 6</td></tr>\n",
              "\t<tr><td>4077</td><td> 1</td></tr>\n",
              "\t<tr><td>4174</td><td>20</td></tr>\n",
              "\t<tr><td>4377</td><td>22</td></tr>\n",
              "\t<tr><td>4409</td><td>10</td></tr>\n",
              "\t<tr><td>4423</td><td> 4</td></tr>\n",
              "\t<tr><td>4441</td><td>13</td></tr>\n",
              "\t<tr><td>4460</td><td>20</td></tr>\n",
              "\t<tr><td>⋮</td><td>⋮</td></tr>\n",
              "\t<tr><td>13748</td><td> 5</td></tr>\n",
              "\t<tr><td>13817</td><td>16</td></tr>\n",
              "\t<tr><td>13843</td><td> 2</td></tr>\n",
              "\t<tr><td>13882</td><td> 9</td></tr>\n",
              "\t<tr><td>13941</td><td> 6</td></tr>\n",
              "\t<tr><td>14011</td><td>16</td></tr>\n",
              "\t<tr><td>14067</td><td>11</td></tr>\n",
              "\t<tr><td>14231</td><td>19</td></tr>\n",
              "\t<tr><td>14277</td><td> 8</td></tr>\n",
              "\t<tr><td>14300</td><td>20</td></tr>\n",
              "\t<tr><td>14323</td><td>10</td></tr>\n",
              "\t<tr><td>14388</td><td>20</td></tr>\n",
              "\t<tr><td>14641</td><td>16</td></tr>\n",
              "\t<tr><td>14676</td><td> 9</td></tr>\n",
              "\t<tr><td>14714</td><td> 8</td></tr>\n",
              "\t<tr><td>14781</td><td> 8</td></tr>\n",
              "\t<tr><td>14924</td><td> 7</td></tr>\n",
              "\t<tr><td>14939</td><td>20</td></tr>\n",
              "\t<tr><td>15129</td><td>19</td></tr>\n",
              "\t<tr><td>15147</td><td>15</td></tr>\n",
              "\t<tr><td>15318</td><td>20</td></tr>\n",
              "\t<tr><td>15554</td><td> 7</td></tr>\n",
              "\t<tr><td>17024</td><td> 2</td></tr>\n",
              "\t<tr><td>17057</td><td> 2</td></tr>\n",
              "\t<tr><td>17345</td><td> 8</td></tr>\n",
              "\t<tr><td>18799</td><td> 5</td></tr>\n",
              "\t<tr><td>19225</td><td> 7</td></tr>\n",
              "\t<tr><td>19495</td><td>14</td></tr>\n",
              "\t<tr><td>22270</td><td> 8</td></tr>\n",
              "\t<tr><td>27430</td><td>23</td></tr>\n",
              "</tbody>\n",
              "</table>\n"
            ],
            "text/markdown": "\nA data.frame: 200 × 2\n\n| flight$Price &lt;int&gt; | flight$Dep_hours &lt;int&gt; |\n|---|---|\n| 1965 |  5 |\n| 3100 | 15 |\n| 3173 | 13 |\n| 3257 |  5 |\n| 3311 |  5 |\n| 3332 |  8 |\n| 3359 | 22 |\n| 3383 | 11 |\n| 3419 |  1 |\n| 3527 |  5 |\n| 3540 |  5 |\n| 3543 |  9 |\n| 3597 | 14 |\n| 3625 | 13 |\n| 3687 |  7 |\n| 3858 | 14 |\n| 3873 |  9 |\n| 3897 | 22 |\n| 3898 | 11 |\n| 3943 |  0 |\n| 3971 |  5 |\n| 4030 |  6 |\n| 4049 |  6 |\n| 4077 |  1 |\n| 4174 | 20 |\n| 4377 | 22 |\n| 4409 | 10 |\n| 4423 |  4 |\n| 4441 | 13 |\n| 4460 | 20 |\n| ⋮ | ⋮ |\n| 13748 |  5 |\n| 13817 | 16 |\n| 13843 |  2 |\n| 13882 |  9 |\n| 13941 |  6 |\n| 14011 | 16 |\n| 14067 | 11 |\n| 14231 | 19 |\n| 14277 |  8 |\n| 14300 | 20 |\n| 14323 | 10 |\n| 14388 | 20 |\n| 14641 | 16 |\n| 14676 |  9 |\n| 14714 |  8 |\n| 14781 |  8 |\n| 14924 |  7 |\n| 14939 | 20 |\n| 15129 | 19 |\n| 15147 | 15 |\n| 15318 | 20 |\n| 15554 |  7 |\n| 17024 |  2 |\n| 17057 |  2 |\n| 17345 |  8 |\n| 18799 |  5 |\n| 19225 |  7 |\n| 19495 | 14 |\n| 22270 |  8 |\n| 27430 | 23 |\n\n",
            "text/latex": "A data.frame: 200 × 2\n\\begin{tabular}{ll}\n flight\\$Price & flight\\$Dep\\_hours\\\\\n <int> & <int>\\\\\n\\hline\n\t 1965 &  5\\\\\n\t 3100 & 15\\\\\n\t 3173 & 13\\\\\n\t 3257 &  5\\\\\n\t 3311 &  5\\\\\n\t 3332 &  8\\\\\n\t 3359 & 22\\\\\n\t 3383 & 11\\\\\n\t 3419 &  1\\\\\n\t 3527 &  5\\\\\n\t 3540 &  5\\\\\n\t 3543 &  9\\\\\n\t 3597 & 14\\\\\n\t 3625 & 13\\\\\n\t 3687 &  7\\\\\n\t 3858 & 14\\\\\n\t 3873 &  9\\\\\n\t 3897 & 22\\\\\n\t 3898 & 11\\\\\n\t 3943 &  0\\\\\n\t 3971 &  5\\\\\n\t 4030 &  6\\\\\n\t 4049 &  6\\\\\n\t 4077 &  1\\\\\n\t 4174 & 20\\\\\n\t 4377 & 22\\\\\n\t 4409 & 10\\\\\n\t 4423 &  4\\\\\n\t 4441 & 13\\\\\n\t 4460 & 20\\\\\n\t ⋮ & ⋮\\\\\n\t 13748 &  5\\\\\n\t 13817 & 16\\\\\n\t 13843 &  2\\\\\n\t 13882 &  9\\\\\n\t 13941 &  6\\\\\n\t 14011 & 16\\\\\n\t 14067 & 11\\\\\n\t 14231 & 19\\\\\n\t 14277 &  8\\\\\n\t 14300 & 20\\\\\n\t 14323 & 10\\\\\n\t 14388 & 20\\\\\n\t 14641 & 16\\\\\n\t 14676 &  9\\\\\n\t 14714 &  8\\\\\n\t 14781 &  8\\\\\n\t 14924 &  7\\\\\n\t 14939 & 20\\\\\n\t 15129 & 19\\\\\n\t 15147 & 15\\\\\n\t 15318 & 20\\\\\n\t 15554 &  7\\\\\n\t 17024 &  2\\\\\n\t 17057 &  2\\\\\n\t 17345 &  8\\\\\n\t 18799 &  5\\\\\n\t 19225 &  7\\\\\n\t 19495 & 14\\\\\n\t 22270 &  8\\\\\n\t 27430 & 23\\\\\n\\end{tabular}\n",
            "text/plain": [
              "    flight$Price flight$Dep_hours\n",
              "1   1965          5              \n",
              "2   3100         15              \n",
              "3   3173         13              \n",
              "4   3257          5              \n",
              "5   3311          5              \n",
              "6   3332          8              \n",
              "7   3359         22              \n",
              "8   3383         11              \n",
              "9   3419          1              \n",
              "10  3527          5              \n",
              "11  3540          5              \n",
              "12  3543          9              \n",
              "13  3597         14              \n",
              "14  3625         13              \n",
              "15  3687          7              \n",
              "16  3858         14              \n",
              "17  3873          9              \n",
              "18  3897         22              \n",
              "19  3898         11              \n",
              "20  3943          0              \n",
              "21  3971          5              \n",
              "22  4030          6              \n",
              "23  4049          6              \n",
              "24  4077          1              \n",
              "25  4174         20              \n",
              "26  4377         22              \n",
              "27  4409         10              \n",
              "28  4423          4              \n",
              "29  4441         13              \n",
              "30  4460         20              \n",
              "⋮   ⋮            ⋮               \n",
              "171 13748         5              \n",
              "172 13817        16              \n",
              "173 13843         2              \n",
              "174 13882         9              \n",
              "175 13941         6              \n",
              "176 14011        16              \n",
              "177 14067        11              \n",
              "178 14231        19              \n",
              "179 14277         8              \n",
              "180 14300        20              \n",
              "181 14323        10              \n",
              "182 14388        20              \n",
              "183 14641        16              \n",
              "184 14676         9              \n",
              "185 14714         8              \n",
              "186 14781         8              \n",
              "187 14924         7              \n",
              "188 14939        20              \n",
              "189 15129        19              \n",
              "190 15147        15              \n",
              "191 15318        20              \n",
              "192 15554         7              \n",
              "193 17024         2              \n",
              "194 17057         2              \n",
              "195 17345         8              \n",
              "196 18799         5              \n",
              "197 19225         7              \n",
              "198 19495        14              \n",
              "199 22270         8              \n",
              "200 27430        23              "
            ]
          },
          "metadata": {}
        }
      ]
    },
    {
      "cell_type": "code",
      "source": [
        "aggregate(flight$Dep_hours~flight$Price,FUN =mean)"
      ],
      "metadata": {
        "colab": {
          "base_uri": "https://localhost:8080/",
          "height": 1000
        },
        "id": "_iDqp5YSKlac",
        "outputId": "71243409-2efc-4556-a8a2-e11f0c53f7be"
      },
      "execution_count": 29,
      "outputs": [
        {
          "output_type": "display_data",
          "data": {
            "text/html": [
              "<table class=\"dataframe\">\n",
              "<caption>A data.frame: 200 × 2</caption>\n",
              "<thead>\n",
              "\t<tr><th scope=col>flight$Price</th><th scope=col>flight$Dep_hours</th></tr>\n",
              "\t<tr><th scope=col>&lt;int&gt;</th><th scope=col>&lt;dbl&gt;</th></tr>\n",
              "</thead>\n",
              "<tbody>\n",
              "\t<tr><td>1965</td><td> 5.00000</td></tr>\n",
              "\t<tr><td>3100</td><td>15.00000</td></tr>\n",
              "\t<tr><td>3173</td><td>13.00000</td></tr>\n",
              "\t<tr><td>3257</td><td> 5.00000</td></tr>\n",
              "\t<tr><td>3311</td><td> 5.00000</td></tr>\n",
              "\t<tr><td>3332</td><td> 8.00000</td></tr>\n",
              "\t<tr><td>3359</td><td>22.00000</td></tr>\n",
              "\t<tr><td>3383</td><td>11.00000</td></tr>\n",
              "\t<tr><td>3419</td><td> 1.00000</td></tr>\n",
              "\t<tr><td>3527</td><td> 5.00000</td></tr>\n",
              "\t<tr><td>3540</td><td> 5.00000</td></tr>\n",
              "\t<tr><td>3543</td><td> 9.00000</td></tr>\n",
              "\t<tr><td>3597</td><td>14.00000</td></tr>\n",
              "\t<tr><td>3625</td><td>13.00000</td></tr>\n",
              "\t<tr><td>3687</td><td> 7.00000</td></tr>\n",
              "\t<tr><td>3858</td><td>14.00000</td></tr>\n",
              "\t<tr><td>3873</td><td>15.50000</td></tr>\n",
              "\t<tr><td>3897</td><td>22.00000</td></tr>\n",
              "\t<tr><td>3898</td><td>11.00000</td></tr>\n",
              "\t<tr><td>3943</td><td>11.28571</td></tr>\n",
              "\t<tr><td>3971</td><td> 5.00000</td></tr>\n",
              "\t<tr><td>4030</td><td> 6.00000</td></tr>\n",
              "\t<tr><td>4049</td><td> 6.00000</td></tr>\n",
              "\t<tr><td>4077</td><td> 1.00000</td></tr>\n",
              "\t<tr><td>4174</td><td>20.00000</td></tr>\n",
              "\t<tr><td>4377</td><td>22.00000</td></tr>\n",
              "\t<tr><td>4409</td><td>10.00000</td></tr>\n",
              "\t<tr><td>4423</td><td> 4.00000</td></tr>\n",
              "\t<tr><td>4441</td><td>13.00000</td></tr>\n",
              "\t<tr><td>4460</td><td>20.00000</td></tr>\n",
              "\t<tr><td>⋮</td><td>⋮</td></tr>\n",
              "\t<tr><td>13748</td><td> 5.00000</td></tr>\n",
              "\t<tr><td>13817</td><td>16.00000</td></tr>\n",
              "\t<tr><td>13843</td><td> 2.00000</td></tr>\n",
              "\t<tr><td>13882</td><td> 9.00000</td></tr>\n",
              "\t<tr><td>13941</td><td> 6.00000</td></tr>\n",
              "\t<tr><td>14011</td><td>16.00000</td></tr>\n",
              "\t<tr><td>14067</td><td>11.00000</td></tr>\n",
              "\t<tr><td>14231</td><td>19.00000</td></tr>\n",
              "\t<tr><td>14277</td><td> 8.00000</td></tr>\n",
              "\t<tr><td>14300</td><td>20.00000</td></tr>\n",
              "\t<tr><td>14323</td><td>10.00000</td></tr>\n",
              "\t<tr><td>14388</td><td>20.00000</td></tr>\n",
              "\t<tr><td>14641</td><td>16.00000</td></tr>\n",
              "\t<tr><td>14676</td><td> 9.00000</td></tr>\n",
              "\t<tr><td>14714</td><td> 8.00000</td></tr>\n",
              "\t<tr><td>14781</td><td> 8.00000</td></tr>\n",
              "\t<tr><td>14924</td><td> 7.00000</td></tr>\n",
              "\t<tr><td>14939</td><td>20.00000</td></tr>\n",
              "\t<tr><td>15129</td><td>21.66667</td></tr>\n",
              "\t<tr><td>15147</td><td>15.00000</td></tr>\n",
              "\t<tr><td>15318</td><td>20.00000</td></tr>\n",
              "\t<tr><td>15554</td><td> 7.00000</td></tr>\n",
              "\t<tr><td>17024</td><td>11.50000</td></tr>\n",
              "\t<tr><td>17057</td><td> 2.00000</td></tr>\n",
              "\t<tr><td>17345</td><td> 8.00000</td></tr>\n",
              "\t<tr><td>18799</td><td> 5.00000</td></tr>\n",
              "\t<tr><td>19225</td><td> 7.00000</td></tr>\n",
              "\t<tr><td>19495</td><td>14.00000</td></tr>\n",
              "\t<tr><td>22270</td><td> 8.00000</td></tr>\n",
              "\t<tr><td>27430</td><td>23.00000</td></tr>\n",
              "</tbody>\n",
              "</table>\n"
            ],
            "text/markdown": "\nA data.frame: 200 × 2\n\n| flight$Price &lt;int&gt; | flight$Dep_hours &lt;dbl&gt; |\n|---|---|\n| 1965 |  5.00000 |\n| 3100 | 15.00000 |\n| 3173 | 13.00000 |\n| 3257 |  5.00000 |\n| 3311 |  5.00000 |\n| 3332 |  8.00000 |\n| 3359 | 22.00000 |\n| 3383 | 11.00000 |\n| 3419 |  1.00000 |\n| 3527 |  5.00000 |\n| 3540 |  5.00000 |\n| 3543 |  9.00000 |\n| 3597 | 14.00000 |\n| 3625 | 13.00000 |\n| 3687 |  7.00000 |\n| 3858 | 14.00000 |\n| 3873 | 15.50000 |\n| 3897 | 22.00000 |\n| 3898 | 11.00000 |\n| 3943 | 11.28571 |\n| 3971 |  5.00000 |\n| 4030 |  6.00000 |\n| 4049 |  6.00000 |\n| 4077 |  1.00000 |\n| 4174 | 20.00000 |\n| 4377 | 22.00000 |\n| 4409 | 10.00000 |\n| 4423 |  4.00000 |\n| 4441 | 13.00000 |\n| 4460 | 20.00000 |\n| ⋮ | ⋮ |\n| 13748 |  5.00000 |\n| 13817 | 16.00000 |\n| 13843 |  2.00000 |\n| 13882 |  9.00000 |\n| 13941 |  6.00000 |\n| 14011 | 16.00000 |\n| 14067 | 11.00000 |\n| 14231 | 19.00000 |\n| 14277 |  8.00000 |\n| 14300 | 20.00000 |\n| 14323 | 10.00000 |\n| 14388 | 20.00000 |\n| 14641 | 16.00000 |\n| 14676 |  9.00000 |\n| 14714 |  8.00000 |\n| 14781 |  8.00000 |\n| 14924 |  7.00000 |\n| 14939 | 20.00000 |\n| 15129 | 21.66667 |\n| 15147 | 15.00000 |\n| 15318 | 20.00000 |\n| 15554 |  7.00000 |\n| 17024 | 11.50000 |\n| 17057 |  2.00000 |\n| 17345 |  8.00000 |\n| 18799 |  5.00000 |\n| 19225 |  7.00000 |\n| 19495 | 14.00000 |\n| 22270 |  8.00000 |\n| 27430 | 23.00000 |\n\n",
            "text/latex": "A data.frame: 200 × 2\n\\begin{tabular}{ll}\n flight\\$Price & flight\\$Dep\\_hours\\\\\n <int> & <dbl>\\\\\n\\hline\n\t 1965 &  5.00000\\\\\n\t 3100 & 15.00000\\\\\n\t 3173 & 13.00000\\\\\n\t 3257 &  5.00000\\\\\n\t 3311 &  5.00000\\\\\n\t 3332 &  8.00000\\\\\n\t 3359 & 22.00000\\\\\n\t 3383 & 11.00000\\\\\n\t 3419 &  1.00000\\\\\n\t 3527 &  5.00000\\\\\n\t 3540 &  5.00000\\\\\n\t 3543 &  9.00000\\\\\n\t 3597 & 14.00000\\\\\n\t 3625 & 13.00000\\\\\n\t 3687 &  7.00000\\\\\n\t 3858 & 14.00000\\\\\n\t 3873 & 15.50000\\\\\n\t 3897 & 22.00000\\\\\n\t 3898 & 11.00000\\\\\n\t 3943 & 11.28571\\\\\n\t 3971 &  5.00000\\\\\n\t 4030 &  6.00000\\\\\n\t 4049 &  6.00000\\\\\n\t 4077 &  1.00000\\\\\n\t 4174 & 20.00000\\\\\n\t 4377 & 22.00000\\\\\n\t 4409 & 10.00000\\\\\n\t 4423 &  4.00000\\\\\n\t 4441 & 13.00000\\\\\n\t 4460 & 20.00000\\\\\n\t ⋮ & ⋮\\\\\n\t 13748 &  5.00000\\\\\n\t 13817 & 16.00000\\\\\n\t 13843 &  2.00000\\\\\n\t 13882 &  9.00000\\\\\n\t 13941 &  6.00000\\\\\n\t 14011 & 16.00000\\\\\n\t 14067 & 11.00000\\\\\n\t 14231 & 19.00000\\\\\n\t 14277 &  8.00000\\\\\n\t 14300 & 20.00000\\\\\n\t 14323 & 10.00000\\\\\n\t 14388 & 20.00000\\\\\n\t 14641 & 16.00000\\\\\n\t 14676 &  9.00000\\\\\n\t 14714 &  8.00000\\\\\n\t 14781 &  8.00000\\\\\n\t 14924 &  7.00000\\\\\n\t 14939 & 20.00000\\\\\n\t 15129 & 21.66667\\\\\n\t 15147 & 15.00000\\\\\n\t 15318 & 20.00000\\\\\n\t 15554 &  7.00000\\\\\n\t 17024 & 11.50000\\\\\n\t 17057 &  2.00000\\\\\n\t 17345 &  8.00000\\\\\n\t 18799 &  5.00000\\\\\n\t 19225 &  7.00000\\\\\n\t 19495 & 14.00000\\\\\n\t 22270 &  8.00000\\\\\n\t 27430 & 23.00000\\\\\n\\end{tabular}\n",
            "text/plain": [
              "    flight$Price flight$Dep_hours\n",
              "1   1965          5.00000        \n",
              "2   3100         15.00000        \n",
              "3   3173         13.00000        \n",
              "4   3257          5.00000        \n",
              "5   3311          5.00000        \n",
              "6   3332          8.00000        \n",
              "7   3359         22.00000        \n",
              "8   3383         11.00000        \n",
              "9   3419          1.00000        \n",
              "10  3527          5.00000        \n",
              "11  3540          5.00000        \n",
              "12  3543          9.00000        \n",
              "13  3597         14.00000        \n",
              "14  3625         13.00000        \n",
              "15  3687          7.00000        \n",
              "16  3858         14.00000        \n",
              "17  3873         15.50000        \n",
              "18  3897         22.00000        \n",
              "19  3898         11.00000        \n",
              "20  3943         11.28571        \n",
              "21  3971          5.00000        \n",
              "22  4030          6.00000        \n",
              "23  4049          6.00000        \n",
              "24  4077          1.00000        \n",
              "25  4174         20.00000        \n",
              "26  4377         22.00000        \n",
              "27  4409         10.00000        \n",
              "28  4423          4.00000        \n",
              "29  4441         13.00000        \n",
              "30  4460         20.00000        \n",
              "⋮   ⋮            ⋮               \n",
              "171 13748         5.00000        \n",
              "172 13817        16.00000        \n",
              "173 13843         2.00000        \n",
              "174 13882         9.00000        \n",
              "175 13941         6.00000        \n",
              "176 14011        16.00000        \n",
              "177 14067        11.00000        \n",
              "178 14231        19.00000        \n",
              "179 14277         8.00000        \n",
              "180 14300        20.00000        \n",
              "181 14323        10.00000        \n",
              "182 14388        20.00000        \n",
              "183 14641        16.00000        \n",
              "184 14676         9.00000        \n",
              "185 14714         8.00000        \n",
              "186 14781         8.00000        \n",
              "187 14924         7.00000        \n",
              "188 14939        20.00000        \n",
              "189 15129        21.66667        \n",
              "190 15147        15.00000        \n",
              "191 15318        20.00000        \n",
              "192 15554         7.00000        \n",
              "193 17024        11.50000        \n",
              "194 17057         2.00000        \n",
              "195 17345         8.00000        \n",
              "196 18799         5.00000        \n",
              "197 19225         7.00000        \n",
              "198 19495        14.00000        \n",
              "199 22270         8.00000        \n",
              "200 27430        23.00000        "
            ]
          },
          "metadata": {}
        }
      ]
    },
    {
      "cell_type": "code",
      "source": [
        "flight %>%\n",
        "mutate( Total_Stops= as.character(Total_Stops)) %>%\n",
        "group_by(Airline, Source) %>%\n",
        "summarise(Arrival_hours = n()\n",
        ",average_Duration_hours = mean(Duration_hours))"
      ],
      "metadata": {
        "colab": {
          "base_uri": "https://localhost:8080/",
          "height": 1000
        },
        "id": "UiKkSRiQLKvj",
        "outputId": "89f3d530-4652-4100-a8f1-3befccae80a4"
      },
      "execution_count": 33,
      "outputs": [
        {
          "output_type": "stream",
          "name": "stderr",
          "text": [
            "\u001b[1m\u001b[22m`summarise()` has grouped output by 'Airline'. You can override using the\n",
            "`.groups` argument.\n"
          ]
        },
        {
          "output_type": "display_data",
          "data": {
            "text/html": [
              "<table class=\"dataframe\">\n",
              "<caption>A grouped_df: 30 × 4</caption>\n",
              "<thead>\n",
              "\t<tr><th scope=col>Airline</th><th scope=col>Source</th><th scope=col>Arrival_hours</th><th scope=col>average_Duration_hours</th></tr>\n",
              "\t<tr><th scope=col>&lt;chr&gt;</th><th scope=col>&lt;chr&gt;</th><th scope=col>&lt;int&gt;</th><th scope=col>&lt;dbl&gt;</th></tr>\n",
              "</thead>\n",
              "<tbody>\n",
              "\t<tr><td>Air Asia         </td><td>Banglore</td><td> 3</td><td> 2.000000</td></tr>\n",
              "\t<tr><td>Air Asia         </td><td>Kolkata </td><td> 1</td><td> 2.000000</td></tr>\n",
              "\t<tr><td>Air India        </td><td>Banglore</td><td> 9</td><td> 6.222222</td></tr>\n",
              "\t<tr><td>Air India        </td><td>Chennai </td><td> 2</td><td> 2.000000</td></tr>\n",
              "\t<tr><td>Air India        </td><td>Delhi   </td><td>19</td><td>18.052632</td></tr>\n",
              "\t<tr><td>Air India        </td><td>Kolkata </td><td>12</td><td>14.500000</td></tr>\n",
              "\t<tr><td>Air India        </td><td>Mumbai  </td><td> 3</td><td> 1.000000</td></tr>\n",
              "\t<tr><td>GoAir            </td><td>Banglore</td><td> 3</td><td> 2.000000</td></tr>\n",
              "\t<tr><td>GoAir            </td><td>Delhi   </td><td> 3</td><td> 5.000000</td></tr>\n",
              "\t<tr><td>GoAir            </td><td>Kolkata </td><td> 2</td><td> 8.500000</td></tr>\n",
              "\t<tr><td>IndiGo           </td><td>Banglore</td><td>20</td><td> 2.250000</td></tr>\n",
              "\t<tr><td>IndiGo           </td><td>Chennai </td><td> 5</td><td> 2.000000</td></tr>\n",
              "\t<tr><td>IndiGo           </td><td>Delhi   </td><td>20</td><td> 6.900000</td></tr>\n",
              "\t<tr><td>IndiGo           </td><td>Kolkata </td><td> 6</td><td> 2.500000</td></tr>\n",
              "\t<tr><td>IndiGo           </td><td>Mumbai  </td><td> 1</td><td> 1.000000</td></tr>\n",
              "\t<tr><td>Jet Airways      </td><td>Banglore</td><td>17</td><td>11.117647</td></tr>\n",
              "\t<tr><td>Jet Airways      </td><td>Delhi   </td><td>40</td><td>16.725000</td></tr>\n",
              "\t<tr><td>Jet Airways      </td><td>Kolkata </td><td>28</td><td>16.464286</td></tr>\n",
              "\t<tr><td>Jet Airways      </td><td>Mumbai  </td><td> 6</td><td> 1.000000</td></tr>\n",
              "\t<tr><td>Multiple carriers</td><td>Delhi   </td><td>30</td><td>10.200000</td></tr>\n",
              "\t<tr><td>SpiceJet         </td><td>Banglore</td><td> 4</td><td> 2.000000</td></tr>\n",
              "\t<tr><td>SpiceJet         </td><td>Chennai </td><td> 3</td><td> 2.000000</td></tr>\n",
              "\t<tr><td>SpiceJet         </td><td>Delhi   </td><td> 5</td><td> 4.200000</td></tr>\n",
              "\t<tr><td>SpiceJet         </td><td>Kolkata </td><td> 3</td><td> 3.000000</td></tr>\n",
              "\t<tr><td>SpiceJet         </td><td>Mumbai  </td><td> 2</td><td> 1.000000</td></tr>\n",
              "\t<tr><td>Vistara          </td><td>Banglore</td><td> 5</td><td> 2.000000</td></tr>\n",
              "\t<tr><td>Vistara          </td><td>Chennai </td><td> 6</td><td> 2.000000</td></tr>\n",
              "\t<tr><td>Vistara          </td><td>Delhi   </td><td> 2</td><td> 3.000000</td></tr>\n",
              "\t<tr><td>Vistara          </td><td>Kolkata </td><td> 3</td><td>16.000000</td></tr>\n",
              "\t<tr><td>Vistara          </td><td>Mumbai  </td><td> 1</td><td>25.000000</td></tr>\n",
              "</tbody>\n",
              "</table>\n"
            ],
            "text/markdown": "\nA grouped_df: 30 × 4\n\n| Airline &lt;chr&gt; | Source &lt;chr&gt; | Arrival_hours &lt;int&gt; | average_Duration_hours &lt;dbl&gt; |\n|---|---|---|---|\n| Air Asia          | Banglore |  3 |  2.000000 |\n| Air Asia          | Kolkata  |  1 |  2.000000 |\n| Air India         | Banglore |  9 |  6.222222 |\n| Air India         | Chennai  |  2 |  2.000000 |\n| Air India         | Delhi    | 19 | 18.052632 |\n| Air India         | Kolkata  | 12 | 14.500000 |\n| Air India         | Mumbai   |  3 |  1.000000 |\n| GoAir             | Banglore |  3 |  2.000000 |\n| GoAir             | Delhi    |  3 |  5.000000 |\n| GoAir             | Kolkata  |  2 |  8.500000 |\n| IndiGo            | Banglore | 20 |  2.250000 |\n| IndiGo            | Chennai  |  5 |  2.000000 |\n| IndiGo            | Delhi    | 20 |  6.900000 |\n| IndiGo            | Kolkata  |  6 |  2.500000 |\n| IndiGo            | Mumbai   |  1 |  1.000000 |\n| Jet Airways       | Banglore | 17 | 11.117647 |\n| Jet Airways       | Delhi    | 40 | 16.725000 |\n| Jet Airways       | Kolkata  | 28 | 16.464286 |\n| Jet Airways       | Mumbai   |  6 |  1.000000 |\n| Multiple carriers | Delhi    | 30 | 10.200000 |\n| SpiceJet          | Banglore |  4 |  2.000000 |\n| SpiceJet          | Chennai  |  3 |  2.000000 |\n| SpiceJet          | Delhi    |  5 |  4.200000 |\n| SpiceJet          | Kolkata  |  3 |  3.000000 |\n| SpiceJet          | Mumbai   |  2 |  1.000000 |\n| Vistara           | Banglore |  5 |  2.000000 |\n| Vistara           | Chennai  |  6 |  2.000000 |\n| Vistara           | Delhi    |  2 |  3.000000 |\n| Vistara           | Kolkata  |  3 | 16.000000 |\n| Vistara           | Mumbai   |  1 | 25.000000 |\n\n",
            "text/latex": "A grouped\\_df: 30 × 4\n\\begin{tabular}{llll}\n Airline & Source & Arrival\\_hours & average\\_Duration\\_hours\\\\\n <chr> & <chr> & <int> & <dbl>\\\\\n\\hline\n\t Air Asia          & Banglore &  3 &  2.000000\\\\\n\t Air Asia          & Kolkata  &  1 &  2.000000\\\\\n\t Air India         & Banglore &  9 &  6.222222\\\\\n\t Air India         & Chennai  &  2 &  2.000000\\\\\n\t Air India         & Delhi    & 19 & 18.052632\\\\\n\t Air India         & Kolkata  & 12 & 14.500000\\\\\n\t Air India         & Mumbai   &  3 &  1.000000\\\\\n\t GoAir             & Banglore &  3 &  2.000000\\\\\n\t GoAir             & Delhi    &  3 &  5.000000\\\\\n\t GoAir             & Kolkata  &  2 &  8.500000\\\\\n\t IndiGo            & Banglore & 20 &  2.250000\\\\\n\t IndiGo            & Chennai  &  5 &  2.000000\\\\\n\t IndiGo            & Delhi    & 20 &  6.900000\\\\\n\t IndiGo            & Kolkata  &  6 &  2.500000\\\\\n\t IndiGo            & Mumbai   &  1 &  1.000000\\\\\n\t Jet Airways       & Banglore & 17 & 11.117647\\\\\n\t Jet Airways       & Delhi    & 40 & 16.725000\\\\\n\t Jet Airways       & Kolkata  & 28 & 16.464286\\\\\n\t Jet Airways       & Mumbai   &  6 &  1.000000\\\\\n\t Multiple carriers & Delhi    & 30 & 10.200000\\\\\n\t SpiceJet          & Banglore &  4 &  2.000000\\\\\n\t SpiceJet          & Chennai  &  3 &  2.000000\\\\\n\t SpiceJet          & Delhi    &  5 &  4.200000\\\\\n\t SpiceJet          & Kolkata  &  3 &  3.000000\\\\\n\t SpiceJet          & Mumbai   &  2 &  1.000000\\\\\n\t Vistara           & Banglore &  5 &  2.000000\\\\\n\t Vistara           & Chennai  &  6 &  2.000000\\\\\n\t Vistara           & Delhi    &  2 &  3.000000\\\\\n\t Vistara           & Kolkata  &  3 & 16.000000\\\\\n\t Vistara           & Mumbai   &  1 & 25.000000\\\\\n\\end{tabular}\n",
            "text/plain": [
              "   Airline           Source   Arrival_hours average_Duration_hours\n",
              "1  Air Asia          Banglore  3             2.000000             \n",
              "2  Air Asia          Kolkata   1             2.000000             \n",
              "3  Air India         Banglore  9             6.222222             \n",
              "4  Air India         Chennai   2             2.000000             \n",
              "5  Air India         Delhi    19            18.052632             \n",
              "6  Air India         Kolkata  12            14.500000             \n",
              "7  Air India         Mumbai    3             1.000000             \n",
              "8  GoAir             Banglore  3             2.000000             \n",
              "9  GoAir             Delhi     3             5.000000             \n",
              "10 GoAir             Kolkata   2             8.500000             \n",
              "11 IndiGo            Banglore 20             2.250000             \n",
              "12 IndiGo            Chennai   5             2.000000             \n",
              "13 IndiGo            Delhi    20             6.900000             \n",
              "14 IndiGo            Kolkata   6             2.500000             \n",
              "15 IndiGo            Mumbai    1             1.000000             \n",
              "16 Jet Airways       Banglore 17            11.117647             \n",
              "17 Jet Airways       Delhi    40            16.725000             \n",
              "18 Jet Airways       Kolkata  28            16.464286             \n",
              "19 Jet Airways       Mumbai    6             1.000000             \n",
              "20 Multiple carriers Delhi    30            10.200000             \n",
              "21 SpiceJet          Banglore  4             2.000000             \n",
              "22 SpiceJet          Chennai   3             2.000000             \n",
              "23 SpiceJet          Delhi     5             4.200000             \n",
              "24 SpiceJet          Kolkata   3             3.000000             \n",
              "25 SpiceJet          Mumbai    2             1.000000             \n",
              "26 Vistara           Banglore  5             2.000000             \n",
              "27 Vistara           Chennai   6             2.000000             \n",
              "28 Vistara           Delhi     2             3.000000             \n",
              "29 Vistara           Kolkata   3            16.000000             \n",
              "30 Vistara           Mumbai    1            25.000000             "
            ]
          },
          "metadata": {}
        }
      ]
    },
    {
      "cell_type": "code",
      "source": [
        "flight %>%\n",
        "arrange(Airline, Source) %>%\n",
        "ggplot(aes(x =Airline , y = Duration_hours, fill = Source)) +\n",
        "geom_col(position = \"dodge\")"
      ],
      "metadata": {
        "colab": {
          "base_uri": "https://localhost:8080/",
          "height": 437
        },
        "id": "pmTTj0a3Mo4c",
        "outputId": "b6ba6dd7-f658-416a-9691-65a211ae069c"
      },
      "execution_count": 35,
      "outputs": [
        {
          "output_type": "display_data",
          "data": {
            "text/plain": [
              "plot without title"
            ],
            "image/png": "[encoded data removed]"
          },
          "metadata": {
            "image/png": {
              "width": 420,
              "height": 420
            }
          }
        }
      ]
    },
    {
      "cell_type": "code",
      "source": [
        "ggplot(data = flight,aes(x=Airline,y=Price))+ geom_point(aes(shape=Source))"
      ],
      "metadata": {
        "colab": {
          "base_uri": "https://localhost:8080/",
          "height": 437
        },
        "id": "fu0kwIcFONTi",
        "outputId": "5a465bed-3eab-4b06-f99e-27d00034f634"
      },
      "execution_count": 38,
      "outputs": [
        {
          "output_type": "display_data",
          "data": {
            "text/plain": [
              "plot without title"
            ],
            "image/png": "[encoded data removed]"
          },
          "metadata": {
            "image/png": {
              "width": 420,
              "height": 420
            }
          }
        }
      ]
    },
    {
      "cell_type": "code",
      "source": [
        "ggplot(data = flight,aes(x=Airline,y=Price))+ geom_point(aes(color=Source,shape=Source)) +\n",
        "  facet_wrap(~Source)"
      ],
      "metadata": {
        "colab": {
          "base_uri": "https://localhost:8080/",
          "height": 437
        },
        "id": "0EfbciLrPfyc",
        "outputId": "4b54b725-8516-4577-c1af-11e8fc1ad818"
      },
      "execution_count": 39,
      "outputs": [
        {
          "output_type": "display_data",
          "data": {
            "text/plain": [
              "plot without title"
            ],
            "image/png": "[encoded data removed]"
          },
          "metadata": {
            "image/png": {
              "width": 420,
              "height": 420
            }
          }
        }
      ]
    }
  ]
}